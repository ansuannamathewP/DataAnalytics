{
 "cells": [
  {
   "cell_type": "code",
   "execution_count": 358,
   "metadata": {},
   "outputs": [],
   "source": [
    "#importing the pandas library\n",
    "import pandas as pd\n",
    "#importing the numpy library\n",
    "import numpy as np\n",
    "from sklearn import preprocessing\n",
    "import matplotlib.pyplot as plt \n",
    "plt.rc(\"font\", size=14)\n",
    "from sklearn.linear_model import LogisticRegression\n",
    "from sklearn.cross_validation import train_test_split\n",
    "import seaborn as sns\n",
    "sns.set(style=\"white\")\n",
    "sns.set(style=\"whitegrid\", color_codes=True)"
   ]
  },
  {
   "cell_type": "code",
   "execution_count": 359,
   "metadata": {
    "scrolled": true
   },
   "outputs": [],
   "source": [
    "df=pd.read_excel(\"D:/Users/aamathew/Desktop/Final Project/Interview dataset.xlsx\",\"Sheet1\")"
   ]
  },
  {
   "cell_type": "code",
   "execution_count": 360,
   "metadata": {},
   "outputs": [
    {
     "name": "stdout",
     "output_type": "stream",
     "text": [
      "     Date of Interview              Client name         Industry   Location  \\\n",
      "0           13.02.2015                  Hospira  Pharmaceuticals    Chennai   \n",
      "1           13.02.2015                  Hospira  Pharmaceuticals    Chennai   \n",
      "2           13.02.2015                  Hospira  Pharmaceuticals    Chennai   \n",
      "3           13.02.2015                  Hospira  Pharmaceuticals    Chennai   \n",
      "4           13.02.2015                  Hospira  Pharmaceuticals    Chennai   \n",
      "5           13.02.2015               Aon Hewitt      IT Services    Gurgaon   \n",
      "6           13.02.2015               Aon Hewitt      IT Services    Gurgaon   \n",
      "7           13.02.2015               Aon Hewitt      IT Services    Gurgaon   \n",
      "8           13.02.2015               Aon Hewitt      IT Services    Gurgaon   \n",
      "9           13.02.2015               Aon Hewitt      IT Services    Gurgaon   \n",
      "10          19.06.2015                      UST      IT Services  Bangalore   \n",
      "11          19.06.2015                      UST      IT Services  Bangalore   \n",
      "12          19.06.2015                      UST      IT Services  Bangalore   \n",
      "13          19.06.2015                      UST      IT Services  Bangalore   \n",
      "14          19.06.2015                      UST      IT Services  Bangalore   \n",
      "15          19.06.2015                      UST      IT Services  Bangalore   \n",
      "16          19.06.2015                      UST      IT Services  Bangalore   \n",
      "17          19.06.2015                      UST      IT Services  Bangalore   \n",
      "18          19.06.2015                      UST      IT Services  Bangalore   \n",
      "19          19.06.2015                      UST      IT Services  Bangalore   \n",
      "20          19.06.2015                      UST      IT Services  Bangalore   \n",
      "21          19.06.2015                      UST      IT Services  Bangalore   \n",
      "22          19.06.2015                      UST      IT Services  Bangalore   \n",
      "23          19.06.2015                      UST      IT Services  Bangalore   \n",
      "24          19.06.2015                      UST      IT Services  Bangalore   \n",
      "25          19.06.2015                      UST      IT Services  Bangalore   \n",
      "26          19.06.2015                      UST      IT Services  Bangalore   \n",
      "27          19.06.2015                      UST      IT Services  Bangalore   \n",
      "28          23.06.2015  Standard Chartered Bank             BFSI    Chennai   \n",
      "29          23.06.2015  Standard Chartered Bank             BFSI    Chennai   \n",
      "...                ...                      ...              ...        ...   \n",
      "1204         30.1.2016  Standard Chartered Bank             BFSI    Chennai   \n",
      "1205        30.01.2016  Standard Chartered Bank             BFSI    Chennai   \n",
      "1206        30.01.2016  Standard Chartered Bank             BFSI    Chennai   \n",
      "1207        30.01.2016  Standard Chartered Bank             BFSI    Chennai   \n",
      "1208        30.01.2016  Standard Chartered Bank             BFSI    Chennai   \n",
      "1209        30.01.2016  Standard Chartered Bank             BFSI    Chennai   \n",
      "1210        30.01.2016  Standard Chartered Bank             BFSI    Chennai   \n",
      "1211          30.01.16  Standard Chartered Bank             BFSI    Chennai   \n",
      "1212          30.01.16  Standard Chartered Bank             BFSI    Chennai   \n",
      "1213          30.01.16  Standard Chartered Bank             BFSI    Chennai   \n",
      "1214         30-1-2016  Standard Chartered Bank             BFSI    Chennai   \n",
      "1215        30.01.2016  Standard Chartered Bank             BFSI    Chennai   \n",
      "1216        30.01.2016  Standard Chartered Bank             BFSI    Chennai   \n",
      "1217        07.05.2016                   Pfizer  Pharmaceuticals    Chennai   \n",
      "1218        07.05.2016                   Pfizer  Pharmaceuticals    Chennai   \n",
      "1219        07.05.2016                   Pfizer  Pharmaceuticals    Chennai   \n",
      "1220        07.05.2016                   Pfizer  Pharmaceuticals    Chennai   \n",
      "1221        07.05.2016                   Pfizer  Pharmaceuticals    Chennai   \n",
      "1222        07.05.2016                   Pfizer  Pharmaceuticals    Chennai   \n",
      "1223        07.05.2016                   Pfizer  Pharmaceuticals    Chennai   \n",
      "1224        07.05.2016                   Pfizer  Pharmaceuticals    Chennai   \n",
      "1225        07.05.2016                   Pfizer  Pharmaceuticals    Chennai   \n",
      "1226        07.05.2016                   Pfizer  Pharmaceuticals    Chennai   \n",
      "1227        07.05.2016                   Pfizer  Pharmaceuticals    Chennai   \n",
      "1228        07.05.2016                   Pfizer  Pharmaceuticals    Chennai   \n",
      "1229        07.05.2016                   Pfizer  Pharmaceuticals    Chennai   \n",
      "1230        06.05.2016                   Pfizer  Pharmaceuticals    Chennai   \n",
      "1231        06.05.2016                   Pfizer  Pharmaceuticals    Chennai   \n",
      "1232        06.05.2016                   Pfizer  Pharmaceuticals    Chennai   \n",
      "1233               NaN                       ﻿﻿              NaN        NaN   \n",
      "\n",
      "     Position to be closed  Nature of Skillset     Interview Type  \\\n",
      "0      Production- Sterile             Routine   Scheduled Walkin   \n",
      "1      Production- Sterile             Routine   Scheduled Walkin   \n",
      "2      Production- Sterile             Routine   Scheduled Walkin   \n",
      "3      Production- Sterile             Routine   Scheduled Walkin   \n",
      "4      Production- Sterile             Routine   Scheduled Walkin   \n",
      "5         Selenium testing             Routine   Scheduled Walkin   \n",
      "6         Selenium testing             Routine   Scheduled Walkin   \n",
      "7         Selenium testing             Routine   Scheduled Walkin   \n",
      "8         Selenium testing             Routine   Scheduled Walkin   \n",
      "9         Selenium testing             Routine   Scheduled Walkin   \n",
      "10                 Dot Net             Routine   Scheduled Walkin   \n",
      "11                 Dot Net             Routine   Scheduled Walkin   \n",
      "12                 Dot Net             Routine   Scheduled Walkin   \n",
      "13                 Dot Net             Routine   Scheduled Walkin   \n",
      "14                 Dot Net             Routine   Scheduled Walkin   \n",
      "15                 Dot Net             Routine   Scheduled Walkin   \n",
      "16                 Dot Net             Routine   Scheduled Walkin   \n",
      "17                 Dot Net             Routine   Scheduled Walkin   \n",
      "18                 Dot Net             Routine   Scheduled Walkin   \n",
      "19                 Dot Net             Routine   Scheduled Walkin   \n",
      "20                 Dot Net             Routine   Scheduled Walkin   \n",
      "21                 Dot Net             Routine   Scheduled Walkin   \n",
      "22                 Dot Net             Routine   Scheduled Walkin   \n",
      "23                 Dot Net             Routine   Scheduled Walkin   \n",
      "24                 Dot Net             Routine   Scheduled Walkin   \n",
      "25                 Dot Net             Routine   Scheduled Walkin   \n",
      "26                 Dot Net             Routine   Scheduled Walkin   \n",
      "27                 Dot Net             Routine   Scheduled Walkin   \n",
      "28                     AML             Routine   Scheduled Walkin   \n",
      "29                     AML             Routine   Scheduled Walkin   \n",
      "...                    ...                 ...                ...   \n",
      "1204               Routine               Java   Scheduled Walk In   \n",
      "1205               Routine               Java   Scheduled Walk In   \n",
      "1206               Routine               Java   Scheduled Walk In   \n",
      "1207               Routine               Java   Scheduled Walk In   \n",
      "1208               Routine               Java   Scheduled Walk In   \n",
      "1209               Routine               Java   Scheduled Walk In   \n",
      "1210               Routine               Java   Scheduled Walk In   \n",
      "1211               Routine                Java  Scheduled Walk In   \n",
      "1212               Routine                Java  Scheduled Walk In   \n",
      "1213               Routine                Java  Scheduled Walk In   \n",
      "1214               Routine                Java  Scheduled Walk In   \n",
      "1215               Routine                Java  Scheduled Walk In   \n",
      "1216               Routine                Java  Scheduled Walk In   \n",
      "1217                 Niche        Biosimiliars         Scheduled    \n",
      "1218                 Niche       RA Publishing         Scheduled    \n",
      "1219                 Niche       RA Publishing         Scheduled    \n",
      "1220                 Niche       RA Publishing         Scheduled    \n",
      "1221                 Niche                EMEA         Scheduled    \n",
      "1222                 Niche                EMEA         Scheduled    \n",
      "1223                 Niche                EMEA         Scheduled    \n",
      "1224                 Niche        Biosimiliars         Scheduled    \n",
      "1225                 Niche        LCM -Manager         Scheduled    \n",
      "1226                 Niche      Licensing – RA         Scheduled    \n",
      "1227                 Niche      Licensing – RA         Scheduled    \n",
      "1228                 Niche  generic drugs – RA         Scheduled    \n",
      "1229                 Niche        Biosimiliars         Scheduled    \n",
      "1230                 Niche        Biosimiliars         Scheduled    \n",
      "1231                 Niche  generic drugs – RA         Scheduled    \n",
      "1232                 Niche  generic drugs – RA         Scheduled    \n",
      "1233                   NaN                 NaN                NaN   \n",
      "\n",
      "       Name(Cand ID)  Gender Candidate Current Location      ...        \\\n",
      "0        Candidate 1    Male                    Chennai      ...         \n",
      "1        Candidate 2    Male                    Chennai      ...         \n",
      "2        Candidate 3    Male                    Chennai      ...         \n",
      "3        Candidate 4    Male                    Chennai      ...         \n",
      "4        Candidate 5    Male                    Chennai      ...         \n",
      "5        Candidate 6    Male                    Gurgaon      ...         \n",
      "6        Candidate 7    Male                    Gurgaon      ...         \n",
      "7        Candidate 8  Female                    Gurgaon      ...         \n",
      "8        Candidate 9    Male                    Gurgaon      ...         \n",
      "9       Candidate 10  Female                    Gurgaon      ...         \n",
      "10      Candidate 11    Male                  Bangalore      ...         \n",
      "11      Candidate 12  Female                  Bangalore      ...         \n",
      "12      Candidate 13    Male                  Bangalore      ...         \n",
      "13      Candidate 14    Male                  Bangalore      ...         \n",
      "14      Candidate 15    Male                  Bangalore      ...         \n",
      "15      Candidate 16  Female                  Bangalore      ...         \n",
      "16      Candidate 17  Female                  Bangalore      ...         \n",
      "17      Candidate 18  Female                  Bangalore      ...         \n",
      "18      Candidate 19    Male                  Bangalore      ...         \n",
      "19      Candidate 20    Male                  Bangalore      ...         \n",
      "20      Candidate 21    Male                  Bangalore      ...         \n",
      "21      Candidate 22    Male                  Bangalore      ...         \n",
      "22      Candidate 23    Male                  Bangalore      ...         \n",
      "23      Candidate 24    Male                  Bangalore      ...         \n",
      "24      Candidate 25    Male                  Bangalore      ...         \n",
      "25      Candidate 26    Male                  Bangalore      ...         \n",
      "26      Candidate 27    Male                  Bangalore      ...         \n",
      "27      Candidate 28    Male                  Bangalore      ...         \n",
      "28      Candidate 29  Female                    Chennai      ...         \n",
      "29      Candidate 30  Female                    Chennai      ...         \n",
      "...              ...     ...                        ...      ...         \n",
      "1204  Candidate 1205    Male                    Chennai      ...         \n",
      "1205  Candidate 1206  Female                    Chennai      ...         \n",
      "1206  Candidate 1207    Male                    Chennai      ...         \n",
      "1207  Candidate 1208    Male                    Chennai      ...         \n",
      "1208  Candidate 1209    Male                    Chennai      ...         \n",
      "1209  Candidate 1210    Male                    Chennai      ...         \n",
      "1210  Candidate 1211    Male                    Chennai      ...         \n",
      "1211  Candidate 1212    Male                    Chennai      ...         \n",
      "1212  Candidate 1213    Male                    Chennai      ...         \n",
      "1213  Candidate 1214    Male                    Chennai      ...         \n",
      "1214  Candidate 1215  Female                    Chennai      ...         \n",
      "1215  Candidate 1216    Male                    Chennai      ...         \n",
      "1216  Candidate 1217    Male                    Chennai      ...         \n",
      "1217  Candidate 1218    Male                    Chennai      ...         \n",
      "1218  Candidate 1219    Male                    Chennai      ...         \n",
      "1219  Candidate 1220    Male                    Chennai      ...         \n",
      "1220  Candidate 1221    Male                    Chennai      ...         \n",
      "1221  Candidate 1222    Male                    Chennai      ...         \n",
      "1222  Candidate 1223    Male                    Chennai      ...         \n",
      "1223  Candidate 1224    Male                    Chennai      ...         \n",
      "1224  Candidate 1225    Male                    Chennai      ...         \n",
      "1225  Candidate 1226    Male                    Chennai      ...         \n",
      "1226  Candidate 1227    Male                    Chennai      ...         \n",
      "1227  Candidate 1228    Male                    Chennai      ...         \n",
      "1228  Candidate 1229    Male                    Chennai      ...         \n",
      "1229  Candidate 1230    Male                    Chennai      ...         \n",
      "1230  Candidate 1231    Male                    Chennai      ...         \n",
      "1231  Candidate 1232    Male                    Chennai      ...         \n",
      "1232  Candidate 1233  Female                    Chennai      ...         \n",
      "1233             NaN     NaN                        NaN      ...         \n",
      "\n",
      "     Have you obtained the necessary permission to start at the required time  \\\n",
      "0                                                   Yes                         \n",
      "1                                                   Yes                         \n",
      "2                                                   NaN                         \n",
      "3                                                   Yes                         \n",
      "4                                                   Yes                         \n",
      "5                                                   Yes                         \n",
      "6                                                   Yes                         \n",
      "7                                                   Yes                         \n",
      "8                                                   Yes                         \n",
      "9                                                   Yes                         \n",
      "10                                                  Yes                         \n",
      "11                                                   No                         \n",
      "12                                                  Yes                         \n",
      "13                                                   No                         \n",
      "14                                                  Yes                         \n",
      "15                                                  Yes                         \n",
      "16                                                  Yes                         \n",
      "17                                                   No                         \n",
      "18                                                  Yes                         \n",
      "19                                                  Yes                         \n",
      "20                                              Not yet                         \n",
      "21                                                  Yes                         \n",
      "22                                                  Yes                         \n",
      "23                                                  Yes                         \n",
      "24                                                  Yes                         \n",
      "25                                                   No                         \n",
      "26                                                   No                         \n",
      "27                                                   No                         \n",
      "28                                                  Yes                         \n",
      "29                                                  Yes                         \n",
      "...                                                 ...                         \n",
      "1204                                                Yes                         \n",
      "1205                                                Yes                         \n",
      "1206                                                Yes                         \n",
      "1207                                                Yes                         \n",
      "1208                                                Yes                         \n",
      "1209                                                Yes                         \n",
      "1210                                                Yes                         \n",
      "1211                                                Yes                         \n",
      "1212                                                Yes                         \n",
      "1213                                                Yes                         \n",
      "1214                                                Yes                         \n",
      "1215                                                Yes                         \n",
      "1216                                                Yes                         \n",
      "1217                                                Yes                         \n",
      "1218                                                Yes                         \n",
      "1219                                                Yes                         \n",
      "1220                                                Yes                         \n",
      "1221                                                Yes                         \n",
      "1222                                                Yes                         \n",
      "1223                                                Yes                         \n",
      "1224                                                Yes                         \n",
      "1225                                                Yes                         \n",
      "1226                                                Yes                         \n",
      "1227                                                Yes                         \n",
      "1228                                                Yes                         \n",
      "1229                                                Yes                         \n",
      "1230                                                Yes                         \n",
      "1231                                                Yes                         \n",
      "1232                                                NaN                         \n",
      "1233                                                NaN                         \n",
      "\n",
      "     Hope there will be no unscheduled meetings  \\\n",
      "0                                           Yes   \n",
      "1                                           Yes   \n",
      "2                                            Na   \n",
      "3                                           Yes   \n",
      "4                                           Yes   \n",
      "5                                           Yes   \n",
      "6                                           Yes   \n",
      "7                                           Yes   \n",
      "8                                           Yes   \n",
      "9                                           Yes   \n",
      "10                                          Yes   \n",
      "11                                          Yes   \n",
      "12                                          Yes   \n",
      "13                                          Yes   \n",
      "14                                          Yes   \n",
      "15                                          Yes   \n",
      "16                                          Yes   \n",
      "17                                          Yes   \n",
      "18                                          Yes   \n",
      "19                                          Yes   \n",
      "20                                          Yes   \n",
      "21                                          Yes   \n",
      "22                                          Yes   \n",
      "23                                          Yes   \n",
      "24                                          Yes   \n",
      "25                                           No   \n",
      "26                                          Yes   \n",
      "27                                          Yes   \n",
      "28                                          Yes   \n",
      "29                                          Yes   \n",
      "...                                         ...   \n",
      "1204                                        Yes   \n",
      "1205                                        Yes   \n",
      "1206                                        Yes   \n",
      "1207                                        Yes   \n",
      "1208                                        Yes   \n",
      "1209                                        Yes   \n",
      "1210                                        Yes   \n",
      "1211                                        Yes   \n",
      "1212                                        Yes   \n",
      "1213                                        Yes   \n",
      "1214                                        Yes   \n",
      "1215                                        Yes   \n",
      "1216                                        Yes   \n",
      "1217                                        Yes   \n",
      "1218                                        Yes   \n",
      "1219                                        Yes   \n",
      "1220                                        Yes   \n",
      "1221                                        Yes   \n",
      "1222                                        Yes   \n",
      "1223                                        Yes   \n",
      "1224                                        Yes   \n",
      "1225                                        Yes   \n",
      "1226                                        Yes   \n",
      "1227                                        Yes   \n",
      "1228                                        Yes   \n",
      "1229                                        Yes   \n",
      "1230                                        Yes   \n",
      "1231                                        Yes   \n",
      "1232                                        NaN   \n",
      "1233                                        NaN   \n",
      "\n",
      "     Can I Call you three hours before the interview and follow up on your attendance for the interview  \\\n",
      "0                                                   Yes                                                   \n",
      "1                                                   Yes                                                   \n",
      "2                                                   NaN                                                   \n",
      "3                                                    No                                                   \n",
      "4                                                   Yes                                                   \n",
      "5                                                   Yes                                                   \n",
      "6                                                   Yes                                                   \n",
      "7                                                   Yes                                                   \n",
      "8                                                   Yes                                                   \n",
      "9                                                   Yes                                                   \n",
      "10                                                  Yes                                                   \n",
      "11                                                   No                                                   \n",
      "12                                                  Yes                                                   \n",
      "13                                                  Yes                                                   \n",
      "14                                                  Yes                                                   \n",
      "15                                                  Yes                                                   \n",
      "16                                                  Yes                                                   \n",
      "17                                                  Yes                                                   \n",
      "18                                                  Yes                                                   \n",
      "19                                                  Yes                                                   \n",
      "20                                                  Yes                                                   \n",
      "21                                                  Yes                                                   \n",
      "22                                                  Yes                                                   \n",
      "23                                                  Yes                                                   \n",
      "24                                                  Yes                                                   \n",
      "25                                                  Yes                                                   \n",
      "26                                                  Yes                                                   \n",
      "27                                                  Yes                                                   \n",
      "28                                                  Yes                                                   \n",
      "29                                                  Yes                                                   \n",
      "...                                                 ...                                                   \n",
      "1204                                                Yes                                                   \n",
      "1205                                                Yes                                                   \n",
      "1206                                                Yes                                                   \n",
      "1207                                                Yes                                                   \n",
      "1208                                                Yes                                                   \n",
      "1209                                                Yes                                                   \n",
      "1210                                                Yes                                                   \n",
      "1211                                                Yes                                                   \n",
      "1212                                                Yes                                                   \n",
      "1213                                                Yes                                                   \n",
      "1214                                                Yes                                                   \n",
      "1215                                                Yes                                                   \n",
      "1216                                                Yes                                                   \n",
      "1217                                                Yes                                                   \n",
      "1218                                                Yes                                                   \n",
      "1219                                                Yes                                                   \n",
      "1220                                                Yes                                                   \n",
      "1221                                                Yes                                                   \n",
      "1222                                                Yes                                                   \n",
      "1223                                                Yes                                                   \n",
      "1224                                                Yes                                                   \n",
      "1225                                                Yes                                                   \n",
      "1226                                                Yes                                                   \n",
      "1227                                                Yes                                                   \n",
      "1228                                                Yes                                                   \n",
      "1229                                                Yes                                                   \n",
      "1230                                                Yes                                                   \n",
      "1231                                                Yes                                                   \n",
      "1232                                                NaN                                                   \n",
      "1233                                                NaN                                                   \n",
      "\n",
      "     Can I have an alternative number/ desk number. I assure you that I will not trouble you too much  \\\n",
      "0                                                   Yes                                                 \n",
      "1                                                   Yes                                                 \n",
      "2                                                   NaN                                                 \n",
      "3                                                   Yes                                                 \n",
      "4                                                    No                                                 \n",
      "5                                                   Yes                                                 \n",
      "6                                                   Yes                                                 \n",
      "7                                                   Yes                                                 \n",
      "8                                                   Yes                                                 \n",
      "9                                                   Yes                                                 \n",
      "10                                                  Yes                                                 \n",
      "11                                                   No                                                 \n",
      "12                                                  Yes                                                 \n",
      "13                                                  Yes                                                 \n",
      "14                                                  Yes                                                 \n",
      "15                                                  Yes                                                 \n",
      "16                                                  Yes                                                 \n",
      "17                                                   No                                                 \n",
      "18                                                  Yes                                                 \n",
      "19                                                  Yes                                                 \n",
      "20                                                  Yes                                                 \n",
      "21                                                  Yes                                                 \n",
      "22                                                  Yes                                                 \n",
      "23                                                  Yes                                                 \n",
      "24                                                   No                                                 \n",
      "25                                                  Yes                                                 \n",
      "26                                                  Yes                                                 \n",
      "27                                                  Yes                                                 \n",
      "28                                                  Yes                                                 \n",
      "29                                                  Yes                                                 \n",
      "...                                                 ...                                                 \n",
      "1204                                                Yes                                                 \n",
      "1205                                                Yes                                                 \n",
      "1206                                                Yes                                                 \n",
      "1207                                                Yes                                                 \n",
      "1208                                                Yes                                                 \n",
      "1209                                                Yes                                                 \n",
      "1210                                                Yes                                                 \n",
      "1211                                                Yes                                                 \n",
      "1212                                                Yes                                                 \n",
      "1213                                                Yes                                                 \n",
      "1214                                                Yes                                                 \n",
      "1215                                                Yes                                                 \n",
      "1216                                                Yes                                                 \n",
      "1217                                                Yes                                                 \n",
      "1218                                                Yes                                                 \n",
      "1219                                                Yes                                                 \n",
      "1220                                                Yes                                                 \n",
      "1221                                                Yes                                                 \n",
      "1222                                                Yes                                                 \n",
      "1223                                                Yes                                                 \n",
      "1224                                                Yes                                                 \n",
      "1225                                                Yes                                                 \n",
      "1226                                                Yes                                                 \n",
      "1227                                                Yes                                                 \n",
      "1228                                                Yes                                                 \n",
      "1229                                                Yes                                                 \n",
      "1230                                                Yes                                                 \n",
      "1231                                                Yes                                                 \n",
      "1232                                                NaN                                                 \n",
      "1233                                                NaN                                                 \n",
      "\n",
      "     Have you taken a printout of your updated resume. Have you read the JD and understood the same  \\\n",
      "0                                                   Yes                                               \n",
      "1                                                   Yes                                               \n",
      "2                                                   NaN                                               \n",
      "3                                                    No                                               \n",
      "4                                                   Yes                                               \n",
      "5                                                   Yes                                               \n",
      "6                                                   Yes                                               \n",
      "7                                                   Yes                                               \n",
      "8                                                   Yes                                               \n",
      "9                                                   Yes                                               \n",
      "10                                                  Yes                                               \n",
      "11                                                  Yes                                               \n",
      "12                                                  Yes                                               \n",
      "13                                                  Yes                                               \n",
      "14                                                  Yes                                               \n",
      "15                                                  Yes                                               \n",
      "16                                                  Yes                                               \n",
      "17                                                  Yes                                               \n",
      "18                                                  Yes                                               \n",
      "19                                                  Yes                                               \n",
      "20                                                  Yes                                               \n",
      "21                                                  Yes                                               \n",
      "22                                                  Yes                                               \n",
      "23                                                  Yes                                               \n",
      "24                                                   No                                               \n",
      "25                                                  Yes                                               \n",
      "26                                                  Yes                                               \n",
      "27                                                   No                                               \n",
      "28                                                  Yes                                               \n",
      "29                                                  Yes                                               \n",
      "...                                                 ...                                               \n",
      "1204                                                Yes                                               \n",
      "1205                                                Yes                                               \n",
      "1206                                                Yes                                               \n",
      "1207                                                Yes                                               \n",
      "1208                                                Yes                                               \n",
      "1209                                                Yes                                               \n",
      "1210                                                Yes                                               \n",
      "1211                                                Yes                                               \n",
      "1212                                                Yes                                               \n",
      "1213                                                Yes                                               \n",
      "1214                                                Yes                                               \n",
      "1215                                                Yes                                               \n",
      "1216                                                Yes                                               \n",
      "1217                                                Yes                                               \n",
      "1218                                                Yes                                               \n",
      "1219                                                Yes                                               \n",
      "1220                                                Yes                                               \n",
      "1221                                                Yes                                               \n",
      "1222                                                Yes                                               \n",
      "1223                                                Yes                                               \n",
      "1224                                                Yes                                               \n",
      "1225                                                Yes                                               \n",
      "1226                                                Yes                                               \n",
      "1227                                                Yes                                               \n",
      "1228                                                Yes                                               \n",
      "1229                                                Yes                                               \n",
      "1230                                                Yes                                               \n",
      "1231                                                Yes                                               \n",
      "1232                                                NaN                                               \n",
      "1233                                                NaN                                               \n",
      "\n",
      "     Are you clear with the venue details and the landmark.  \\\n",
      "0                                                   Yes       \n",
      "1                                                   Yes       \n",
      "2                                                   NaN       \n",
      "3                                                   Yes       \n",
      "4                                                   Yes       \n",
      "5                                                   Yes       \n",
      "6                                                   Yes       \n",
      "7                                                   Yes       \n",
      "8                                                   Yes       \n",
      "9                                                   Yes       \n",
      "10                                                  Yes       \n",
      "11                                                  Yes       \n",
      "12                                                  Yes       \n",
      "13                                                  Yes       \n",
      "14                                                  Yes       \n",
      "15                                                  Yes       \n",
      "16                                                  Yes       \n",
      "17                                                  Yes       \n",
      "18                                                  Yes       \n",
      "19                                                  Yes       \n",
      "20                                                  Yes       \n",
      "21                                                  Yes       \n",
      "22                                                  Yes       \n",
      "23                                                  Yes       \n",
      "24                                                  Yes       \n",
      "25                                                  Yes       \n",
      "26                                                  Yes       \n",
      "27                                                  Yes       \n",
      "28                                                  Yes       \n",
      "29                                                  Yes       \n",
      "...                                                 ...       \n",
      "1204                                                Yes       \n",
      "1205                                                Yes       \n",
      "1206                                                Yes       \n",
      "1207                                                Yes       \n",
      "1208                                                Yes       \n",
      "1209                                                Yes       \n",
      "1210                                                Yes       \n",
      "1211                                                Yes       \n",
      "1212                                                Yes       \n",
      "1213                                                Yes       \n",
      "1214                                                Yes       \n",
      "1215                                                Yes       \n",
      "1216                                                Yes       \n",
      "1217                                                Yes       \n",
      "1218                                                Yes       \n",
      "1219                                                Yes       \n",
      "1220                                                Yes       \n",
      "1221                                                Yes       \n",
      "1222                                                Yes       \n",
      "1223                                                Yes       \n",
      "1224                                                Yes       \n",
      "1225                                                Yes       \n",
      "1226                                                Yes       \n",
      "1227                                                Yes       \n",
      "1228                                                Yes       \n",
      "1229                                                Yes       \n",
      "1230                                                Yes       \n",
      "1231                                                Yes       \n",
      "1232                                                NaN       \n",
      "1233                                                NaN       \n",
      "\n",
      "     Has the call letter been shared Expected Attendance Observed Attendance  \\\n",
      "0                                Yes                 Yes                  No   \n",
      "1                                Yes                 Yes                  No   \n",
      "2                                NaN           Uncertain                  No   \n",
      "3                                Yes           Uncertain                  No   \n",
      "4                                Yes           Uncertain                  No   \n",
      "5                                Yes                 Yes                 Yes   \n",
      "6                                Yes                 Yes                 Yes   \n",
      "7                                Yes                 Yes                 Yes   \n",
      "8                                Yes                 Yes                 Yes   \n",
      "9                                Yes                 Yes                  No   \n",
      "10                               Yes                 Yes                 Yes   \n",
      "11                               Yes           Uncertain                  No   \n",
      "12                               Yes                 Yes                 Yes   \n",
      "13                    Havent Checked           Uncertain                 Yes   \n",
      "14                               Yes                 Yes                 Yes   \n",
      "15                               Yes                 Yes                 Yes   \n",
      "16                               Yes                 Yes                 Yes   \n",
      "17                               Yes                  No                  No   \n",
      "18                               Yes                 Yes                 Yes   \n",
      "19                               Yes                 Yes                  No   \n",
      "20                                No                  No                  No   \n",
      "21                               Yes                 Yes                 Yes   \n",
      "22                               Yes                 Yes                 Yes   \n",
      "23                               Yes                 Yes                 Yes   \n",
      "24                               Yes           Uncertain                  No   \n",
      "25                                No                  No                  No   \n",
      "26                                No                  No                  No   \n",
      "27                                No                  No                  No   \n",
      "28                               Yes                 Yes                 Yes   \n",
      "29                               Yes                 Yes                 Yes   \n",
      "...                              ...                 ...                 ...   \n",
      "1204                             Yes                 Yes                 yes   \n",
      "1205                             Yes                 Yes                 Yes   \n",
      "1206                             Yes                 Yes                 Yes   \n",
      "1207                             Yes                 Yes                  No   \n",
      "1208                             Yes                 Yes                 yes   \n",
      "1209                             Yes                 Yes                 yes   \n",
      "1210                             Yes                 Yes                 yes   \n",
      "1211                             Yes                 Yes                 yes   \n",
      "1212                             Yes                 Yes                 no    \n",
      "1213                             Yes                 Yes                  no   \n",
      "1214                             Yes                 Yes                 Yes   \n",
      "1215                             Yes                 Yes                 Yes   \n",
      "1216                             Yes                 Yes                  no   \n",
      "1217                             Yes                 Yes                 Yes   \n",
      "1218                             Yes                 Yes                 Yes   \n",
      "1219                             Yes                 Yes                 Yes   \n",
      "1220                             Yes                 Yes                 Yes   \n",
      "1221                             Yes                 Yes                 Yes   \n",
      "1222                             Yes                 Yes                 Yes   \n",
      "1223                             Yes                 Yes                 Yes   \n",
      "1224                             Yes                 Yes                 Yes   \n",
      "1225                             Yes                 Yes                 Yes   \n",
      "1226                             Yes                 Yes                 Yes   \n",
      "1227                             Yes                 Yes                 Yes   \n",
      "1228                             Yes                 Yes                 Yes   \n",
      "1229                             Yes                 Yes                 Yes   \n",
      "1230                             Yes                 Yes                 Yes   \n",
      "1231                             Yes                 Yes                 Yes   \n",
      "1232                             NaN           Uncertain                 Yes   \n",
      "1233                             NaN                 NaN                 NaN   \n",
      "\n",
      "     Marital Status  \n",
      "0            Single  \n",
      "1            Single  \n",
      "2            Single  \n",
      "3            Single  \n",
      "4           Married  \n",
      "5            Single  \n",
      "6            Single  \n",
      "7            Single  \n",
      "8            Single  \n",
      "9            Single  \n",
      "10           Single  \n",
      "11           Single  \n",
      "12           Single  \n",
      "13           Single  \n",
      "14           Single  \n",
      "15           Single  \n",
      "16           Single  \n",
      "17           Single  \n",
      "18           Single  \n",
      "19           Single  \n",
      "20           Single  \n",
      "21           Single  \n",
      "22           Single  \n",
      "23           Single  \n",
      "24           Single  \n",
      "25           Single  \n",
      "26          Married  \n",
      "27           Single  \n",
      "28          Married  \n",
      "29          Married  \n",
      "...             ...  \n",
      "1204         Single  \n",
      "1205         Single  \n",
      "1206        Married  \n",
      "1207        Married  \n",
      "1208        Married  \n",
      "1209         Single  \n",
      "1210        Married  \n",
      "1211         Single  \n",
      "1212         Single  \n",
      "1213        Married  \n",
      "1214        Married  \n",
      "1215         Single  \n",
      "1216         Single  \n",
      "1217        Married  \n",
      "1218        Married  \n",
      "1219        Married  \n",
      "1220         Single  \n",
      "1221         Single  \n",
      "1222        Married  \n",
      "1223        Married  \n",
      "1224        Married  \n",
      "1225         Single  \n",
      "1226        Married  \n",
      "1227        Married  \n",
      "1228        Married  \n",
      "1229         Single  \n",
      "1230        Married  \n",
      "1231         Single  \n",
      "1232         Single  \n",
      "1233            NaN  \n",
      "\n",
      "[1234 rows x 23 columns]\n"
     ]
    }
   ],
   "source": [
    "print(df)"
   ]
  },
  {
   "cell_type": "code",
   "execution_count": 361,
   "metadata": {},
   "outputs": [
    {
     "name": "stdout",
     "output_type": "stream",
     "text": [
      "(1234, 23)\n",
      "['Date of Interview', 'Client name', 'Industry', 'Location', 'Position to be closed', 'Nature of Skillset', 'Interview Type', 'Name(Cand ID)', 'Gender', 'Candidate Current Location', 'Candidate Job Location', 'Interview Venue', 'Candidate Native location', 'Have you obtained the necessary permission to start at the required time', 'Hope there will be no unscheduled meetings', 'Can I Call you three hours before the interview and follow up on your attendance for the interview', 'Can I have an alternative number/ desk number. I assure you that I will not trouble you too much', 'Have you taken a printout of your updated resume. Have you read the JD and understood the same', 'Are you clear with the venue details and the landmark.', 'Has the call letter been shared', 'Expected Attendance', 'Observed Attendance', 'Marital Status']\n"
     ]
    }
   ],
   "source": [
    "print(df.shape)\n",
    "print(list(df.columns))"
   ]
  },
  {
   "cell_type": "code",
   "execution_count": 362,
   "metadata": {},
   "outputs": [
    {
     "data": {
      "text/html": [
       "<div>\n",
       "<style scoped>\n",
       "    .dataframe tbody tr th:only-of-type {\n",
       "        vertical-align: middle;\n",
       "    }\n",
       "\n",
       "    .dataframe tbody tr th {\n",
       "        vertical-align: top;\n",
       "    }\n",
       "\n",
       "    .dataframe thead th {\n",
       "        text-align: right;\n",
       "    }\n",
       "</style>\n",
       "<table border=\"1\" class=\"dataframe\">\n",
       "  <thead>\n",
       "    <tr style=\"text-align: right;\">\n",
       "      <th></th>\n",
       "      <th>Date of Interview</th>\n",
       "      <th>Client name</th>\n",
       "      <th>Industry</th>\n",
       "      <th>Location</th>\n",
       "      <th>Position to be closed</th>\n",
       "      <th>Nature of Skillset</th>\n",
       "      <th>Interview Type</th>\n",
       "      <th>Name(Cand ID)</th>\n",
       "      <th>Gender</th>\n",
       "      <th>Candidate Current Location</th>\n",
       "      <th>...</th>\n",
       "      <th>Have you obtained the necessary permission to start at the required time</th>\n",
       "      <th>Hope there will be no unscheduled meetings</th>\n",
       "      <th>Can I Call you three hours before the interview and follow up on your attendance for the interview</th>\n",
       "      <th>Can I have an alternative number/ desk number. I assure you that I will not trouble you too much</th>\n",
       "      <th>Have you taken a printout of your updated resume. Have you read the JD and understood the same</th>\n",
       "      <th>Are you clear with the venue details and the landmark.</th>\n",
       "      <th>Has the call letter been shared</th>\n",
       "      <th>Expected Attendance</th>\n",
       "      <th>Observed Attendance</th>\n",
       "      <th>Marital Status</th>\n",
       "    </tr>\n",
       "  </thead>\n",
       "  <tbody>\n",
       "    <tr>\n",
       "      <th>0</th>\n",
       "      <td>13.02.2015</td>\n",
       "      <td>Hospira</td>\n",
       "      <td>Pharmaceuticals</td>\n",
       "      <td>Chennai</td>\n",
       "      <td>Production- Sterile</td>\n",
       "      <td>Routine</td>\n",
       "      <td>Scheduled Walkin</td>\n",
       "      <td>Candidate 1</td>\n",
       "      <td>Male</td>\n",
       "      <td>Chennai</td>\n",
       "      <td>...</td>\n",
       "      <td>Yes</td>\n",
       "      <td>Yes</td>\n",
       "      <td>Yes</td>\n",
       "      <td>Yes</td>\n",
       "      <td>Yes</td>\n",
       "      <td>Yes</td>\n",
       "      <td>Yes</td>\n",
       "      <td>Yes</td>\n",
       "      <td>No</td>\n",
       "      <td>Single</td>\n",
       "    </tr>\n",
       "    <tr>\n",
       "      <th>1</th>\n",
       "      <td>13.02.2015</td>\n",
       "      <td>Hospira</td>\n",
       "      <td>Pharmaceuticals</td>\n",
       "      <td>Chennai</td>\n",
       "      <td>Production- Sterile</td>\n",
       "      <td>Routine</td>\n",
       "      <td>Scheduled Walkin</td>\n",
       "      <td>Candidate 2</td>\n",
       "      <td>Male</td>\n",
       "      <td>Chennai</td>\n",
       "      <td>...</td>\n",
       "      <td>Yes</td>\n",
       "      <td>Yes</td>\n",
       "      <td>Yes</td>\n",
       "      <td>Yes</td>\n",
       "      <td>Yes</td>\n",
       "      <td>Yes</td>\n",
       "      <td>Yes</td>\n",
       "      <td>Yes</td>\n",
       "      <td>No</td>\n",
       "      <td>Single</td>\n",
       "    </tr>\n",
       "    <tr>\n",
       "      <th>2</th>\n",
       "      <td>13.02.2015</td>\n",
       "      <td>Hospira</td>\n",
       "      <td>Pharmaceuticals</td>\n",
       "      <td>Chennai</td>\n",
       "      <td>Production- Sterile</td>\n",
       "      <td>Routine</td>\n",
       "      <td>Scheduled Walkin</td>\n",
       "      <td>Candidate 3</td>\n",
       "      <td>Male</td>\n",
       "      <td>Chennai</td>\n",
       "      <td>...</td>\n",
       "      <td>NaN</td>\n",
       "      <td>Na</td>\n",
       "      <td>NaN</td>\n",
       "      <td>NaN</td>\n",
       "      <td>NaN</td>\n",
       "      <td>NaN</td>\n",
       "      <td>NaN</td>\n",
       "      <td>Uncertain</td>\n",
       "      <td>No</td>\n",
       "      <td>Single</td>\n",
       "    </tr>\n",
       "    <tr>\n",
       "      <th>3</th>\n",
       "      <td>13.02.2015</td>\n",
       "      <td>Hospira</td>\n",
       "      <td>Pharmaceuticals</td>\n",
       "      <td>Chennai</td>\n",
       "      <td>Production- Sterile</td>\n",
       "      <td>Routine</td>\n",
       "      <td>Scheduled Walkin</td>\n",
       "      <td>Candidate 4</td>\n",
       "      <td>Male</td>\n",
       "      <td>Chennai</td>\n",
       "      <td>...</td>\n",
       "      <td>Yes</td>\n",
       "      <td>Yes</td>\n",
       "      <td>No</td>\n",
       "      <td>Yes</td>\n",
       "      <td>No</td>\n",
       "      <td>Yes</td>\n",
       "      <td>Yes</td>\n",
       "      <td>Uncertain</td>\n",
       "      <td>No</td>\n",
       "      <td>Single</td>\n",
       "    </tr>\n",
       "    <tr>\n",
       "      <th>4</th>\n",
       "      <td>13.02.2015</td>\n",
       "      <td>Hospira</td>\n",
       "      <td>Pharmaceuticals</td>\n",
       "      <td>Chennai</td>\n",
       "      <td>Production- Sterile</td>\n",
       "      <td>Routine</td>\n",
       "      <td>Scheduled Walkin</td>\n",
       "      <td>Candidate 5</td>\n",
       "      <td>Male</td>\n",
       "      <td>Chennai</td>\n",
       "      <td>...</td>\n",
       "      <td>Yes</td>\n",
       "      <td>Yes</td>\n",
       "      <td>Yes</td>\n",
       "      <td>No</td>\n",
       "      <td>Yes</td>\n",
       "      <td>Yes</td>\n",
       "      <td>Yes</td>\n",
       "      <td>Uncertain</td>\n",
       "      <td>No</td>\n",
       "      <td>Married</td>\n",
       "    </tr>\n",
       "  </tbody>\n",
       "</table>\n",
       "<p>5 rows × 23 columns</p>\n",
       "</div>"
      ],
      "text/plain": [
       "  Date of Interview Client name         Industry Location  \\\n",
       "0        13.02.2015     Hospira  Pharmaceuticals  Chennai   \n",
       "1        13.02.2015     Hospira  Pharmaceuticals  Chennai   \n",
       "2        13.02.2015     Hospira  Pharmaceuticals  Chennai   \n",
       "3        13.02.2015     Hospira  Pharmaceuticals  Chennai   \n",
       "4        13.02.2015     Hospira  Pharmaceuticals  Chennai   \n",
       "\n",
       "  Position to be closed Nature of Skillset    Interview Type Name(Cand ID)  \\\n",
       "0   Production- Sterile            Routine  Scheduled Walkin   Candidate 1   \n",
       "1   Production- Sterile            Routine  Scheduled Walkin   Candidate 2   \n",
       "2   Production- Sterile            Routine  Scheduled Walkin   Candidate 3   \n",
       "3   Production- Sterile            Routine  Scheduled Walkin   Candidate 4   \n",
       "4   Production- Sterile            Routine  Scheduled Walkin   Candidate 5   \n",
       "\n",
       "  Gender Candidate Current Location      ...        \\\n",
       "0   Male                    Chennai      ...         \n",
       "1   Male                    Chennai      ...         \n",
       "2   Male                    Chennai      ...         \n",
       "3   Male                    Chennai      ...         \n",
       "4   Male                    Chennai      ...         \n",
       "\n",
       "  Have you obtained the necessary permission to start at the required time  \\\n",
       "0                                                Yes                         \n",
       "1                                                Yes                         \n",
       "2                                                NaN                         \n",
       "3                                                Yes                         \n",
       "4                                                Yes                         \n",
       "\n",
       "  Hope there will be no unscheduled meetings  \\\n",
       "0                                        Yes   \n",
       "1                                        Yes   \n",
       "2                                         Na   \n",
       "3                                        Yes   \n",
       "4                                        Yes   \n",
       "\n",
       "  Can I Call you three hours before the interview and follow up on your attendance for the interview  \\\n",
       "0                                                Yes                                                   \n",
       "1                                                Yes                                                   \n",
       "2                                                NaN                                                   \n",
       "3                                                 No                                                   \n",
       "4                                                Yes                                                   \n",
       "\n",
       "  Can I have an alternative number/ desk number. I assure you that I will not trouble you too much  \\\n",
       "0                                                Yes                                                 \n",
       "1                                                Yes                                                 \n",
       "2                                                NaN                                                 \n",
       "3                                                Yes                                                 \n",
       "4                                                 No                                                 \n",
       "\n",
       "  Have you taken a printout of your updated resume. Have you read the JD and understood the same  \\\n",
       "0                                                Yes                                               \n",
       "1                                                Yes                                               \n",
       "2                                                NaN                                               \n",
       "3                                                 No                                               \n",
       "4                                                Yes                                               \n",
       "\n",
       "  Are you clear with the venue details and the landmark.  \\\n",
       "0                                                Yes       \n",
       "1                                                Yes       \n",
       "2                                                NaN       \n",
       "3                                                Yes       \n",
       "4                                                Yes       \n",
       "\n",
       "  Has the call letter been shared Expected Attendance Observed Attendance  \\\n",
       "0                             Yes                 Yes                  No   \n",
       "1                             Yes                 Yes                  No   \n",
       "2                             NaN           Uncertain                  No   \n",
       "3                             Yes           Uncertain                  No   \n",
       "4                             Yes           Uncertain                  No   \n",
       "\n",
       "  Marital Status  \n",
       "0         Single  \n",
       "1         Single  \n",
       "2         Single  \n",
       "3         Single  \n",
       "4        Married  \n",
       "\n",
       "[5 rows x 23 columns]"
      ]
     },
     "execution_count": 362,
     "metadata": {},
     "output_type": "execute_result"
    }
   ],
   "source": [
    "df.head()"
   ]
  },
  {
   "cell_type": "code",
   "execution_count": 363,
   "metadata": {},
   "outputs": [
    {
     "data": {
      "text/plain": [
       "array(['Hospira', 'Aon Hewitt', 'UST', 'Standard Chartered Bank', 'ANZ',\n",
       "       'Pfizer', 'Standard Chartered Bank Chennai', 'Aon hewitt Gurgaon',\n",
       "       'Astrazeneca', 'Flextronics', 'Prodapt', 'Williams Lea',\n",
       "       'Barclays', 'Hewitt', 'Woori Bank', '\\ufeff\\ufeff'], dtype=object)"
      ]
     },
     "execution_count": 363,
     "metadata": {},
     "output_type": "execute_result"
    }
   ],
   "source": [
    "df['Client name'].unique()"
   ]
  },
  {
   "cell_type": "code",
   "execution_count": 364,
   "metadata": {},
   "outputs": [],
   "source": [
    "df['Client name']=np.where(df['Client name'] =='Aon hewitt Gurgaon', 'Aon Hewitt', df['Client name'])"
   ]
  },
  {
   "cell_type": "code",
   "execution_count": 365,
   "metadata": {},
   "outputs": [
    {
     "data": {
      "text/plain": [
       "array(['Hospira', 'Aon Hewitt', 'UST', 'Standard Chartered Bank', 'ANZ',\n",
       "       'Pfizer', 'Standard Chartered Bank Chennai', 'Astrazeneca',\n",
       "       'Flextronics', 'Prodapt', 'Williams Lea', 'Barclays', 'Hewitt',\n",
       "       'Woori Bank', '\\ufeff\\ufeff'], dtype=object)"
      ]
     },
     "execution_count": 365,
     "metadata": {},
     "output_type": "execute_result"
    }
   ],
   "source": [
    "df['Client name'].unique()"
   ]
  },
  {
   "cell_type": "code",
   "execution_count": 366,
   "metadata": {},
   "outputs": [],
   "source": [
    "df['Client name']=np.where(df['Client name'] =='Aon Hewitt', 'Hewitt', df['Client name'])\n",
    "df['Client name']=np.where(df['Client name'] =='Standard Chartered Bank Chennai', 'Standard Chartered Bank', df['Client name'])\n",
    "\n",
    "#df['Client name']=np.where(df['Client name'] =='\\ufeff\\ufeff', '', df['Client name'])"
   ]
  },
  {
   "cell_type": "code",
   "execution_count": 367,
   "metadata": {},
   "outputs": [
    {
     "data": {
      "text/plain": [
       "array(['Hospira', 'Hewitt', 'UST', 'Standard Chartered Bank', 'ANZ',\n",
       "       'Pfizer', 'Astrazeneca', 'Flextronics', 'Prodapt', 'Williams Lea',\n",
       "       'Barclays', 'Woori Bank', '\\ufeff\\ufeff'], dtype=object)"
      ]
     },
     "execution_count": 367,
     "metadata": {},
     "output_type": "execute_result"
    }
   ],
   "source": [
    "df['Client name'].unique()"
   ]
  },
  {
   "cell_type": "code",
   "execution_count": 368,
   "metadata": {},
   "outputs": [
    {
     "data": {
      "text/plain": [
       "array(['Chennai', 'Gurgaon', 'Bangalore', 'Hyderabad', 'Gurgaonr',\n",
       "       'Delhi', 'chennai', '- Cochin- ', 'Noida', 'CHENNAI', 'chennai ',\n",
       "       nan], dtype=object)"
      ]
     },
     "execution_count": 368,
     "metadata": {},
     "output_type": "execute_result"
    }
   ],
   "source": [
    "df['Location'].unique()"
   ]
  },
  {
   "cell_type": "code",
   "execution_count": 369,
   "metadata": {},
   "outputs": [],
   "source": [
    "df['Location']=np.where(df['Location'] =='Gurgaonr', 'Gurgaon', df['Location'])\n",
    "df['Location']=np.where(df['Location'] =='chennai', 'Chennai', df['Location'])\n",
    "df['Location']=np.where(df['Location'] =='CHENNAI', 'Chennai', df['Location'])\n",
    "df['Location']=np.where(df['Location'] =='chennai ', 'Chennai', df['Location'])\n",
    "df['Location']=np.where(df['Location'] =='- Cochin- ', 'Cochin', df['Location'])"
   ]
  },
  {
   "cell_type": "code",
   "execution_count": 370,
   "metadata": {},
   "outputs": [
    {
     "data": {
      "text/plain": [
       "array(['Chennai', 'Gurgaon', 'Bangalore', 'Hyderabad', 'Delhi', 'Cochin',\n",
       "       'Noida', nan], dtype=object)"
      ]
     },
     "execution_count": 370,
     "metadata": {},
     "output_type": "execute_result"
    }
   ],
   "source": [
    "df['Location'].unique()"
   ]
  },
  {
   "cell_type": "code",
   "execution_count": 371,
   "metadata": {},
   "outputs": [
    {
     "data": {
      "text/plain": [
       "array(['Routine', 'Oracle', 'Accounting Operations', 'Banking Operations',\n",
       "       'Fresher', 'AML/KYC/CDD', 'CDD KYC', 'Biosimiliars', 'RA Label',\n",
       "       'RA Publishing', 'EMEA', 'LCM -Manager', 'Licensing – RA',\n",
       "       'generic drugs – RA', 'Biosimilars', 'Regulatory',\n",
       "       'Analytical R & D', 'Analytical R&D',\n",
       "       'Senior software engineer-Mednet', 'Tech lead-Mednet',\n",
       "       'Tech Lead- Mednet', 'Technical Lead', 'Sr Automation Testing',\n",
       "       'TL', 'Senior Analyst', 'production', 'Production', 'Core Java',\n",
       "       'Java J2EE', 'Oracle Plsql', 'Java,SQL', 'Automation Testing Java',\n",
       "       'Submission Management', 'Biosimillar', 'Publishing',\n",
       "       'Global Labelling', 'ALS Testing', 'Java Developer',\n",
       "       'Lending and Liabilities', 'Lending & Liability',\n",
       "       'Lending And Liabilities', 'L & L', 'Banking operations',\n",
       "       'Lending&Liablities', 'JAVA/J2EE/Struts/Hibernate',\n",
       "       'JAVA/SPRING/HIBERNATE/JSF', 'Java', 'Java JSF', 'Java,J2ee, JSF',\n",
       "       'Java ,J2ee', 'Java J2ee', '11.30 AM', '10.00 AM', '9.00 Am',\n",
       "       '12.30 Pm', '9.30 AM', '11.30 Am', 'Java, J2Ee', 'Java,J2EE',\n",
       "       'Java/J2ee/Core Java', 'Java/J2ee', 'JAVA, J2ee', 'JAVA,J2ee',\n",
       "       'T-24 developer', 'COTS Developer', 'Product Control', 'Dot Net',\n",
       "       'COTS', 'testing', '- SAPBO, Informatica', 'ETL', 'Java-SAS',\n",
       "       'Java Tech Lead', 'Manager', 'JAVA,SQL', 'Java, SQL', 'Hadoop',\n",
       "       'SCCM', 'SCCM-(Network, sharepoint,ms exchange)',\n",
       "       'SCCm- Desktop support', 'Sccm- networking', 'sccm', 'SCCM – SQL',\n",
       "       'SCCM – Sharepoint', 'Production Support - SCCM', 'SAS',\n",
       "       'BaseSAS Program/ Reporting', 'Java, Spring, Hibernate',\n",
       "       'Java,spring,hibernate', 'Java, XML, Struts, hibernate',\n",
       "       'JAVA/J2EE', 'Java ', nan], dtype=object)"
      ]
     },
     "execution_count": 371,
     "metadata": {},
     "output_type": "execute_result"
    }
   ],
   "source": [
    "df['Nature of Skillset'].unique()"
   ]
  },
  {
   "cell_type": "code",
   "execution_count": 372,
   "metadata": {},
   "outputs": [],
   "source": [
    "df['Nature of Skillset']=np.where(df['Nature of Skillset'] =='Biosimiliars', 'Biosimilars', df['Nature of Skillset'])\n",
    "df['Nature of Skillset']=np.where(df['Nature of Skillset'] =='production', 'Production', df['Nature of Skillset'])\n",
    "df['Nature of Skillset']=np.where(df['Nature of Skillset'] =='CDD KYC', 'AML/KYC/CDD', df['Nature of Skillset'])\n",
    "df['Nature of Skillset']=np.where(df['Nature of Skillset'] =='Analytical R&D', 'Analytical R & D', df['Nature of Skillset'])\n",
    "df['Nature of Skillset']=np.where(df['Nature of Skillset'] =='Tech lead-Mednet', 'Technical Lead', df['Nature of Skillset'])\n",
    "df['Nature of Skillset']=np.where(df['Nature of Skillset'] =='Tech Lead- Mednet', 'Technical Lead', df['Nature of Skillset'])\n",
    "df['Nature of Skillset']=np.where(df['Nature of Skillset'] =='TL', 'Technical Lead', df['Nature of Skillset'])\n",
    "df['Nature of Skillset']=np.where(df['Nature of Skillset'] =='Core Java', 'Java', df['Nature of Skillset'])\n",
    "df['Nature of Skillset']=np.where(df['Nature of Skillset'] =='Java J2EE', 'Java', df['Nature of Skillset'])\n",
    "df['Nature of Skillset']=np.where(df['Nature of Skillset'] =='Java J2Ee', 'Java', df['Nature of Skillset'])\n",
    "df['Nature of Skillset']=np.where(df['Nature of Skillset'] =='JAVA/J2EE/Struts/Hibernate', 'Advanced Java', df['Nature of Skillset'])\n",
    "df['Nature of Skillset']=np.where(df['Nature of Skillset'] =='JAVA/SPRING/HIBERNATE/JSF', 'Advanced Java', df['Nature of Skillset'])\n",
    "df['Nature of Skillset']=np.where(df['Nature of Skillset'] =='JAVA JSF', 'Advanced Java', df['Nature of Skillset'])\n",
    "df['Nature of Skillset']=np.where(df['Nature of Skillset'] =='Java,J2ee, JSF', 'Advanced Java', df['Nature of Skillset'])\n"
   ]
  },
  {
   "cell_type": "code",
   "execution_count": 373,
   "metadata": {},
   "outputs": [
    {
     "data": {
      "text/plain": [
       "array(['Routine', 'Oracle', 'Accounting Operations', 'Banking Operations',\n",
       "       'Fresher', 'AML/KYC/CDD', 'Biosimilars', 'RA Label',\n",
       "       'RA Publishing', 'EMEA', 'LCM -Manager', 'Licensing – RA',\n",
       "       'generic drugs – RA', 'Regulatory', 'Analytical R & D',\n",
       "       'Senior software engineer-Mednet', 'Technical Lead',\n",
       "       'Sr Automation Testing', 'Senior Analyst', 'Production', 'Java',\n",
       "       'Oracle Plsql', 'Java,SQL', 'Automation Testing Java',\n",
       "       'Submission Management', 'Biosimillar', 'Publishing',\n",
       "       'Global Labelling', 'ALS Testing', 'Java Developer',\n",
       "       'Lending and Liabilities', 'Lending & Liability',\n",
       "       'Lending And Liabilities', 'L & L', 'Banking operations',\n",
       "       'Lending&Liablities', 'Advanced Java', 'Java JSF', 'Java ,J2ee',\n",
       "       'Java J2ee', '11.30 AM', '10.00 AM', '9.00 Am', '12.30 Pm',\n",
       "       '9.30 AM', '11.30 Am', 'Java, J2Ee', 'Java,J2EE',\n",
       "       'Java/J2ee/Core Java', 'Java/J2ee', 'JAVA, J2ee', 'JAVA,J2ee',\n",
       "       'T-24 developer', 'COTS Developer', 'Product Control', 'Dot Net',\n",
       "       'COTS', 'testing', '- SAPBO, Informatica', 'ETL', 'Java-SAS',\n",
       "       'Java Tech Lead', 'Manager', 'JAVA,SQL', 'Java, SQL', 'Hadoop',\n",
       "       'SCCM', 'SCCM-(Network, sharepoint,ms exchange)',\n",
       "       'SCCm- Desktop support', 'Sccm- networking', 'sccm', 'SCCM – SQL',\n",
       "       'SCCM – Sharepoint', 'Production Support - SCCM', 'SAS',\n",
       "       'BaseSAS Program/ Reporting', 'Java, Spring, Hibernate',\n",
       "       'Java,spring,hibernate', 'Java, XML, Struts, hibernate',\n",
       "       'JAVA/J2EE', 'Java ', nan], dtype=object)"
      ]
     },
     "execution_count": 373,
     "metadata": {},
     "output_type": "execute_result"
    }
   ],
   "source": [
    "df['Nature of Skillset'].unique()"
   ]
  },
  {
   "cell_type": "code",
   "execution_count": 374,
   "metadata": {},
   "outputs": [],
   "source": [
    "df['Nature of Skillset']=np.where(df['Nature of Skillset'] =='Java, J2Ee', 'Advanced Java', df['Nature of Skillset'])\n",
    "df['Nature of Skillset']=np.where(df['Nature of Skillset'] =='Java ,J2ee', 'Advanced Java', df['Nature of Skillset'])\n",
    "df['Nature of Skillset']=np.where(df['Nature of Skillset'] =='Java ,J2ee', 'Advanced Java', df['Nature of Skillset'])\n",
    "df['Nature of Skillset']=np.where(df['Nature of Skillset'] =='Java,J2EE', 'Advanced Java', df['Nature of Skillset'])\n",
    "df['Nature of Skillset']=np.where(df['Nature of Skillset'] =='Java/J2ee', 'Advanced Java', df['Nature of Skillset'])\n",
    "df['Nature of Skillset']=np.where(df['Nature of Skillset'] =='Java/J2ee/Core Java', 'Advanced Java', df['Nature of Skillset'])\n",
    "df['Nature of Skillset']=np.where(df['Nature of Skillset'] =='Java Tech Lead', 'Advanced Java', df['Nature of Skillset'])\n",
    "df['Nature of Skillset']=np.where(df['Nature of Skillset'] =='Java, Spring, Hibernate', 'Advanced Java', df['Nature of Skillset'])\n",
    "df['Nature of Skillset']=np.where(df['Nature of Skillset'] =='Java,spring,hibernate', 'Advanced Java', df['Nature of Skillset'])\n",
    "df['Nature of Skillset']=np.where(df['Nature of Skillset'] =='Java, XML, Struts, hibernate', 'Advanced Java', df['Nature of Skillset'])\n",
    "df['Nature of Skillset']=np.where(df['Nature of Skillset'] =='JAVA/J2EE', 'Advanced Java', df['Nature of Skillset'])\n"
   ]
  },
  {
   "cell_type": "code",
   "execution_count": 375,
   "metadata": {},
   "outputs": [
    {
     "data": {
      "text/plain": [
       "array(['Routine', 'Oracle', 'Accounting Operations', 'Banking Operations',\n",
       "       'Fresher', 'AML/KYC/CDD', 'Biosimilars', 'RA Label',\n",
       "       'RA Publishing', 'EMEA', 'LCM -Manager', 'Licensing – RA',\n",
       "       'generic drugs – RA', 'Regulatory', 'Analytical R & D',\n",
       "       'Senior software engineer-Mednet', 'Technical Lead',\n",
       "       'Sr Automation Testing', 'Senior Analyst', 'Production', 'Java',\n",
       "       'Oracle Plsql', 'Java,SQL', 'Automation Testing Java',\n",
       "       'Submission Management', 'Biosimillar', 'Publishing',\n",
       "       'Global Labelling', 'ALS Testing', 'Java Developer',\n",
       "       'Lending and Liabilities', 'Lending & Liability',\n",
       "       'Lending And Liabilities', 'L & L', 'Banking operations',\n",
       "       'Lending&Liablities', 'Advanced Java', 'Java JSF', 'Java J2ee',\n",
       "       '11.30 AM', '10.00 AM', '9.00 Am', '12.30 Pm', '9.30 AM',\n",
       "       '11.30 Am', 'JAVA, J2ee', 'JAVA,J2ee', 'T-24 developer',\n",
       "       'COTS Developer', 'Product Control', 'Dot Net', 'COTS', 'testing',\n",
       "       '- SAPBO, Informatica', 'ETL', 'Java-SAS', 'Manager', 'JAVA,SQL',\n",
       "       'Java, SQL', 'Hadoop', 'SCCM',\n",
       "       'SCCM-(Network, sharepoint,ms exchange)', 'SCCm- Desktop support',\n",
       "       'Sccm- networking', 'sccm', 'SCCM – SQL', 'SCCM – Sharepoint',\n",
       "       'Production Support - SCCM', 'SAS', 'BaseSAS Program/ Reporting',\n",
       "       'Java ', nan], dtype=object)"
      ]
     },
     "execution_count": 375,
     "metadata": {},
     "output_type": "execute_result"
    }
   ],
   "source": [
    "df['Nature of Skillset'].unique()"
   ]
  },
  {
   "cell_type": "code",
   "execution_count": 376,
   "metadata": {},
   "outputs": [],
   "source": [
    "df['Nature of Skillset']=np.where(df['Nature of Skillset'] =='Java JSF', 'Advanced Java', df['Nature of Skillset'])\n",
    "df['Nature of Skillset']=np.where(df['Nature of Skillset'] =='Java J2ee', 'Advanced Java', df['Nature of Skillset'])\n",
    "df['Nature of Skillset']=np.where(df['Nature of Skillset'] =='JAVA, J2ee', 'Advanced Java', df['Nature of Skillset'])\n",
    "df['Nature of Skillset']=np.where(df['Nature of Skillset'] =='JAVA,J2ee', 'Advanced Java', df['Nature of Skillset'])\n",
    "df['Nature of Skillset']=np.where(df['Nature of Skillset'] =='Java ', 'Java', df['Nature of Skillset'])\n",
    "df['Nature of Skillset']=np.where(df['Nature of Skillset'] =='Java,SQL', 'Java - SQL', df['Nature of Skillset'])\n",
    "df['Nature of Skillset']=np.where(df['Nature of Skillset'] =='Java, SQL', 'Java - SQL', df['Nature of Skillset'])\n",
    "df['Nature of Skillset']=np.where(df['Nature of Skillset'] =='Java,SQL', 'Java - SQL', df['Nature of Skillset'])\n",
    "df['Nature of Skillset']=np.where(df['Nature of Skillset'] =='SCCM-(Network, sharepoint,ms exchange)', 'SCCM', df['Nature of Skillset'])\n",
    "df['Nature of Skillset']=np.where(df['Nature of Skillset'] =='SCCm- Desktop support', 'SCCM', df['Nature of Skillset'])\n",
    "df['Nature of Skillset']=np.where(df['Nature of Skillset'] =='Sccm- networking', 'SCCM', df['Nature of Skillset'])\n",
    "df['Nature of Skillset']=np.where(df['Nature of Skillset'] =='sccm', 'SCCM', df['Nature of Skillset'])\n",
    "df['Nature of Skillset']=np.where(df['Nature of Skillset'] =='SCCM – SQL', 'SCCM', df['Nature of Skillset'])\n",
    "df['Nature of Skillset']=np.where(df['Nature of Skillset'] =='SCCM – Sharepoint', 'SCCM', df['Nature of Skillset'])\n",
    "df['Nature of Skillset']=np.where(df['Nature of Skillset'] =='Production Support - SCCM', 'SCCM', df['Nature of Skillset'])\n",
    "df['Nature of Skillset']=np.where(df['Nature of Skillset'] =='11.30 AM', 'NaN', df['Nature of Skillset'])\n",
    "df['Nature of Skillset']=np.where(df['Nature of Skillset'] =='10.00 AM', 'NaN', df['Nature of Skillset'])\n",
    "df['Nature of Skillset']=np.where(df['Nature of Skillset'] =='9.00 Am', 'NaN', df['Nature of Skillset'])"
   ]
  },
  {
   "cell_type": "code",
   "execution_count": 377,
   "metadata": {},
   "outputs": [
    {
     "data": {
      "text/plain": [
       "array(['Routine', 'Oracle', 'Accounting Operations', 'Banking Operations',\n",
       "       'Fresher', 'AML/KYC/CDD', 'Biosimilars', 'RA Label',\n",
       "       'RA Publishing', 'EMEA', 'LCM -Manager', 'Licensing – RA',\n",
       "       'generic drugs – RA', 'Regulatory', 'Analytical R & D',\n",
       "       'Senior software engineer-Mednet', 'Technical Lead',\n",
       "       'Sr Automation Testing', 'Senior Analyst', 'Production', 'Java',\n",
       "       'Oracle Plsql', 'Java - SQL', 'Automation Testing Java',\n",
       "       'Submission Management', 'Biosimillar', 'Publishing',\n",
       "       'Global Labelling', 'ALS Testing', 'Java Developer',\n",
       "       'Lending and Liabilities', 'Lending & Liability',\n",
       "       'Lending And Liabilities', 'L & L', 'Banking operations',\n",
       "       'Lending&Liablities', 'Advanced Java', 'NaN', '12.30 Pm',\n",
       "       '9.30 AM', '11.30 Am', 'T-24 developer', 'COTS Developer',\n",
       "       'Product Control', 'Dot Net', 'COTS', 'testing',\n",
       "       '- SAPBO, Informatica', 'ETL', 'Java-SAS', 'Manager', 'JAVA,SQL',\n",
       "       'Hadoop', 'SCCM', 'SAS', 'BaseSAS Program/ Reporting', nan],\n",
       "      dtype=object)"
      ]
     },
     "execution_count": 377,
     "metadata": {},
     "output_type": "execute_result"
    }
   ],
   "source": [
    "df['Nature of Skillset'].unique()"
   ]
  },
  {
   "cell_type": "code",
   "execution_count": 378,
   "metadata": {},
   "outputs": [],
   "source": [
    "df['Nature of Skillset']=np.where(df['Nature of Skillset'] =='12.30 Pm', 'NaN', df['Nature of Skillset'])\n",
    "df['Nature of Skillset']=np.where(df['Nature of Skillset'] =='9.30 AM', 'NaN', df['Nature of Skillset'])\n",
    "df['Nature of Skillset']=np.where(df['Nature of Skillset'] =='11.30 Am', 'NaN', df['Nature of Skillset'])\n",
    "df['Nature of Skillset']=np.where(df['Nature of Skillset'] =='JAVA,SQL', 'Java - SQL', df['Nature of Skillset'])\n",
    "df['Nature of Skillset']=np.where(df['Nature of Skillset'] =='Java Developer', 'Java', df['Nature of Skillset'])\n",
    "df['Nature of Skillset']=np.where(df['Nature of Skillset'] =='Automation Testing Java', 'Sr Automation Testing', df['Nature of Skillset'])\n",
    "df['Nature of Skillset']=np.where(df['Nature of Skillset'] =='nan', 'NaN', df['Nature of Skillset'])\n",
    "df['Nature of Skillset']=np.where(df['Nature of Skillset'] =='Lending & Liability', 'Lending and Liabilities', df['Nature of Skillset'])\n",
    "df['Nature of Skillset']=np.where(df['Nature of Skillset'] =='Lending And Liabilities', 'Lending and Liabilities', df['Nature of Skillset'])\n",
    "df['Nature of Skillset']=np.where(df['Nature of Skillset'] =='Lending&Liablities', 'Lending and Liabilities', df['Nature of Skillset'])\n",
    "df['Nature of Skillset']=np.where(df['Nature of Skillset'] =='L & L', 'Lending and Liabilities', df['Nature of Skillset'])"
   ]
  },
  {
   "cell_type": "code",
   "execution_count": 379,
   "metadata": {},
   "outputs": [
    {
     "data": {
      "text/plain": [
       "array(['Routine', 'Oracle', 'Accounting Operations', 'Banking Operations',\n",
       "       'Fresher', 'AML/KYC/CDD', 'Biosimilars', 'RA Label',\n",
       "       'RA Publishing', 'EMEA', 'LCM -Manager', 'Licensing – RA',\n",
       "       'generic drugs – RA', 'Regulatory', 'Analytical R & D',\n",
       "       'Senior software engineer-Mednet', 'Technical Lead',\n",
       "       'Sr Automation Testing', 'Senior Analyst', 'Production', 'Java',\n",
       "       'Oracle Plsql', 'Java - SQL', 'Submission Management',\n",
       "       'Biosimillar', 'Publishing', 'Global Labelling', 'ALS Testing',\n",
       "       'Lending and Liabilities', 'Banking operations', 'Advanced Java',\n",
       "       'NaN', 'T-24 developer', 'COTS Developer', 'Product Control',\n",
       "       'Dot Net', 'COTS', 'testing', '- SAPBO, Informatica', 'ETL',\n",
       "       'Java-SAS', 'Manager', 'Hadoop', 'SCCM', 'SAS',\n",
       "       'BaseSAS Program/ Reporting', nan], dtype=object)"
      ]
     },
     "execution_count": 379,
     "metadata": {},
     "output_type": "execute_result"
    }
   ],
   "source": [
    "df['Nature of Skillset'].unique()"
   ]
  },
  {
   "cell_type": "code",
   "execution_count": 380,
   "metadata": {},
   "outputs": [],
   "source": [
    "df['Nature of Skillset']=np.where(df['Nature of Skillset'] =='Biosimillar', 'Biosimilars', df['Nature of Skillset'])\n",
    "df['Nature of Skillset']=np.where(df['Nature of Skillset'] =='Java-SAS', 'SAS', df['Nature of Skillset'])\n",
    "df['Nature of Skillset']=np.where(df['Nature of Skillset'] =='BaseSAS Program/ Reporting', 'SAS', df['Nature of Skillset'])"
   ]
  },
  {
   "cell_type": "code",
   "execution_count": 381,
   "metadata": {},
   "outputs": [
    {
     "data": {
      "text/plain": [
       "array(['Routine', 'Oracle', 'Accounting Operations', 'Banking Operations',\n",
       "       'Fresher', 'AML/KYC/CDD', 'Biosimilars', 'RA Label',\n",
       "       'RA Publishing', 'EMEA', 'LCM -Manager', 'Licensing – RA',\n",
       "       'generic drugs – RA', 'Regulatory', 'Analytical R & D',\n",
       "       'Senior software engineer-Mednet', 'Technical Lead',\n",
       "       'Sr Automation Testing', 'Senior Analyst', 'Production', 'Java',\n",
       "       'Oracle Plsql', 'Java - SQL', 'Submission Management',\n",
       "       'Publishing', 'Global Labelling', 'ALS Testing',\n",
       "       'Lending and Liabilities', 'Banking operations', 'Advanced Java',\n",
       "       'NaN', 'T-24 developer', 'COTS Developer', 'Product Control',\n",
       "       'Dot Net', 'COTS', 'testing', '- SAPBO, Informatica', 'ETL', 'SAS',\n",
       "       'Manager', 'Hadoop', 'SCCM', nan], dtype=object)"
      ]
     },
     "execution_count": 381,
     "metadata": {},
     "output_type": "execute_result"
    }
   ],
   "source": [
    "df['Nature of Skillset'].unique()"
   ]
  },
  {
   "cell_type": "code",
   "execution_count": 382,
   "metadata": {},
   "outputs": [
    {
     "data": {
      "text/plain": [
       "array(['Scheduled Walkin', 'Scheduled ', 'Walkin', 'Scheduled Walk In',\n",
       "       'Sceduled walkin', 'Walkin ', nan], dtype=object)"
      ]
     },
     "execution_count": 382,
     "metadata": {},
     "output_type": "execute_result"
    }
   ],
   "source": [
    "df['Interview Type'].unique()"
   ]
  },
  {
   "cell_type": "code",
   "execution_count": 383,
   "metadata": {},
   "outputs": [],
   "source": [
    "df['Interview Type']=np.where(df['Interview Type'] =='Scheduled Walkin', 'Scheduled Walk In', df['Interview Type'])\n",
    "df['Interview Type']=np.where(df['Interview Type'] =='Sceduled walkin', 'Scheduled Walk In', df['Interview Type'])\n",
    "df['Interview Type']=np.where(df['Interview Type'] =='Walkin ', 'Walkin', df['Interview Type'])\n",
    "df['Interview Type']=np.where(df['Interview Type'] =='Scheduled ', 'Scheduled', df['Interview Type'])"
   ]
  },
  {
   "cell_type": "code",
   "execution_count": 384,
   "metadata": {},
   "outputs": [
    {
     "data": {
      "text/plain": [
       "array(['Scheduled Walk In', 'Scheduled', 'Walkin', nan], dtype=object)"
      ]
     },
     "execution_count": 384,
     "metadata": {},
     "output_type": "execute_result"
    }
   ],
   "source": [
    "df['Interview Type'].unique()"
   ]
  },
  {
   "cell_type": "code",
   "execution_count": 385,
   "metadata": {},
   "outputs": [
    {
     "data": {
      "text/plain": [
       "array(['Male', 'Female', nan], dtype=object)"
      ]
     },
     "execution_count": 385,
     "metadata": {},
     "output_type": "execute_result"
    }
   ],
   "source": [
    "df['Gender'].unique()"
   ]
  },
  {
   "cell_type": "code",
   "execution_count": 386,
   "metadata": {},
   "outputs": [
    {
     "data": {
      "text/plain": [
       "array(['Chennai', 'Gurgaon', 'Bangalore', 'Hyderabad', 'Delhi', 'chennai',\n",
       "       '- Cochin- ', 'Noida', 'CHENNAI', 'chennai ', nan], dtype=object)"
      ]
     },
     "execution_count": 386,
     "metadata": {},
     "output_type": "execute_result"
    }
   ],
   "source": [
    "df['Candidate Current Location'].unique()"
   ]
  },
  {
   "cell_type": "code",
   "execution_count": 387,
   "metadata": {},
   "outputs": [],
   "source": [
    "df['Candidate Current Location']=np.where(df['Candidate Current Location'] =='chennai', 'Chennai', df['Candidate Current Location'])\n",
    "df['Candidate Current Location']=np.where(df['Candidate Current Location'] =='- Cochin- ', 'Cochin', df['Candidate Current Location'])\n",
    "df['Candidate Current Location']=np.where(df['Candidate Current Location'] =='chennai ', 'Chennai', df['Candidate Current Location'])\n",
    "df['Candidate Current Location']=np.where(df['Candidate Current Location'] =='CHENNAI', 'Chennai', df['Candidate Current Location'])"
   ]
  },
  {
   "cell_type": "code",
   "execution_count": 388,
   "metadata": {},
   "outputs": [
    {
     "data": {
      "text/plain": [
       "array(['Chennai', 'Gurgaon', 'Bangalore', 'Hyderabad', 'Delhi', 'Cochin',\n",
       "       'Noida', nan], dtype=object)"
      ]
     },
     "execution_count": 388,
     "metadata": {},
     "output_type": "execute_result"
    }
   ],
   "source": [
    "df['Candidate Current Location'].unique()"
   ]
  },
  {
   "cell_type": "code",
   "execution_count": 389,
   "metadata": {},
   "outputs": [
    {
     "data": {
      "text/plain": [
       "array(['Hosur', 'Bangalore', 'Chennai', 'Gurgaon', 'Visakapatinam',\n",
       "       '- Cochin- ', 'Noida', nan], dtype=object)"
      ]
     },
     "execution_count": 389,
     "metadata": {},
     "output_type": "execute_result"
    }
   ],
   "source": [
    "df['Candidate Job Location'].unique()"
   ]
  },
  {
   "cell_type": "code",
   "execution_count": 390,
   "metadata": {},
   "outputs": [],
   "source": [
    "df['Candidate Job Location']=np.where(df['Candidate Job Location'] =='- Cochin- ', 'Cochin', df['Candidate Job Location'])\n"
   ]
  },
  {
   "cell_type": "code",
   "execution_count": 391,
   "metadata": {},
   "outputs": [
    {
     "data": {
      "text/plain": [
       "array(['Hosur', 'Bangalore', 'Chennai', 'Gurgaon', 'Visakapatinam',\n",
       "       'Cochin', 'Noida', nan], dtype=object)"
      ]
     },
     "execution_count": 391,
     "metadata": {},
     "output_type": "execute_result"
    }
   ],
   "source": [
    "df['Candidate Job Location'].unique()"
   ]
  },
  {
   "cell_type": "code",
   "execution_count": 392,
   "metadata": {},
   "outputs": [
    {
     "data": {
      "text/plain": [
       "array(['Hosur', 'Gurgaon', 'Bangalore', 'Chennai', 'Hyderabad',\n",
       "       '- Cochin- ', 'Noida', nan], dtype=object)"
      ]
     },
     "execution_count": 392,
     "metadata": {},
     "output_type": "execute_result"
    }
   ],
   "source": [
    "df['Interview Venue'].unique()"
   ]
  },
  {
   "cell_type": "code",
   "execution_count": 393,
   "metadata": {},
   "outputs": [],
   "source": [
    "df['Interview Venue']=np.where(df['Interview Venue'] =='- Cochin- ', 'Cochin', df['Interview Venue'])\n"
   ]
  },
  {
   "cell_type": "code",
   "execution_count": 394,
   "metadata": {},
   "outputs": [
    {
     "data": {
      "text/plain": [
       "array(['Hosur', 'Gurgaon', 'Bangalore', 'Chennai', 'Hyderabad', 'Cochin',\n",
       "       'Noida', nan], dtype=object)"
      ]
     },
     "execution_count": 394,
     "metadata": {},
     "output_type": "execute_result"
    }
   ],
   "source": [
    "df['Interview Venue'].unique()"
   ]
  },
  {
   "cell_type": "code",
   "execution_count": 395,
   "metadata": {},
   "outputs": [
    {
     "data": {
      "text/plain": [
       "array(['Hosur', 'Trichy', 'Chennai', 'Gurgaon', 'Noida', 'Delhi /NCR',\n",
       "       'Cochin', 'Trivandrum', 'Bangalore', 'Coimbatore', 'Salem',\n",
       "       'Tanjore', 'Hyderabad', 'Mumbai', 'Pune', 'Kolkata', 'Allahabad',\n",
       "       'Panjim', 'Cuttack', 'Visakapatinam', 'Belgaum', 'Patna',\n",
       "       'Chitoor', 'Anantapur', 'Warangal', 'Ahmedabad', 'Kurnool',\n",
       "       'Vijayawada', 'Vellore', 'Pondicherry', 'Nagercoil', 'Agra',\n",
       "       'Bhubaneshwar', 'Ghaziabad', 'Baddi', 'Tuticorin', 'Tirupati',\n",
       "       'Faizabad', 'Ambur', 'Chandigarh', 'Mysore', 'Hissar', 'Delhi',\n",
       "       'Kanpur', 'Lucknow', '- Cochin- ', nan], dtype=object)"
      ]
     },
     "execution_count": 395,
     "metadata": {},
     "output_type": "execute_result"
    }
   ],
   "source": [
    "df['Candidate Native location'].unique()\n"
   ]
  },
  {
   "cell_type": "code",
   "execution_count": 396,
   "metadata": {},
   "outputs": [],
   "source": [
    "df['Candidate Native location']=np.where(df['Candidate Native location'] =='- Cochin- ', 'Cochin', df['Candidate Native location'])\n"
   ]
  },
  {
   "cell_type": "code",
   "execution_count": 397,
   "metadata": {},
   "outputs": [
    {
     "data": {
      "text/plain": [
       "array(['Hosur', 'Trichy', 'Chennai', 'Gurgaon', 'Noida', 'Delhi /NCR',\n",
       "       'Cochin', 'Trivandrum', 'Bangalore', 'Coimbatore', 'Salem',\n",
       "       'Tanjore', 'Hyderabad', 'Mumbai', 'Pune', 'Kolkata', 'Allahabad',\n",
       "       'Panjim', 'Cuttack', 'Visakapatinam', 'Belgaum', 'Patna',\n",
       "       'Chitoor', 'Anantapur', 'Warangal', 'Ahmedabad', 'Kurnool',\n",
       "       'Vijayawada', 'Vellore', 'Pondicherry', 'Nagercoil', 'Agra',\n",
       "       'Bhubaneshwar', 'Ghaziabad', 'Baddi', 'Tuticorin', 'Tirupati',\n",
       "       'Faizabad', 'Ambur', 'Chandigarh', 'Mysore', 'Hissar', 'Delhi',\n",
       "       'Kanpur', 'Lucknow', nan], dtype=object)"
      ]
     },
     "execution_count": 397,
     "metadata": {},
     "output_type": "execute_result"
    }
   ],
   "source": [
    "df['Candidate Native location'].unique()"
   ]
  },
  {
   "cell_type": "code",
   "execution_count": 398,
   "metadata": {},
   "outputs": [
    {
     "data": {
      "text/plain": [
       "Yes     701\n",
       "No      401\n",
       "yes      81\n",
       "NO       35\n",
       "no        7\n",
       "No        6\n",
       "no        1\n",
       "yes       1\n",
       "Name: Observed Attendance, dtype: int64"
      ]
     },
     "execution_count": 398,
     "metadata": {},
     "output_type": "execute_result"
    }
   ],
   "source": [
    "df['Observed Attendance'].value_counts()"
   ]
  },
  {
   "cell_type": "code",
   "execution_count": 399,
   "metadata": {},
   "outputs": [],
   "source": [
    "df['Observed Attendance']=np.where(df['Observed Attendance'] =='yes', 'Yes', df['Observed Attendance'])\n",
    "df['Observed Attendance']=np.where(df['Observed Attendance'] =='NO', 'No', df['Observed Attendance'])\n",
    "df['Observed Attendance']=np.where(df['Observed Attendance'] =='no', 'No', df['Observed Attendance'])\n",
    "df['Observed Attendance']=np.where(df['Observed Attendance'] =='No ', 'No', df['Observed Attendance'])\n",
    "df['Observed Attendance']=np.where(df['Observed Attendance'] =='no ', 'No', df['Observed Attendance'])\n",
    "df['Observed Attendance']=np.where(df['Observed Attendance'] =='yes ', 'Yes', df['Observed Attendance'])\n"
   ]
  },
  {
   "cell_type": "code",
   "execution_count": 400,
   "metadata": {},
   "outputs": [
    {
     "data": {
      "text/plain": [
       "Yes    783\n",
       "No     450\n",
       "Name: Observed Attendance, dtype: int64"
      ]
     },
     "execution_count": 400,
     "metadata": {},
     "output_type": "execute_result"
    }
   ],
   "source": [
    "df['Observed Attendance'].value_counts()"
   ]
  },
  {
   "cell_type": "code",
   "execution_count": 401,
   "metadata": {},
   "outputs": [
    {
     "data": {
      "image/png": "[encoded data removed]",
      "text/plain": [
       "<Figure size 432x288 with 1 Axes>"
      ]
     },
     "metadata": {},
     "output_type": "display_data"
    },
    {
     "data": {
      "text/plain": [
       "<Figure size 432x288 with 0 Axes>"
      ]
     },
     "metadata": {},
     "output_type": "display_data"
    }
   ],
   "source": [
    "sns.countplot(x=df['Observed Attendance'],palette='hls')\n",
    "plt.show()\n",
    "plt.savefig('count_plot')"
   ]
  },
  {
   "cell_type": "code",
   "execution_count": 402,
   "metadata": {},
   "outputs": [
    {
     "data": {
      "text/plain": [
       "1.0    783\n",
       "0.0    450\n",
       "Name: Observed Attendance, dtype: int64"
      ]
     },
     "execution_count": 402,
     "metadata": {},
     "output_type": "execute_result"
    }
   ],
   "source": [
    "df['Observed Attendance'].replace(('Yes', 'No'), (1, 0), inplace=True)\n",
    "df['Observed Attendance'].value_counts()"
   ]
  },
  {
   "cell_type": "code",
   "execution_count": 403,
   "metadata": {},
   "outputs": [
    {
     "data": {
      "text/plain": [
       "1.0    783\n",
       "0.0    450\n",
       "Name: Observed Attendance, dtype: int64"
      ]
     },
     "execution_count": 403,
     "metadata": {},
     "output_type": "execute_result"
    }
   ],
   "source": [
    "df01 = df[pd.notnull(df['Observed Attendance'])]\n",
    "df['Observed Attendance'].value_counts()"
   ]
  },
  {
   "cell_type": "code",
   "execution_count": 411,
   "metadata": {},
   "outputs": [],
   "source": [
    "df.dropna(inplace=True)"
   ]
  },
  {
   "cell_type": "code",
   "execution_count": 413,
   "metadata": {},
   "outputs": [
    {
     "data": {
      "text/plain": [
       "1    676\n",
       "0    308\n",
       "Name: Observed Attendance, dtype: int64"
      ]
     },
     "execution_count": 413,
     "metadata": {},
     "output_type": "execute_result"
    }
   ],
   "source": [
    "df['Observed Attendance']=df['Observed Attendance'].astype(np.int64)\n",
    "df['Observed Attendance'].value_counts()"
   ]
  },
  {
   "cell_type": "code",
   "execution_count": 414,
   "metadata": {},
   "outputs": [
    {
     "name": "stdout",
     "output_type": "stream",
     "text": [
      "percentage of no attendance of interview is 31.3\n",
      "percentage of interview attended 68.7\n"
     ]
    }
   ],
   "source": [
    "count_no_interview_attended = len(df[df['Observed Attendance']==0])\n",
    "count_interview_attended = len(df[df['Observed Attendance']==1])\n",
    "pct_of_no_interview_attended = count_no_interview_attended/(count_no_interview_attended+count_interview_attended)\n",
    "print(\"percentage of no attendance of interview is\", round(pct_of_no_interview_attended*100,2))\n",
    "pct_of_interview_attended = count_interview_attended/(count_no_interview_attended+count_interview_attended)\n",
    "print(\"percentage of interview attended\", round(pct_of_interview_attended*100,2))"
   ]
  },
  {
   "cell_type": "code",
   "execution_count": 415,
   "metadata": {},
   "outputs": [
    {
     "data": {
      "image/png": "[encoded data removed]",
      "text/plain": [
       "<Figure size 432x288 with 1 Axes>"
      ]
     },
     "metadata": {},
     "output_type": "display_data"
    }
   ],
   "source": [
    "df.hist()\n",
    "plt.show()"
   ]
  },
  {
   "cell_type": "code",
   "execution_count": 416,
   "metadata": {},
   "outputs": [
    {
     "data": {
      "image/png": "[encoded data removed]",
      "text/plain": [
       "<Figure size 432x288 with 1 Axes>"
      ]
     },
     "metadata": {},
     "output_type": "display_data"
    }
   ],
   "source": [
    "sns.countplot(y=\"Gender\", data=df)\n",
    "plt.show()"
   ]
  },
  {
   "cell_type": "code",
   "execution_count": 417,
   "metadata": {},
   "outputs": [
    {
     "data": {
      "image/png": "[encoded data removed]",
      "text/plain": [
       "<Figure size 432x288 with 1 Axes>"
      ]
     },
     "metadata": {},
     "output_type": "display_data"
    }
   ],
   "source": [
    "sns.countplot(y=\"Candidate Current Location\", data=df)\n",
    "plt.show()"
   ]
  },
  {
   "cell_type": "code",
   "execution_count": 418,
   "metadata": {},
   "outputs": [
    {
     "data": {
      "image/png": "[encoded data removed]",
      "text/plain": [
       "<Figure size 432x288 with 1 Axes>"
      ]
     },
     "metadata": {},
     "output_type": "display_data"
    }
   ],
   "source": [
    "sns.countplot(y=\"Candidate Job Location\", data=df)\n",
    "plt.show()"
   ]
  },
  {
   "cell_type": "code",
   "execution_count": 419,
   "metadata": {},
   "outputs": [
    {
     "data": {
      "image/png": "[encoded data removed]",
      "text/plain": [
       "<Figure size 432x288 with 1 Axes>"
      ]
     },
     "metadata": {},
     "output_type": "display_data"
    }
   ],
   "source": [
    "sns.countplot(y=\"Interview Venue\", data=df)\n",
    "plt.show()"
   ]
  },
  {
   "cell_type": "code",
   "execution_count": 420,
   "metadata": {},
   "outputs": [
    {
     "data": {
      "image/png": "[encoded data removed]",
      "text/plain": [
       "<Figure size 1440x1440 with 1 Axes>"
      ]
     },
     "metadata": {},
     "output_type": "display_data"
    }
   ],
   "source": [
    "#adjusting the scale of a plot in seaborn\n",
    "fig = plt.figure(figsize=(20,20))\n",
    "fig.add_subplot(1,1,1)\n",
    "sns.countplot(y=\"Candidate Native location\", data=df)\n",
    "plt.show()"
   ]
  },
  {
   "cell_type": "code",
   "execution_count": 421,
   "metadata": {},
   "outputs": [
    {
     "data": {
      "image/png": "[encoded data removed]",
      "text/plain": [
       "<Figure size 432x288 with 1 Axes>"
      ]
     },
     "metadata": {},
     "output_type": "display_data"
    }
   ],
   "source": [
    "sns.countplot(x=\"Marital Status\", data=df)\n",
    "plt.show()"
   ]
  },
  {
   "cell_type": "code",
   "execution_count": 422,
   "metadata": {},
   "outputs": [
    {
     "data": {
      "image/png": "[encoded data removed]",
      "text/plain": [
       "<Figure size 1440x1440 with 1 Axes>"
      ]
     },
     "metadata": {},
     "output_type": "display_data"
    }
   ],
   "source": [
    "fig = plt.figure(figsize=(20,20))\n",
    "fig.add_subplot(1,1,1)\n",
    "sns.countplot(x=\"Client name\", data=df)\n",
    "plt.show()"
   ]
  },
  {
   "cell_type": "code",
   "execution_count": 423,
   "metadata": {},
   "outputs": [
    {
     "data": {
      "text/plain": [
       "array(['Yes', 'No', 'Not yet', 'Yet to confirm', 'yes', 'Na'],\n",
       "      dtype=object)"
      ]
     },
     "execution_count": 423,
     "metadata": {},
     "output_type": "execute_result"
    }
   ],
   "source": [
    "df['Have you obtained the necessary permission to start at the required time'].unique()"
   ]
  },
  {
   "cell_type": "code",
   "execution_count": 424,
   "metadata": {},
   "outputs": [],
   "source": [
    "df['Have you obtained the necessary permission to start at the required time']=np.where(df['Have you obtained the necessary permission to start at the required time'] =='NO', 'No', df['Have you obtained the necessary permission to start at the required time'])\n",
    "df['Have you obtained the necessary permission to start at the required time']=np.where(df['Have you obtained the necessary permission to start at the required time'] =='yes', 'Yes', df['Have you obtained the necessary permission to start at the required time'])\n",
    "df['Have you obtained the necessary permission to start at the required time']=np.where(df['Have you obtained the necessary permission to start at the required time'] =='Not yet', 'No', df['Have you obtained the necessary permission to start at the required time'])\n",
    "df['Have you obtained the necessary permission to start at the required time']=np.where(df['Have you obtained the necessary permission to start at the required time'] =='Yet to confirm', 'No', df['Have you obtained the necessary permission to start at the required time'])\n",
    "df['Have you obtained the necessary permission to start at the required time']=np.where(df['Have you obtained the necessary permission to start at the required time'] =='Na', 'No', df['Have you obtained the necessary permission to start at the required time'])"
   ]
  },
  {
   "cell_type": "code",
   "execution_count": 425,
   "metadata": {},
   "outputs": [
    {
     "data": {
      "image/png": "[encoded data removed]",
      "text/plain": [
       "<Figure size 432x288 with 1 Axes>"
      ]
     },
     "metadata": {},
     "output_type": "display_data"
    }
   ],
   "source": [
    "sns.countplot(x=\"Have you obtained the necessary permission to start at the required time\", data=df)\n",
    "plt.show()"
   ]
  },
  {
   "cell_type": "code",
   "execution_count": 426,
   "metadata": {},
   "outputs": [
    {
     "data": {
      "text/plain": [
       "Yes    921\n",
       "No      63\n",
       "Name: Have you obtained the necessary permission to start at the required time, dtype: int64"
      ]
     },
     "execution_count": 426,
     "metadata": {},
     "output_type": "execute_result"
    }
   ],
   "source": [
    "df['Have you obtained the necessary permission to start at the required time'].value_counts()"
   ]
  },
  {
   "cell_type": "code",
   "execution_count": 427,
   "metadata": {},
   "outputs": [
    {
     "data": {
      "text/plain": [
       "array(['Yes', 'No', 'yes', 'Not Sure', 'cant Say', 'Na', 'Not sure'],\n",
       "      dtype=object)"
      ]
     },
     "execution_count": 427,
     "metadata": {},
     "output_type": "execute_result"
    }
   ],
   "source": [
    "df['Hope there will be no unscheduled meetings'].unique()"
   ]
  },
  {
   "cell_type": "code",
   "execution_count": 428,
   "metadata": {},
   "outputs": [],
   "source": [
    "df['Hope there will be no unscheduled meetings']=np.where(df['Hope there will be no unscheduled meetings'] =='Na', 'No', df['Hope there will be no unscheduled meetings'])\n",
    "df['Hope there will be no unscheduled meetings']=np.where(df['Hope there will be no unscheduled meetings'] =='nan', 'No', df['Hope there will be no unscheduled meetings'])\n",
    "df['Hope there will be no unscheduled meetings']=np.where(df['Hope there will be no unscheduled meetings'] =='yes', 'Yes', df['Hope there will be no unscheduled meetings'])\n",
    "df['Hope there will be no unscheduled meetings']=np.where(df['Hope there will be no unscheduled meetings'] =='Not sure', 'No', df['Hope there will be no unscheduled meetings'])\n",
    "df['Hope there will be no unscheduled meetings']=np.where(df['Hope there will be no unscheduled meetings'] =='Not Sure', 'No', df['Hope there will be no unscheduled meetings'])\n",
    "df['Hope there will be no unscheduled meetings']=np.where(df['Hope there will be no unscheduled meetings'] =='cant Say', 'No', df['Hope there will be no unscheduled meetings'])\n",
    "df['Hope there will be no unscheduled meetings']=np.where(df['Hope there will be no unscheduled meetings'] =='NaN', 'No', df['Hope there will be no unscheduled meetings'])\n"
   ]
  },
  {
   "cell_type": "code",
   "execution_count": 429,
   "metadata": {},
   "outputs": [
    {
     "data": {
      "image/png": "[encoded data removed]",
      "text/plain": [
       "<Figure size 432x288 with 1 Axes>"
      ]
     },
     "metadata": {},
     "output_type": "display_data"
    }
   ],
   "source": [
    "sns.countplot(x=\"Hope there will be no unscheduled meetings\", data=df)\n",
    "plt.show()"
   ]
  },
  {
   "cell_type": "code",
   "execution_count": 430,
   "metadata": {},
   "outputs": [
    {
     "data": {
      "text/plain": [
       "Yes    953\n",
       "No      31\n",
       "Name: Hope there will be no unscheduled meetings, dtype: int64"
      ]
     },
     "execution_count": 430,
     "metadata": {},
     "output_type": "execute_result"
    }
   ],
   "source": [
    "df['Hope there will be no unscheduled meetings'].value_counts()"
   ]
  },
  {
   "cell_type": "code",
   "execution_count": 431,
   "metadata": {},
   "outputs": [
    {
     "data": {
      "text/plain": [
       "array(['Yes', 'No', 'No Dont', 'yes', 'Na'], dtype=object)"
      ]
     },
     "execution_count": 431,
     "metadata": {},
     "output_type": "execute_result"
    }
   ],
   "source": [
    "df['Can I Call you three hours before the interview and follow up on your attendance for the interview'].unique()"
   ]
  },
  {
   "cell_type": "code",
   "execution_count": 432,
   "metadata": {},
   "outputs": [],
   "source": [
    "df['Can I Call you three hours before the interview and follow up on your attendance for the interview']=np.where(df['Can I Call you three hours before the interview and follow up on your attendance for the interview'] =='Na', 'No', df['Can I Call you three hours before the interview and follow up on your attendance for the interview'])\n",
    "df['Can I Call you three hours before the interview and follow up on your attendance for the interview']=np.where(df['Can I Call you three hours before the interview and follow up on your attendance for the interview'] =='No Dont', 'No', df['Can I Call you three hours before the interview and follow up on your attendance for the interview'])\n",
    "df['Can I Call you three hours before the interview and follow up on your attendance for the interview']=np.where(df['Can I Call you three hours before the interview and follow up on your attendance for the interview'] =='yes', 'Yes', df['Can I Call you three hours before the interview and follow up on your attendance for the interview'])\n"
   ]
  },
  {
   "cell_type": "code",
   "execution_count": 433,
   "metadata": {},
   "outputs": [
    {
     "data": {
      "image/png": "[encoded data removed]",
      "text/plain": [
       "<Figure size 432x288 with 1 Axes>"
      ]
     },
     "metadata": {},
     "output_type": "display_data"
    }
   ],
   "source": [
    "sns.countplot(x=\"Can I Call you three hours before the interview and follow up on your attendance for the interview\", data=df)\n",
    "plt.show()"
   ]
  },
  {
   "cell_type": "code",
   "execution_count": 434,
   "metadata": {},
   "outputs": [
    {
     "data": {
      "text/plain": [
       "Yes    955\n",
       "No      29\n",
       "Name: Can I Call you three hours before the interview and follow up on your attendance for the interview, dtype: int64"
      ]
     },
     "execution_count": 434,
     "metadata": {},
     "output_type": "execute_result"
    }
   ],
   "source": [
    "df['Can I Call you three hours before the interview and follow up on your attendance for the interview'].value_counts()"
   ]
  },
  {
   "cell_type": "code",
   "execution_count": 435,
   "metadata": {},
   "outputs": [
    {
     "data": {
      "text/plain": [
       "array(['Yes', 'No', 'No I have only thi number', 'yes', 'Na'],\n",
       "      dtype=object)"
      ]
     },
     "execution_count": 435,
     "metadata": {},
     "output_type": "execute_result"
    }
   ],
   "source": [
    "df['Can I have an alternative number/ desk number. I assure you that I will not trouble you too much'].unique()"
   ]
  },
  {
   "cell_type": "code",
   "execution_count": 437,
   "metadata": {},
   "outputs": [],
   "source": [
    "df['Can I have an alternative number/ desk number. I assure you that I will not trouble you too much']=np.where(df['Can I have an alternative number/ desk number. I assure you that I will not trouble you too much'] =='yes', 'Yes', df['Can I have an alternative number/ desk number. I assure you that I will not trouble you too much'])\n",
    "df['Can I have an alternative number/ desk number. I assure you that I will not trouble you too much']=np.where(df['Can I have an alternative number/ desk number. I assure you that I will not trouble you too much'] =='No I have only thi number', 'No', df['Can I have an alternative number/ desk number. I assure you that I will not trouble you too much'])\n",
    "df['Can I have an alternative number/ desk number. I assure you that I will not trouble you too much']=np.where(df['Can I have an alternative number/ desk number. I assure you that I will not trouble you too much'] =='na', 'No', df['Can I have an alternative number/ desk number. I assure you that I will not trouble you too much'])\n",
    "df['Can I have an alternative number/ desk number. I assure you that I will not trouble you too much']=np.where(df['Can I have an alternative number/ desk number. I assure you that I will not trouble you too much'] =='Na', 'No', df['Can I have an alternative number/ desk number. I assure you that I will not trouble you too much'])\n"
   ]
  },
  {
   "cell_type": "code",
   "execution_count": 438,
   "metadata": {},
   "outputs": [
    {
     "data": {
      "image/png": "[encoded data removed]",
      "text/plain": [
       "<Figure size 432x288 with 1 Axes>"
      ]
     },
     "metadata": {},
     "output_type": "display_data"
    }
   ],
   "source": [
    "sns.countplot(x=\"Can I have an alternative number/ desk number. I assure you that I will not trouble you too much\", data=df)\n",
    "plt.show()"
   ]
  },
  {
   "cell_type": "code",
   "execution_count": 439,
   "metadata": {},
   "outputs": [
    {
     "data": {
      "text/plain": [
       "Yes    937\n",
       "No      47\n",
       "Name: Can I have an alternative number/ desk number. I assure you that I will not trouble you too much, dtype: int64"
      ]
     },
     "execution_count": 439,
     "metadata": {},
     "output_type": "execute_result"
    }
   ],
   "source": [
    "df['Can I have an alternative number/ desk number. I assure you that I will not trouble you too much'].value_counts()"
   ]
  },
  {
   "cell_type": "code",
   "execution_count": 440,
   "metadata": {},
   "outputs": [
    {
     "data": {
      "text/plain": [
       "array(['Yes', 'No', 'No- will take it soon', 'Not yet', 'yes', 'Na',\n",
       "       'Not Yet'], dtype=object)"
      ]
     },
     "execution_count": 440,
     "metadata": {},
     "output_type": "execute_result"
    }
   ],
   "source": [
    "df['Have you taken a printout of your updated resume. Have you read the JD and understood the same'].unique()"
   ]
  },
  {
   "cell_type": "code",
   "execution_count": 441,
   "metadata": {},
   "outputs": [],
   "source": [
    "df['Have you taken a printout of your updated resume. Have you read the JD and understood the same']=np.where(df['Have you taken a printout of your updated resume. Have you read the JD and understood the same']=='yes','Yes',df['Have you taken a printout of your updated resume. Have you read the JD and understood the same'])\n",
    "df['Have you taken a printout of your updated resume. Have you read the JD and understood the same']=np.where(df['Have you taken a printout of your updated resume. Have you read the JD and understood the same']=='No- will take it soon','No',df['Have you taken a printout of your updated resume. Have you read the JD and understood the same'])\n",
    "df['Have you taken a printout of your updated resume. Have you read the JD and understood the same']=np.where(df['Have you taken a printout of your updated resume. Have you read the JD and understood the same']=='na','No',df['Have you taken a printout of your updated resume. Have you read the JD and understood the same'])\n",
    "df['Have you taken a printout of your updated resume. Have you read the JD and understood the same']=np.where(df['Have you taken a printout of your updated resume. Have you read the JD and understood the same']=='Na','No',df['Have you taken a printout of your updated resume. Have you read the JD and understood the same'])\n",
    "df['Have you taken a printout of your updated resume. Have you read the JD and understood the same']=np.where(df['Have you taken a printout of your updated resume. Have you read the JD and understood the same']=='Not yet','No',df['Have you taken a printout of your updated resume. Have you read the JD and understood the same'])\n",
    "df['Have you taken a printout of your updated resume. Have you read the JD and understood the same']=np.where(df['Have you taken a printout of your updated resume. Have you read the JD and understood the same']=='Not Yet','No',df['Have you taken a printout of your updated resume. Have you read the JD and understood the same'])\n"
   ]
  },
  {
   "cell_type": "code",
   "execution_count": 442,
   "metadata": {},
   "outputs": [
    {
     "data": {
      "image/png": "[encoded data removed]",
      "text/plain": [
       "<Figure size 432x288 with 1 Axes>"
      ]
     },
     "metadata": {},
     "output_type": "display_data"
    }
   ],
   "source": [
    "sns.countplot(x=\"Have you taken a printout of your updated resume. Have you read the JD and understood the same\", data=df)\n",
    "plt.show()"
   ]
  },
  {
   "cell_type": "code",
   "execution_count": 443,
   "metadata": {},
   "outputs": [
    {
     "data": {
      "text/plain": [
       "Yes    942\n",
       "No      42\n",
       "Name: Have you taken a printout of your updated resume. Have you read the JD and understood the same, dtype: int64"
      ]
     },
     "execution_count": 443,
     "metadata": {},
     "output_type": "execute_result"
    }
   ],
   "source": [
    "df['Have you taken a printout of your updated resume. Have you read the JD and understood the same'].value_counts()"
   ]
  },
  {
   "cell_type": "code",
   "execution_count": 444,
   "metadata": {},
   "outputs": [
    {
     "data": {
      "text/plain": [
       "array(['Yes', 'No', 'No- I need to check', 'yes', 'Na', 'no'],\n",
       "      dtype=object)"
      ]
     },
     "execution_count": 444,
     "metadata": {},
     "output_type": "execute_result"
    }
   ],
   "source": [
    "df['Are you clear with the venue details and the landmark.'].unique()"
   ]
  },
  {
   "cell_type": "code",
   "execution_count": 445,
   "metadata": {},
   "outputs": [],
   "source": [
    "df['Are you clear with the venue details and the landmark.']=np.where(df['Are you clear with the venue details and the landmark.']=='No- I need to check','No',df['Are you clear with the venue details and the landmark.'])\n",
    "df['Are you clear with the venue details and the landmark.']=np.where(df['Are you clear with the venue details and the landmark.']=='na','No',df['Are you clear with the venue details and the landmark.'])\n",
    "df['Are you clear with the venue details and the landmark.']=np.where(df['Are you clear with the venue details and the landmark.']=='no','No',df['Are you clear with the venue details and the landmark.'])\n",
    "df['Are you clear with the venue details and the landmark.']=np.where(df['Are you clear with the venue details and the landmark.']=='yes','Yes',df['Are you clear with the venue details and the landmark.'])\n",
    "df['Are you clear with the venue details and the landmark.']=np.where(df['Are you clear with the venue details and the landmark.']=='Na','No',df['Are you clear with the venue details and the landmark.'])"
   ]
  },
  {
   "cell_type": "code",
   "execution_count": 446,
   "metadata": {},
   "outputs": [
    {
     "data": {
      "image/png": "[encoded data removed]",
      "text/plain": [
       "<Figure size 432x288 with 1 Axes>"
      ]
     },
     "metadata": {},
     "output_type": "display_data"
    }
   ],
   "source": [
    "sns.countplot(x=\"Are you clear with the venue details and the landmark.\", data=df)\n",
    "plt.show()"
   ]
  },
  {
   "cell_type": "code",
   "execution_count": 447,
   "metadata": {},
   "outputs": [
    {
     "data": {
      "text/plain": [
       "Yes    948\n",
       "No      36\n",
       "Name: Are you clear with the venue details and the landmark., dtype: int64"
      ]
     },
     "execution_count": 447,
     "metadata": {},
     "output_type": "execute_result"
    }
   ],
   "source": [
    "df['Are you clear with the venue details and the landmark.'].value_counts()"
   ]
  },
  {
   "cell_type": "code",
   "execution_count": 448,
   "metadata": {},
   "outputs": [
    {
     "data": {
      "text/plain": [
       "array(['Yes', 'Havent Checked', 'No', 'Need To Check', 'Not sure',\n",
       "       'Not Sure', 'Not yet', 'no', 'yes', 'Na'], dtype=object)"
      ]
     },
     "execution_count": 448,
     "metadata": {},
     "output_type": "execute_result"
    }
   ],
   "source": [
    "df['Has the call letter been shared'].unique()"
   ]
  },
  {
   "cell_type": "code",
   "execution_count": 449,
   "metadata": {},
   "outputs": [],
   "source": [
    "df['Has the call letter been shared']=np.where(df['Has the call letter been shared']=='Havent Checked','No',df['Has the call letter been shared'])\n",
    "df['Has the call letter been shared']=np.where(df['Has the call letter been shared']=='Need To Check','No',df['Has the call letter been shared'])\n",
    "df['Has the call letter been shared']=np.where(df['Has the call letter been shared']=='Not sure','No',df['Has the call letter been shared'])\n",
    "df['Has the call letter been shared']=np.where(df['Has the call letter been shared']=='Yet to Check','No',df['Has the call letter been shared'])\n",
    "df['Has the call letter been shared']=np.where(df['Has the call letter been shared']=='Not Sure','No',df['Has the call letter been shared'])\n",
    "df['Has the call letter been shared']=np.where(df['Has the call letter been shared']=='Not yet','No',df['Has the call letter been shared'])\n",
    "df['Has the call letter been shared']=np.where(df['Has the call letter been shared']=='no','No',df['Has the call letter been shared'])\n",
    "df['Has the call letter been shared']=np.where(df['Has the call letter been shared']=='na','No',df['Has the call letter been shared'])\n",
    "df['Has the call letter been shared']=np.where(df['Has the call letter been shared']=='yes','Yes',df['Has the call letter been shared'])\n",
    "df['Has the call letter been shared']=np.where(df['Has the call letter been shared']=='Na','No',df['Has the call letter been shared'])\n",
    "df['Has the call letter been shared']=np.where(df['Has the call letter been shared']=='nan','No',df['Has the call letter been shared'])\n",
    "\n",
    "\n"
   ]
  },
  {
   "cell_type": "code",
   "execution_count": 450,
   "metadata": {},
   "outputs": [
    {
     "data": {
      "image/png": "[encoded data removed]",
      "text/plain": [
       "<Figure size 432x288 with 1 Axes>"
      ]
     },
     "metadata": {},
     "output_type": "display_data"
    }
   ],
   "source": [
    "sns.countplot(df['Has the call letter been shared'], data=df)\n",
    "plt.show()"
   ]
  },
  {
   "cell_type": "code",
   "execution_count": 451,
   "metadata": {},
   "outputs": [
    {
     "data": {
      "text/plain": [
       "Yes    934\n",
       "No      50\n",
       "Name: Has the call letter been shared, dtype: int64"
      ]
     },
     "execution_count": 451,
     "metadata": {},
     "output_type": "execute_result"
    }
   ],
   "source": [
    "df['Has the call letter been shared'].value_counts()"
   ]
  },
  {
   "cell_type": "code",
   "execution_count": 452,
   "metadata": {},
   "outputs": [
    {
     "data": {
      "text/plain": [
       "array(['Yes', 'Uncertain', 'No', 'yes', '10.30 Am'], dtype=object)"
      ]
     },
     "execution_count": 452,
     "metadata": {},
     "output_type": "execute_result"
    }
   ],
   "source": [
    "df['Expected Attendance'].unique()"
   ]
  },
  {
   "cell_type": "code",
   "execution_count": 453,
   "metadata": {},
   "outputs": [],
   "source": [
    "df['Expected Attendance']=np.where(df['Expected Attendance']=='Uncertain','No',df['Expected Attendance'])\n",
    "df['Expected Attendance']=np.where(df['Expected Attendance']=='NO','No',df['Expected Attendance'])\n",
    "df['Expected Attendance']=np.where(df['Expected Attendance']=='yes','Yes',df['Expected Attendance'])\n",
    "df['Expected Attendance']=np.where(df['Expected Attendance']=='10.30 Am','Yes',df['Expected Attendance'])\n",
    "df['Expected Attendance']=np.where(df['Expected Attendance']== 'nan','No',df['Expected Attendance'])\n",
    "\n",
    "\n"
   ]
  },
  {
   "cell_type": "code",
   "execution_count": 454,
   "metadata": {},
   "outputs": [
    {
     "data": {
      "image/png": "[encoded data removed]",
      "text/plain": [
       "<Figure size 432x288 with 1 Axes>"
      ]
     },
     "metadata": {},
     "output_type": "display_data"
    }
   ],
   "source": [
    "sns.countplot(df['Expected Attendance'], data=df)\n",
    "plt.show()"
   ]
  },
  {
   "cell_type": "code",
   "execution_count": 455,
   "metadata": {},
   "outputs": [
    {
     "data": {
      "text/plain": [
       "Yes    885\n",
       "No      99\n",
       "Name: Expected Attendance, dtype: int64"
      ]
     },
     "execution_count": 455,
     "metadata": {},
     "output_type": "execute_result"
    }
   ],
   "source": [
    "df['Expected Attendance'].value_counts()"
   ]
  },
  {
   "cell_type": "code",
   "execution_count": 456,
   "metadata": {},
   "outputs": [
    {
     "data": {
      "text/plain": [
       "pandas.core.frame.DataFrame"
      ]
     },
     "execution_count": 456,
     "metadata": {},
     "output_type": "execute_result"
    }
   ],
   "source": [
    "type(df)"
   ]
  },
  {
   "cell_type": "code",
   "execution_count": null,
   "metadata": {},
   "outputs": [],
   "source": [
    "#df.to_csv('D:/CleanedInterviews_final.csv', encoding='utf-8', index=False)"
   ]
  },
  {
   "cell_type": "code",
   "execution_count": 457,
   "metadata": {},
   "outputs": [
    {
     "data": {
      "text/plain": [
       "Standard Chartered Bank    725\n",
       "Hospira                     61\n",
       "Pfizer                      57\n",
       "Hewitt                      48\n",
       "ANZ                         22\n",
       "UST                         18\n",
       "Prodapt                     17\n",
       "Flextronics                 13\n",
       "Williams Lea                11\n",
       "Astrazeneca                  6\n",
       "Barclays                     5\n",
       "Woori Bank                   1\n",
       "Name: Client name, dtype: int64"
      ]
     },
     "execution_count": 457,
     "metadata": {},
     "output_type": "execute_result"
    }
   ],
   "source": [
    "df['Client name'].value_counts()"
   ]
  },
  {
   "cell_type": "code",
   "execution_count": 458,
   "metadata": {},
   "outputs": [
    {
     "data": {
      "text/plain": [
       "Single     620\n",
       "Married    364\n",
       "Name: Marital Status, dtype: int64"
      ]
     },
     "execution_count": 458,
     "metadata": {},
     "output_type": "execute_result"
    }
   ],
   "source": [
    "df['Marital Status'].value_counts()"
   ]
  },
  {
   "cell_type": "code",
   "execution_count": 459,
   "metadata": {},
   "outputs": [
    {
     "data": {
      "text/plain": [
       "Scheduled Walk In    516\n",
       "Scheduled            297\n",
       "Walkin               171\n",
       "Name: Interview Type, dtype: int64"
      ]
     },
     "execution_count": 459,
     "metadata": {},
     "output_type": "execute_result"
    }
   ],
   "source": [
    "df['Interview Type'].value_counts()"
   ]
  },
  {
   "cell_type": "code",
   "execution_count": 460,
   "metadata": {},
   "outputs": [],
   "source": [
    "df['Interview Type']=np.where(df['Interview Type']=='Scheduled Walk In','Scheduled',df['Interview Type'])\n",
    "df['Interview Type']=np.where(df['Interview Type']=='Scheduled Walkin','Scheduled',df['Interview Type'])\n",
    "df['Interview Type']=np.where(df['Interview Type']=='Sceduled walkin','Scheduled',df['Interview Type'])\n",
    "df['Interview Type']=np.where(df['Interview Type']=='Scheduled','Scheduled',df['Interview Type'])\n",
    "df['Interview Type']=np.where(df['Interview Type']=='Scheduled ','Scheduled',df['Interview Type'])\n",
    "df['Interview Type']=np.where(df['Interview Type']=='Walkin ','Non-Scheduled',df['Interview Type'])\n",
    "df['Interview Type']=np.where(df['Interview Type']=='Walkin','Non-Scheduled',df['Interview Type'])"
   ]
  },
  {
   "cell_type": "code",
   "execution_count": 461,
   "metadata": {},
   "outputs": [
    {
     "data": {
      "image/png": "[encoded data removed]",
      "text/plain": [
       "<Figure size 432x288 with 1 Axes>"
      ]
     },
     "metadata": {},
     "output_type": "display_data"
    }
   ],
   "source": [
    "sns.countplot(df['Interview Type'], data=df)\n",
    "plt.show()"
   ]
  },
  {
   "cell_type": "code",
   "execution_count": 463,
   "metadata": {},
   "outputs": [
    {
     "data": {
      "text/plain": [
       "Routine                807\n",
       "Niche                  131\n",
       "Dot Net                 18\n",
       "Trade Finance           11\n",
       "AML                      8\n",
       "Selenium testing         5\n",
       "Production- Sterile      4\n",
       "Name: Position to be closed, dtype: int64"
      ]
     },
     "execution_count": 463,
     "metadata": {},
     "output_type": "execute_result"
    }
   ],
   "source": [
    "df['Position to be closed'].value_counts()"
   ]
  },
  {
   "cell_type": "code",
   "execution_count": 464,
   "metadata": {},
   "outputs": [],
   "source": [
    "df['Position to be closed']=np.where(df['Position to be closed']=='Trade Finance','Routine',df['Position to be closed'])\n",
    "df['Position to be closed']=np.where(df['Position to be closed']=='Dot Net','Niche',df['Position to be closed'])\n",
    "df['Position to be closed']=np.where(df['Position to be closed']=='Production- Sterile','Routine',df['Position to be closed'])\n",
    "df['Position to be closed']=np.where(df['Position to be closed']=='AML','Niche',df['Position to be closed'])\n",
    "df['Position to be closed']=np.where(df['Position to be closed']=='Selenium testing','Niche',df['Position to be closed'])"
   ]
  },
  {
   "cell_type": "code",
   "execution_count": 465,
   "metadata": {},
   "outputs": [
    {
     "data": {
      "image/png": "[encoded data removed]",
      "text/plain": [
       "<Figure size 432x288 with 1 Axes>"
      ]
     },
     "metadata": {},
     "output_type": "display_data"
    }
   ],
   "source": [
    "sns.countplot(df['Position to be closed'])\n",
    "plt.show()"
   ]
  },
  {
   "cell_type": "code",
   "execution_count": 466,
   "metadata": {},
   "outputs": [
    {
     "data": {
      "text/plain": [
       "BFSI                        753\n",
       "Pharmaceuticals             124\n",
       "IT Products and Services     43\n",
       "IT Services                  23\n",
       "Telecom                      17\n",
       "Electronics                  13\n",
       "IT                           11\n",
       "Name: Industry, dtype: int64"
      ]
     },
     "execution_count": 466,
     "metadata": {},
     "output_type": "execute_result"
    }
   ],
   "source": [
    "df['Industry'].value_counts()"
   ]
  },
  {
   "cell_type": "code",
   "execution_count": 467,
   "metadata": {},
   "outputs": [],
   "source": [
    "df['Industry']=np.where(df['Industry']=='IT Products and Services','IT',df['Industry'])\n",
    "df['Industry']=np.where(df['Industry']=='IT Services','IT',df['Industry'])"
   ]
  },
  {
   "cell_type": "code",
   "execution_count": 468,
   "metadata": {},
   "outputs": [
    {
     "data": {
      "image/png": "[encoded data removed]",
      "text/plain": [
       "<Figure size 432x288 with 1 Axes>"
      ]
     },
     "metadata": {},
     "output_type": "display_data"
    }
   ],
   "source": [
    "sns.countplot(df['Industry'])\n",
    "plt.show()"
   ]
  },
  {
   "cell_type": "code",
   "execution_count": 478,
   "metadata": {},
   "outputs": [],
   "source": [
    "df.to_csv('D:/CleanedInterviews_final.csv', encoding='utf-8', index=False)"
   ]
  },
  {
   "cell_type": "code",
   "execution_count": 479,
   "metadata": {},
   "outputs": [],
   "source": [
    "from sklearn import datasets, linear_model\n",
    "from sklearn.metrics import accuracy_score\n",
    "from sklearn.metrics import r2_score\n",
    "from sklearn.preprocessing import LabelEncoder\n",
    "import statsmodels.api as sm"
   ]
  },
  {
   "cell_type": "code",
   "execution_count": 480,
   "metadata": {},
   "outputs": [],
   "source": [
    "df_data = df.dropna()"
   ]
  },
  {
   "cell_type": "code",
   "execution_count": 481,
   "metadata": {},
   "outputs": [
    {
     "name": "stdout",
     "output_type": "stream",
     "text": [
      "(984, 23)\n"
     ]
    }
   ],
   "source": [
    "print(df_data.shape)"
   ]
  },
  {
   "cell_type": "code",
   "execution_count": 482,
   "metadata": {},
   "outputs": [],
   "source": [
    "df_data.drop(df_data.columns[0], axis=1, inplace=True)"
   ]
  },
  {
   "cell_type": "code",
   "execution_count": 483,
   "metadata": {},
   "outputs": [
    {
     "name": "stdout",
     "output_type": "stream",
     "text": [
      "(984, 22)\n"
     ]
    }
   ],
   "source": [
    "print(df_data.shape)"
   ]
  },
  {
   "cell_type": "code",
   "execution_count": 484,
   "metadata": {},
   "outputs": [
    {
     "name": "stdout",
     "output_type": "stream",
     "text": [
      "                  Client name         Industry   Location  \\\n",
      "0                     Hospira  Pharmaceuticals    Chennai   \n",
      "1                     Hospira  Pharmaceuticals    Chennai   \n",
      "3                     Hospira  Pharmaceuticals    Chennai   \n",
      "4                     Hospira  Pharmaceuticals    Chennai   \n",
      "5                      Hewitt               IT    Gurgaon   \n",
      "6                      Hewitt               IT    Gurgaon   \n",
      "7                      Hewitt               IT    Gurgaon   \n",
      "8                      Hewitt               IT    Gurgaon   \n",
      "9                      Hewitt               IT    Gurgaon   \n",
      "10                        UST               IT  Bangalore   \n",
      "11                        UST               IT  Bangalore   \n",
      "12                        UST               IT  Bangalore   \n",
      "13                        UST               IT  Bangalore   \n",
      "14                        UST               IT  Bangalore   \n",
      "15                        UST               IT  Bangalore   \n",
      "16                        UST               IT  Bangalore   \n",
      "17                        UST               IT  Bangalore   \n",
      "18                        UST               IT  Bangalore   \n",
      "19                        UST               IT  Bangalore   \n",
      "20                        UST               IT  Bangalore   \n",
      "21                        UST               IT  Bangalore   \n",
      "22                        UST               IT  Bangalore   \n",
      "23                        UST               IT  Bangalore   \n",
      "24                        UST               IT  Bangalore   \n",
      "25                        UST               IT  Bangalore   \n",
      "26                        UST               IT  Bangalore   \n",
      "27                        UST               IT  Bangalore   \n",
      "28    Standard Chartered Bank             BFSI    Chennai   \n",
      "29    Standard Chartered Bank             BFSI    Chennai   \n",
      "30    Standard Chartered Bank             BFSI    Chennai   \n",
      "...                       ...              ...        ...   \n",
      "1202  Standard Chartered Bank             BFSI    Chennai   \n",
      "1203  Standard Chartered Bank             BFSI    Chennai   \n",
      "1204  Standard Chartered Bank             BFSI    Chennai   \n",
      "1205  Standard Chartered Bank             BFSI    Chennai   \n",
      "1206  Standard Chartered Bank             BFSI    Chennai   \n",
      "1207  Standard Chartered Bank             BFSI    Chennai   \n",
      "1208  Standard Chartered Bank             BFSI    Chennai   \n",
      "1209  Standard Chartered Bank             BFSI    Chennai   \n",
      "1210  Standard Chartered Bank             BFSI    Chennai   \n",
      "1211  Standard Chartered Bank             BFSI    Chennai   \n",
      "1212  Standard Chartered Bank             BFSI    Chennai   \n",
      "1213  Standard Chartered Bank             BFSI    Chennai   \n",
      "1214  Standard Chartered Bank             BFSI    Chennai   \n",
      "1215  Standard Chartered Bank             BFSI    Chennai   \n",
      "1216  Standard Chartered Bank             BFSI    Chennai   \n",
      "1217                   Pfizer  Pharmaceuticals    Chennai   \n",
      "1218                   Pfizer  Pharmaceuticals    Chennai   \n",
      "1219                   Pfizer  Pharmaceuticals    Chennai   \n",
      "1220                   Pfizer  Pharmaceuticals    Chennai   \n",
      "1221                   Pfizer  Pharmaceuticals    Chennai   \n",
      "1222                   Pfizer  Pharmaceuticals    Chennai   \n",
      "1223                   Pfizer  Pharmaceuticals    Chennai   \n",
      "1224                   Pfizer  Pharmaceuticals    Chennai   \n",
      "1225                   Pfizer  Pharmaceuticals    Chennai   \n",
      "1226                   Pfizer  Pharmaceuticals    Chennai   \n",
      "1227                   Pfizer  Pharmaceuticals    Chennai   \n",
      "1228                   Pfizer  Pharmaceuticals    Chennai   \n",
      "1229                   Pfizer  Pharmaceuticals    Chennai   \n",
      "1230                   Pfizer  Pharmaceuticals    Chennai   \n",
      "1231                   Pfizer  Pharmaceuticals    Chennai   \n",
      "\n",
      "     Position to be closed  Nature of Skillset Interview Type   Name(Cand ID)  \\\n",
      "0                  Routine             Routine      Scheduled     Candidate 1   \n",
      "1                  Routine             Routine      Scheduled     Candidate 2   \n",
      "3                  Routine             Routine      Scheduled     Candidate 4   \n",
      "4                  Routine             Routine      Scheduled     Candidate 5   \n",
      "5                    Niche             Routine      Scheduled     Candidate 6   \n",
      "6                    Niche             Routine      Scheduled     Candidate 7   \n",
      "7                    Niche             Routine      Scheduled     Candidate 8   \n",
      "8                    Niche             Routine      Scheduled     Candidate 9   \n",
      "9                    Niche             Routine      Scheduled    Candidate 10   \n",
      "10                   Niche             Routine      Scheduled    Candidate 11   \n",
      "11                   Niche             Routine      Scheduled    Candidate 12   \n",
      "12                   Niche             Routine      Scheduled    Candidate 13   \n",
      "13                   Niche             Routine      Scheduled    Candidate 14   \n",
      "14                   Niche             Routine      Scheduled    Candidate 15   \n",
      "15                   Niche             Routine      Scheduled    Candidate 16   \n",
      "16                   Niche             Routine      Scheduled    Candidate 17   \n",
      "17                   Niche             Routine      Scheduled    Candidate 18   \n",
      "18                   Niche             Routine      Scheduled    Candidate 19   \n",
      "19                   Niche             Routine      Scheduled    Candidate 20   \n",
      "20                   Niche             Routine      Scheduled    Candidate 21   \n",
      "21                   Niche             Routine      Scheduled    Candidate 22   \n",
      "22                   Niche             Routine      Scheduled    Candidate 23   \n",
      "23                   Niche             Routine      Scheduled    Candidate 24   \n",
      "24                   Niche             Routine      Scheduled    Candidate 25   \n",
      "25                   Niche             Routine      Scheduled    Candidate 26   \n",
      "26                   Niche             Routine      Scheduled    Candidate 27   \n",
      "27                   Niche             Routine      Scheduled    Candidate 28   \n",
      "28                   Niche             Routine      Scheduled    Candidate 29   \n",
      "29                   Niche             Routine      Scheduled    Candidate 30   \n",
      "30                   Niche             Routine      Scheduled    Candidate 31   \n",
      "...                    ...                 ...            ...             ...   \n",
      "1202               Routine                Java      Scheduled  Candidate 1203   \n",
      "1203               Routine                Java      Scheduled  Candidate 1204   \n",
      "1204               Routine                Java      Scheduled  Candidate 1205   \n",
      "1205               Routine                Java      Scheduled  Candidate 1206   \n",
      "1206               Routine                Java      Scheduled  Candidate 1207   \n",
      "1207               Routine                Java      Scheduled  Candidate 1208   \n",
      "1208               Routine                Java      Scheduled  Candidate 1209   \n",
      "1209               Routine                Java      Scheduled  Candidate 1210   \n",
      "1210               Routine                Java      Scheduled  Candidate 1211   \n",
      "1211               Routine                Java      Scheduled  Candidate 1212   \n",
      "1212               Routine                Java      Scheduled  Candidate 1213   \n",
      "1213               Routine                Java      Scheduled  Candidate 1214   \n",
      "1214               Routine                Java      Scheduled  Candidate 1215   \n",
      "1215               Routine                Java      Scheduled  Candidate 1216   \n",
      "1216               Routine                Java      Scheduled  Candidate 1217   \n",
      "1217                 Niche         Biosimilars      Scheduled  Candidate 1218   \n",
      "1218                 Niche       RA Publishing      Scheduled  Candidate 1219   \n",
      "1219                 Niche       RA Publishing      Scheduled  Candidate 1220   \n",
      "1220                 Niche       RA Publishing      Scheduled  Candidate 1221   \n",
      "1221                 Niche                EMEA      Scheduled  Candidate 1222   \n",
      "1222                 Niche                EMEA      Scheduled  Candidate 1223   \n",
      "1223                 Niche                EMEA      Scheduled  Candidate 1224   \n",
      "1224                 Niche         Biosimilars      Scheduled  Candidate 1225   \n",
      "1225                 Niche        LCM -Manager      Scheduled  Candidate 1226   \n",
      "1226                 Niche      Licensing – RA      Scheduled  Candidate 1227   \n",
      "1227                 Niche      Licensing – RA      Scheduled  Candidate 1228   \n",
      "1228                 Niche  generic drugs – RA      Scheduled  Candidate 1229   \n",
      "1229                 Niche         Biosimilars      Scheduled  Candidate 1230   \n",
      "1230                 Niche         Biosimilars      Scheduled  Candidate 1231   \n",
      "1231                 Niche  generic drugs – RA      Scheduled  Candidate 1232   \n",
      "\n",
      "      Gender Candidate Current Location Candidate Job Location      ...        \\\n",
      "0       Male                    Chennai                  Hosur      ...         \n",
      "1       Male                    Chennai              Bangalore      ...         \n",
      "3       Male                    Chennai                Chennai      ...         \n",
      "4       Male                    Chennai              Bangalore      ...         \n",
      "5       Male                    Gurgaon                Gurgaon      ...         \n",
      "6       Male                    Gurgaon                Gurgaon      ...         \n",
      "7     Female                    Gurgaon                Gurgaon      ...         \n",
      "8       Male                    Gurgaon                Gurgaon      ...         \n",
      "9     Female                    Gurgaon                Gurgaon      ...         \n",
      "10      Male                  Bangalore              Bangalore      ...         \n",
      "11    Female                  Bangalore              Bangalore      ...         \n",
      "12      Male                  Bangalore              Bangalore      ...         \n",
      "13      Male                  Bangalore              Bangalore      ...         \n",
      "14      Male                  Bangalore              Bangalore      ...         \n",
      "15    Female                  Bangalore              Bangalore      ...         \n",
      "16    Female                  Bangalore              Bangalore      ...         \n",
      "17    Female                  Bangalore              Bangalore      ...         \n",
      "18      Male                  Bangalore              Bangalore      ...         \n",
      "19      Male                  Bangalore              Bangalore      ...         \n",
      "20      Male                  Bangalore              Bangalore      ...         \n",
      "21      Male                  Bangalore              Bangalore      ...         \n",
      "22      Male                  Bangalore              Bangalore      ...         \n",
      "23      Male                  Bangalore              Bangalore      ...         \n",
      "24      Male                  Bangalore              Bangalore      ...         \n",
      "25      Male                  Bangalore              Bangalore      ...         \n",
      "26      Male                  Bangalore              Bangalore      ...         \n",
      "27      Male                  Bangalore              Bangalore      ...         \n",
      "28    Female                    Chennai                Chennai      ...         \n",
      "29    Female                    Chennai                Chennai      ...         \n",
      "30    Female                    Chennai                Chennai      ...         \n",
      "...      ...                        ...                    ...      ...         \n",
      "1202    Male                    Chennai                Chennai      ...         \n",
      "1203    Male                    Chennai                Chennai      ...         \n",
      "1204    Male                    Chennai                Chennai      ...         \n",
      "1205  Female                    Chennai                Chennai      ...         \n",
      "1206    Male                    Chennai                Chennai      ...         \n",
      "1207    Male                    Chennai                Chennai      ...         \n",
      "1208    Male                    Chennai                Chennai      ...         \n",
      "1209    Male                    Chennai                Chennai      ...         \n",
      "1210    Male                    Chennai                Chennai      ...         \n",
      "1211    Male                    Chennai                Chennai      ...         \n",
      "1212    Male                    Chennai                Chennai      ...         \n",
      "1213    Male                    Chennai                Chennai      ...         \n",
      "1214  Female                    Chennai                Chennai      ...         \n",
      "1215    Male                    Chennai                Chennai      ...         \n",
      "1216    Male                    Chennai                Chennai      ...         \n",
      "1217    Male                    Chennai                Chennai      ...         \n",
      "1218    Male                    Chennai                Chennai      ...         \n",
      "1219    Male                    Chennai                Chennai      ...         \n",
      "1220    Male                    Chennai                Chennai      ...         \n",
      "1221    Male                    Chennai                Chennai      ...         \n",
      "1222    Male                    Chennai                Chennai      ...         \n",
      "1223    Male                    Chennai                Chennai      ...         \n",
      "1224    Male                    Chennai                Chennai      ...         \n",
      "1225    Male                    Chennai                Chennai      ...         \n",
      "1226    Male                    Chennai                Chennai      ...         \n",
      "1227    Male                    Chennai                Chennai      ...         \n",
      "1228    Male                    Chennai                Chennai      ...         \n",
      "1229    Male                    Chennai                Chennai      ...         \n",
      "1230    Male                    Chennai                Chennai      ...         \n",
      "1231    Male                    Chennai                Chennai      ...         \n",
      "\n",
      "     Have you obtained the necessary permission to start at the required time  \\\n",
      "0                                                   Yes                         \n",
      "1                                                   Yes                         \n",
      "3                                                   Yes                         \n",
      "4                                                   Yes                         \n",
      "5                                                   Yes                         \n",
      "6                                                   Yes                         \n",
      "7                                                   Yes                         \n",
      "8                                                   Yes                         \n",
      "9                                                   Yes                         \n",
      "10                                                  Yes                         \n",
      "11                                                   No                         \n",
      "12                                                  Yes                         \n",
      "13                                                   No                         \n",
      "14                                                  Yes                         \n",
      "15                                                  Yes                         \n",
      "16                                                  Yes                         \n",
      "17                                                   No                         \n",
      "18                                                  Yes                         \n",
      "19                                                  Yes                         \n",
      "20                                                   No                         \n",
      "21                                                  Yes                         \n",
      "22                                                  Yes                         \n",
      "23                                                  Yes                         \n",
      "24                                                  Yes                         \n",
      "25                                                   No                         \n",
      "26                                                   No                         \n",
      "27                                                   No                         \n",
      "28                                                  Yes                         \n",
      "29                                                  Yes                         \n",
      "30                                                  Yes                         \n",
      "...                                                 ...                         \n",
      "1202                                                Yes                         \n",
      "1203                                                Yes                         \n",
      "1204                                                Yes                         \n",
      "1205                                                Yes                         \n",
      "1206                                                Yes                         \n",
      "1207                                                Yes                         \n",
      "1208                                                Yes                         \n",
      "1209                                                Yes                         \n",
      "1210                                                Yes                         \n",
      "1211                                                Yes                         \n",
      "1212                                                Yes                         \n",
      "1213                                                Yes                         \n",
      "1214                                                Yes                         \n",
      "1215                                                Yes                         \n",
      "1216                                                Yes                         \n",
      "1217                                                Yes                         \n",
      "1218                                                Yes                         \n",
      "1219                                                Yes                         \n",
      "1220                                                Yes                         \n",
      "1221                                                Yes                         \n",
      "1222                                                Yes                         \n",
      "1223                                                Yes                         \n",
      "1224                                                Yes                         \n",
      "1225                                                Yes                         \n",
      "1226                                                Yes                         \n",
      "1227                                                Yes                         \n",
      "1228                                                Yes                         \n",
      "1229                                                Yes                         \n",
      "1230                                                Yes                         \n",
      "1231                                                Yes                         \n",
      "\n",
      "     Hope there will be no unscheduled meetings  \\\n",
      "0                                           Yes   \n",
      "1                                           Yes   \n",
      "3                                           Yes   \n",
      "4                                           Yes   \n",
      "5                                           Yes   \n",
      "6                                           Yes   \n",
      "7                                           Yes   \n",
      "8                                           Yes   \n",
      "9                                           Yes   \n",
      "10                                          Yes   \n",
      "11                                          Yes   \n",
      "12                                          Yes   \n",
      "13                                          Yes   \n",
      "14                                          Yes   \n",
      "15                                          Yes   \n",
      "16                                          Yes   \n",
      "17                                          Yes   \n",
      "18                                          Yes   \n",
      "19                                          Yes   \n",
      "20                                          Yes   \n",
      "21                                          Yes   \n",
      "22                                          Yes   \n",
      "23                                          Yes   \n",
      "24                                          Yes   \n",
      "25                                           No   \n",
      "26                                          Yes   \n",
      "27                                          Yes   \n",
      "28                                          Yes   \n",
      "29                                          Yes   \n",
      "30                                          Yes   \n",
      "...                                         ...   \n",
      "1202                                        Yes   \n",
      "1203                                        Yes   \n",
      "1204                                        Yes   \n",
      "1205                                        Yes   \n",
      "1206                                        Yes   \n",
      "1207                                        Yes   \n",
      "1208                                        Yes   \n",
      "1209                                        Yes   \n",
      "1210                                        Yes   \n",
      "1211                                        Yes   \n",
      "1212                                        Yes   \n",
      "1213                                        Yes   \n",
      "1214                                        Yes   \n",
      "1215                                        Yes   \n",
      "1216                                        Yes   \n",
      "1217                                        Yes   \n",
      "1218                                        Yes   \n",
      "1219                                        Yes   \n",
      "1220                                        Yes   \n",
      "1221                                        Yes   \n",
      "1222                                        Yes   \n",
      "1223                                        Yes   \n",
      "1224                                        Yes   \n",
      "1225                                        Yes   \n",
      "1226                                        Yes   \n",
      "1227                                        Yes   \n",
      "1228                                        Yes   \n",
      "1229                                        Yes   \n",
      "1230                                        Yes   \n",
      "1231                                        Yes   \n",
      "\n",
      "     Can I Call you three hours before the interview and follow up on your attendance for the interview  \\\n",
      "0                                                   Yes                                                   \n",
      "1                                                   Yes                                                   \n",
      "3                                                    No                                                   \n",
      "4                                                   Yes                                                   \n",
      "5                                                   Yes                                                   \n",
      "6                                                   Yes                                                   \n",
      "7                                                   Yes                                                   \n",
      "8                                                   Yes                                                   \n",
      "9                                                   Yes                                                   \n",
      "10                                                  Yes                                                   \n",
      "11                                                   No                                                   \n",
      "12                                                  Yes                                                   \n",
      "13                                                  Yes                                                   \n",
      "14                                                  Yes                                                   \n",
      "15                                                  Yes                                                   \n",
      "16                                                  Yes                                                   \n",
      "17                                                  Yes                                                   \n",
      "18                                                  Yes                                                   \n",
      "19                                                  Yes                                                   \n",
      "20                                                  Yes                                                   \n",
      "21                                                  Yes                                                   \n",
      "22                                                  Yes                                                   \n",
      "23                                                  Yes                                                   \n",
      "24                                                  Yes                                                   \n",
      "25                                                  Yes                                                   \n",
      "26                                                  Yes                                                   \n",
      "27                                                  Yes                                                   \n",
      "28                                                  Yes                                                   \n",
      "29                                                  Yes                                                   \n",
      "30                                                  Yes                                                   \n",
      "...                                                 ...                                                   \n",
      "1202                                                Yes                                                   \n",
      "1203                                                Yes                                                   \n",
      "1204                                                Yes                                                   \n",
      "1205                                                Yes                                                   \n",
      "1206                                                Yes                                                   \n",
      "1207                                                Yes                                                   \n",
      "1208                                                Yes                                                   \n",
      "1209                                                Yes                                                   \n",
      "1210                                                Yes                                                   \n",
      "1211                                                Yes                                                   \n",
      "1212                                                Yes                                                   \n",
      "1213                                                Yes                                                   \n",
      "1214                                                Yes                                                   \n",
      "1215                                                Yes                                                   \n",
      "1216                                                Yes                                                   \n",
      "1217                                                Yes                                                   \n",
      "1218                                                Yes                                                   \n",
      "1219                                                Yes                                                   \n",
      "1220                                                Yes                                                   \n",
      "1221                                                Yes                                                   \n",
      "1222                                                Yes                                                   \n",
      "1223                                                Yes                                                   \n",
      "1224                                                Yes                                                   \n",
      "1225                                                Yes                                                   \n",
      "1226                                                Yes                                                   \n",
      "1227                                                Yes                                                   \n",
      "1228                                                Yes                                                   \n",
      "1229                                                Yes                                                   \n",
      "1230                                                Yes                                                   \n",
      "1231                                                Yes                                                   \n",
      "\n",
      "     Can I have an alternative number/ desk number. I assure you that I will not trouble you too much  \\\n",
      "0                                                   Yes                                                 \n",
      "1                                                   Yes                                                 \n",
      "3                                                   Yes                                                 \n",
      "4                                                    No                                                 \n",
      "5                                                   Yes                                                 \n",
      "6                                                   Yes                                                 \n",
      "7                                                   Yes                                                 \n",
      "8                                                   Yes                                                 \n",
      "9                                                   Yes                                                 \n",
      "10                                                  Yes                                                 \n",
      "11                                                   No                                                 \n",
      "12                                                  Yes                                                 \n",
      "13                                                  Yes                                                 \n",
      "14                                                  Yes                                                 \n",
      "15                                                  Yes                                                 \n",
      "16                                                  Yes                                                 \n",
      "17                                                   No                                                 \n",
      "18                                                  Yes                                                 \n",
      "19                                                  Yes                                                 \n",
      "20                                                  Yes                                                 \n",
      "21                                                  Yes                                                 \n",
      "22                                                  Yes                                                 \n",
      "23                                                  Yes                                                 \n",
      "24                                                   No                                                 \n",
      "25                                                  Yes                                                 \n",
      "26                                                  Yes                                                 \n",
      "27                                                  Yes                                                 \n",
      "28                                                  Yes                                                 \n",
      "29                                                  Yes                                                 \n",
      "30                                                  Yes                                                 \n",
      "...                                                 ...                                                 \n",
      "1202                                                Yes                                                 \n",
      "1203                                                Yes                                                 \n",
      "1204                                                Yes                                                 \n",
      "1205                                                Yes                                                 \n",
      "1206                                                Yes                                                 \n",
      "1207                                                Yes                                                 \n",
      "1208                                                Yes                                                 \n",
      "1209                                                Yes                                                 \n",
      "1210                                                Yes                                                 \n",
      "1211                                                Yes                                                 \n",
      "1212                                                Yes                                                 \n",
      "1213                                                Yes                                                 \n",
      "1214                                                Yes                                                 \n",
      "1215                                                Yes                                                 \n",
      "1216                                                Yes                                                 \n",
      "1217                                                Yes                                                 \n",
      "1218                                                Yes                                                 \n",
      "1219                                                Yes                                                 \n",
      "1220                                                Yes                                                 \n",
      "1221                                                Yes                                                 \n",
      "1222                                                Yes                                                 \n",
      "1223                                                Yes                                                 \n",
      "1224                                                Yes                                                 \n",
      "1225                                                Yes                                                 \n",
      "1226                                                Yes                                                 \n",
      "1227                                                Yes                                                 \n",
      "1228                                                Yes                                                 \n",
      "1229                                                Yes                                                 \n",
      "1230                                                Yes                                                 \n",
      "1231                                                Yes                                                 \n",
      "\n",
      "     Have you taken a printout of your updated resume. Have you read the JD and understood the same  \\\n",
      "0                                                   Yes                                               \n",
      "1                                                   Yes                                               \n",
      "3                                                    No                                               \n",
      "4                                                   Yes                                               \n",
      "5                                                   Yes                                               \n",
      "6                                                   Yes                                               \n",
      "7                                                   Yes                                               \n",
      "8                                                   Yes                                               \n",
      "9                                                   Yes                                               \n",
      "10                                                  Yes                                               \n",
      "11                                                  Yes                                               \n",
      "12                                                  Yes                                               \n",
      "13                                                  Yes                                               \n",
      "14                                                  Yes                                               \n",
      "15                                                  Yes                                               \n",
      "16                                                  Yes                                               \n",
      "17                                                  Yes                                               \n",
      "18                                                  Yes                                               \n",
      "19                                                  Yes                                               \n",
      "20                                                  Yes                                               \n",
      "21                                                  Yes                                               \n",
      "22                                                  Yes                                               \n",
      "23                                                  Yes                                               \n",
      "24                                                   No                                               \n",
      "25                                                  Yes                                               \n",
      "26                                                  Yes                                               \n",
      "27                                                   No                                               \n",
      "28                                                  Yes                                               \n",
      "29                                                  Yes                                               \n",
      "30                                                  Yes                                               \n",
      "...                                                 ...                                               \n",
      "1202                                                Yes                                               \n",
      "1203                                                Yes                                               \n",
      "1204                                                Yes                                               \n",
      "1205                                                Yes                                               \n",
      "1206                                                Yes                                               \n",
      "1207                                                Yes                                               \n",
      "1208                                                Yes                                               \n",
      "1209                                                Yes                                               \n",
      "1210                                                Yes                                               \n",
      "1211                                                Yes                                               \n",
      "1212                                                Yes                                               \n",
      "1213                                                Yes                                               \n",
      "1214                                                Yes                                               \n",
      "1215                                                Yes                                               \n",
      "1216                                                Yes                                               \n",
      "1217                                                Yes                                               \n",
      "1218                                                Yes                                               \n",
      "1219                                                Yes                                               \n",
      "1220                                                Yes                                               \n",
      "1221                                                Yes                                               \n",
      "1222                                                Yes                                               \n",
      "1223                                                Yes                                               \n",
      "1224                                                Yes                                               \n",
      "1225                                                Yes                                               \n",
      "1226                                                Yes                                               \n",
      "1227                                                Yes                                               \n",
      "1228                                                Yes                                               \n",
      "1229                                                Yes                                               \n",
      "1230                                                Yes                                               \n",
      "1231                                                Yes                                               \n",
      "\n",
      "     Are you clear with the venue details and the landmark.  \\\n",
      "0                                                   Yes       \n",
      "1                                                   Yes       \n",
      "3                                                   Yes       \n",
      "4                                                   Yes       \n",
      "5                                                   Yes       \n",
      "6                                                   Yes       \n",
      "7                                                   Yes       \n",
      "8                                                   Yes       \n",
      "9                                                   Yes       \n",
      "10                                                  Yes       \n",
      "11                                                  Yes       \n",
      "12                                                  Yes       \n",
      "13                                                  Yes       \n",
      "14                                                  Yes       \n",
      "15                                                  Yes       \n",
      "16                                                  Yes       \n",
      "17                                                  Yes       \n",
      "18                                                  Yes       \n",
      "19                                                  Yes       \n",
      "20                                                  Yes       \n",
      "21                                                  Yes       \n",
      "22                                                  Yes       \n",
      "23                                                  Yes       \n",
      "24                                                  Yes       \n",
      "25                                                  Yes       \n",
      "26                                                  Yes       \n",
      "27                                                  Yes       \n",
      "28                                                  Yes       \n",
      "29                                                  Yes       \n",
      "30                                                  Yes       \n",
      "...                                                 ...       \n",
      "1202                                                Yes       \n",
      "1203                                                Yes       \n",
      "1204                                                Yes       \n",
      "1205                                                Yes       \n",
      "1206                                                Yes       \n",
      "1207                                                Yes       \n",
      "1208                                                Yes       \n",
      "1209                                                Yes       \n",
      "1210                                                Yes       \n",
      "1211                                                Yes       \n",
      "1212                                                Yes       \n",
      "1213                                                Yes       \n",
      "1214                                                Yes       \n",
      "1215                                                Yes       \n",
      "1216                                                Yes       \n",
      "1217                                                Yes       \n",
      "1218                                                Yes       \n",
      "1219                                                Yes       \n",
      "1220                                                Yes       \n",
      "1221                                                Yes       \n",
      "1222                                                Yes       \n",
      "1223                                                Yes       \n",
      "1224                                                Yes       \n",
      "1225                                                Yes       \n",
      "1226                                                Yes       \n",
      "1227                                                Yes       \n",
      "1228                                                Yes       \n",
      "1229                                                Yes       \n",
      "1230                                                Yes       \n",
      "1231                                                Yes       \n",
      "\n",
      "     Has the call letter been shared Expected Attendance Observed Attendance  \\\n",
      "0                                Yes                 Yes                   0   \n",
      "1                                Yes                 Yes                   0   \n",
      "3                                Yes                  No                   0   \n",
      "4                                Yes                  No                   0   \n",
      "5                                Yes                 Yes                   1   \n",
      "6                                Yes                 Yes                   1   \n",
      "7                                Yes                 Yes                   1   \n",
      "8                                Yes                 Yes                   1   \n",
      "9                                Yes                 Yes                   0   \n",
      "10                               Yes                 Yes                   1   \n",
      "11                               Yes                  No                   0   \n",
      "12                               Yes                 Yes                   1   \n",
      "13                                No                  No                   1   \n",
      "14                               Yes                 Yes                   1   \n",
      "15                               Yes                 Yes                   1   \n",
      "16                               Yes                 Yes                   1   \n",
      "17                               Yes                  No                   0   \n",
      "18                               Yes                 Yes                   1   \n",
      "19                               Yes                 Yes                   0   \n",
      "20                                No                  No                   0   \n",
      "21                               Yes                 Yes                   1   \n",
      "22                               Yes                 Yes                   1   \n",
      "23                               Yes                 Yes                   1   \n",
      "24                               Yes                  No                   0   \n",
      "25                                No                  No                   0   \n",
      "26                                No                  No                   0   \n",
      "27                                No                  No                   0   \n",
      "28                               Yes                 Yes                   1   \n",
      "29                               Yes                 Yes                   1   \n",
      "30                               Yes                 Yes                   1   \n",
      "...                              ...                 ...                 ...   \n",
      "1202                             Yes                 Yes                   0   \n",
      "1203                             Yes                 Yes                   1   \n",
      "1204                             Yes                 Yes                   1   \n",
      "1205                             Yes                 Yes                   1   \n",
      "1206                             Yes                 Yes                   1   \n",
      "1207                             Yes                 Yes                   0   \n",
      "1208                             Yes                 Yes                   1   \n",
      "1209                             Yes                 Yes                   1   \n",
      "1210                             Yes                 Yes                   1   \n",
      "1211                             Yes                 Yes                   1   \n",
      "1212                             Yes                 Yes                   0   \n",
      "1213                             Yes                 Yes                   0   \n",
      "1214                             Yes                 Yes                   1   \n",
      "1215                             Yes                 Yes                   1   \n",
      "1216                             Yes                 Yes                   0   \n",
      "1217                             Yes                 Yes                   1   \n",
      "1218                             Yes                 Yes                   1   \n",
      "1219                             Yes                 Yes                   1   \n",
      "1220                             Yes                 Yes                   1   \n",
      "1221                             Yes                 Yes                   1   \n",
      "1222                             Yes                 Yes                   1   \n",
      "1223                             Yes                 Yes                   1   \n",
      "1224                             Yes                 Yes                   1   \n",
      "1225                             Yes                 Yes                   1   \n",
      "1226                             Yes                 Yes                   1   \n",
      "1227                             Yes                 Yes                   1   \n",
      "1228                             Yes                 Yes                   1   \n",
      "1229                             Yes                 Yes                   1   \n",
      "1230                             Yes                 Yes                   1   \n",
      "1231                             Yes                 Yes                   1   \n",
      "\n",
      "     Marital Status  \n",
      "0            Single  \n",
      "1            Single  \n",
      "3            Single  \n",
      "4           Married  \n",
      "5            Single  \n",
      "6            Single  \n",
      "7            Single  \n",
      "8            Single  \n",
      "9            Single  \n",
      "10           Single  \n",
      "11           Single  \n",
      "12           Single  \n",
      "13           Single  \n",
      "14           Single  \n",
      "15           Single  \n",
      "16           Single  \n",
      "17           Single  \n",
      "18           Single  \n",
      "19           Single  \n",
      "20           Single  \n",
      "21           Single  \n",
      "22           Single  \n",
      "23           Single  \n",
      "24           Single  \n",
      "25           Single  \n",
      "26          Married  \n",
      "27           Single  \n",
      "28          Married  \n",
      "29          Married  \n",
      "30           Single  \n",
      "...             ...  \n",
      "1202        Married  \n",
      "1203         Single  \n",
      "1204         Single  \n",
      "1205         Single  \n",
      "1206        Married  \n",
      "1207        Married  \n",
      "1208        Married  \n",
      "1209         Single  \n",
      "1210        Married  \n",
      "1211         Single  \n",
      "1212         Single  \n",
      "1213        Married  \n",
      "1214        Married  \n",
      "1215         Single  \n",
      "1216         Single  \n",
      "1217        Married  \n",
      "1218        Married  \n",
      "1219        Married  \n",
      "1220         Single  \n",
      "1221         Single  \n",
      "1222        Married  \n",
      "1223        Married  \n",
      "1224        Married  \n",
      "1225         Single  \n",
      "1226        Married  \n",
      "1227        Married  \n",
      "1228        Married  \n",
      "1229         Single  \n",
      "1230        Married  \n",
      "1231         Single  \n",
      "\n",
      "[984 rows x 22 columns]\n"
     ]
    }
   ],
   "source": [
    "print(df_data)"
   ]
  },
  {
   "cell_type": "code",
   "execution_count": 487,
   "metadata": {},
   "outputs": [],
   "source": [
    "df_data = df_data.apply(LabelEncoder().fit_transform)\n",
    "from sklearn.linear_model import LogisticRegression\n",
    "Y_train=df_data['Observed Attendance']\n"
   ]
  },
  {
   "cell_type": "code",
   "execution_count": 489,
   "metadata": {},
   "outputs": [
    {
     "data": {
      "text/html": [
       "<div>\n",
       "<style scoped>\n",
       "    .dataframe tbody tr th:only-of-type {\n",
       "        vertical-align: middle;\n",
       "    }\n",
       "\n",
       "    .dataframe tbody tr th {\n",
       "        vertical-align: top;\n",
       "    }\n",
       "\n",
       "    .dataframe thead th {\n",
       "        text-align: right;\n",
       "    }\n",
       "</style>\n",
       "<table border=\"1\" class=\"dataframe\">\n",
       "  <thead>\n",
       "    <tr style=\"text-align: right;\">\n",
       "      <th></th>\n",
       "      <th>Client name</th>\n",
       "      <th>Industry</th>\n",
       "      <th>Location</th>\n",
       "      <th>Position to be closed</th>\n",
       "      <th>Nature of Skillset</th>\n",
       "      <th>Interview Type</th>\n",
       "      <th>Name(Cand ID)</th>\n",
       "      <th>Gender</th>\n",
       "      <th>Candidate Current Location</th>\n",
       "      <th>Candidate Job Location</th>\n",
       "      <th>...</th>\n",
       "      <th>Have you obtained the necessary permission to start at the required time</th>\n",
       "      <th>Hope there will be no unscheduled meetings</th>\n",
       "      <th>Can I Call you three hours before the interview and follow up on your attendance for the interview</th>\n",
       "      <th>Can I have an alternative number/ desk number. I assure you that I will not trouble you too much</th>\n",
       "      <th>Have you taken a printout of your updated resume. Have you read the JD and understood the same</th>\n",
       "      <th>Are you clear with the venue details and the landmark.</th>\n",
       "      <th>Has the call letter been shared</th>\n",
       "      <th>Expected Attendance</th>\n",
       "      <th>Observed Attendance</th>\n",
       "      <th>Marital Status</th>\n",
       "    </tr>\n",
       "  </thead>\n",
       "  <tbody>\n",
       "    <tr>\n",
       "      <th>0</th>\n",
       "      <td>5</td>\n",
       "      <td>3</td>\n",
       "      <td>1</td>\n",
       "      <td>1</td>\n",
       "      <td>31</td>\n",
       "      <td>1</td>\n",
       "      <td>0</td>\n",
       "      <td>1</td>\n",
       "      <td>1</td>\n",
       "      <td>4</td>\n",
       "      <td>...</td>\n",
       "      <td>1</td>\n",
       "      <td>1</td>\n",
       "      <td>1</td>\n",
       "      <td>1</td>\n",
       "      <td>1</td>\n",
       "      <td>1</td>\n",
       "      <td>1</td>\n",
       "      <td>1</td>\n",
       "      <td>0</td>\n",
       "      <td>1</td>\n",
       "    </tr>\n",
       "    <tr>\n",
       "      <th>1</th>\n",
       "      <td>5</td>\n",
       "      <td>3</td>\n",
       "      <td>1</td>\n",
       "      <td>1</td>\n",
       "      <td>31</td>\n",
       "      <td>1</td>\n",
       "      <td>317</td>\n",
       "      <td>1</td>\n",
       "      <td>1</td>\n",
       "      <td>0</td>\n",
       "      <td>...</td>\n",
       "      <td>1</td>\n",
       "      <td>1</td>\n",
       "      <td>1</td>\n",
       "      <td>1</td>\n",
       "      <td>1</td>\n",
       "      <td>1</td>\n",
       "      <td>1</td>\n",
       "      <td>1</td>\n",
       "      <td>0</td>\n",
       "      <td>1</td>\n",
       "    </tr>\n",
       "    <tr>\n",
       "      <th>3</th>\n",
       "      <td>5</td>\n",
       "      <td>3</td>\n",
       "      <td>1</td>\n",
       "      <td>1</td>\n",
       "      <td>31</td>\n",
       "      <td>1</td>\n",
       "      <td>467</td>\n",
       "      <td>1</td>\n",
       "      <td>1</td>\n",
       "      <td>1</td>\n",
       "      <td>...</td>\n",
       "      <td>1</td>\n",
       "      <td>1</td>\n",
       "      <td>0</td>\n",
       "      <td>1</td>\n",
       "      <td>0</td>\n",
       "      <td>1</td>\n",
       "      <td>1</td>\n",
       "      <td>0</td>\n",
       "      <td>0</td>\n",
       "      <td>1</td>\n",
       "    </tr>\n",
       "    <tr>\n",
       "      <th>4</th>\n",
       "      <td>5</td>\n",
       "      <td>3</td>\n",
       "      <td>1</td>\n",
       "      <td>1</td>\n",
       "      <td>31</td>\n",
       "      <td>1</td>\n",
       "      <td>544</td>\n",
       "      <td>1</td>\n",
       "      <td>1</td>\n",
       "      <td>0</td>\n",
       "      <td>...</td>\n",
       "      <td>1</td>\n",
       "      <td>1</td>\n",
       "      <td>1</td>\n",
       "      <td>0</td>\n",
       "      <td>1</td>\n",
       "      <td>1</td>\n",
       "      <td>1</td>\n",
       "      <td>0</td>\n",
       "      <td>0</td>\n",
       "      <td>0</td>\n",
       "    </tr>\n",
       "    <tr>\n",
       "      <th>5</th>\n",
       "      <td>4</td>\n",
       "      <td>2</td>\n",
       "      <td>4</td>\n",
       "      <td>0</td>\n",
       "      <td>31</td>\n",
       "      <td>1</td>\n",
       "      <td>615</td>\n",
       "      <td>1</td>\n",
       "      <td>4</td>\n",
       "      <td>3</td>\n",
       "      <td>...</td>\n",
       "      <td>1</td>\n",
       "      <td>1</td>\n",
       "      <td>1</td>\n",
       "      <td>1</td>\n",
       "      <td>1</td>\n",
       "      <td>1</td>\n",
       "      <td>1</td>\n",
       "      <td>1</td>\n",
       "      <td>1</td>\n",
       "      <td>1</td>\n",
       "    </tr>\n",
       "  </tbody>\n",
       "</table>\n",
       "<p>5 rows × 22 columns</p>\n",
       "</div>"
      ],
      "text/plain": [
       "   Client name  Industry  Location  Position to be closed  Nature of Skillset  \\\n",
       "0            5         3         1                      1                  31   \n",
       "1            5         3         1                      1                  31   \n",
       "3            5         3         1                      1                  31   \n",
       "4            5         3         1                      1                  31   \n",
       "5            4         2         4                      0                  31   \n",
       "\n",
       "   Interview Type  Name(Cand ID)  Gender  Candidate Current Location  \\\n",
       "0               1              0       1                           1   \n",
       "1               1            317       1                           1   \n",
       "3               1            467       1                           1   \n",
       "4               1            544       1                           1   \n",
       "5               1            615       1                           4   \n",
       "\n",
       "   Candidate Job Location       ...        \\\n",
       "0                       4       ...         \n",
       "1                       0       ...         \n",
       "3                       1       ...         \n",
       "4                       0       ...         \n",
       "5                       3       ...         \n",
       "\n",
       "   Have you obtained the necessary permission to start at the required time  \\\n",
       "0                                                  1                          \n",
       "1                                                  1                          \n",
       "3                                                  1                          \n",
       "4                                                  1                          \n",
       "5                                                  1                          \n",
       "\n",
       "   Hope there will be no unscheduled meetings  \\\n",
       "0                                           1   \n",
       "1                                           1   \n",
       "3                                           1   \n",
       "4                                           1   \n",
       "5                                           1   \n",
       "\n",
       "   Can I Call you three hours before the interview and follow up on your attendance for the interview  \\\n",
       "0                                                  1                                                    \n",
       "1                                                  1                                                    \n",
       "3                                                  0                                                    \n",
       "4                                                  1                                                    \n",
       "5                                                  1                                                    \n",
       "\n",
       "   Can I have an alternative number/ desk number. I assure you that I will not trouble you too much  \\\n",
       "0                                                  1                                                  \n",
       "1                                                  1                                                  \n",
       "3                                                  1                                                  \n",
       "4                                                  0                                                  \n",
       "5                                                  1                                                  \n",
       "\n",
       "   Have you taken a printout of your updated resume. Have you read the JD and understood the same  \\\n",
       "0                                                  1                                                \n",
       "1                                                  1                                                \n",
       "3                                                  0                                                \n",
       "4                                                  1                                                \n",
       "5                                                  1                                                \n",
       "\n",
       "   Are you clear with the venue details and the landmark.  \\\n",
       "0                                                  1        \n",
       "1                                                  1        \n",
       "3                                                  1        \n",
       "4                                                  1        \n",
       "5                                                  1        \n",
       "\n",
       "   Has the call letter been shared  Expected Attendance  Observed Attendance  \\\n",
       "0                                1                    1                    0   \n",
       "1                                1                    1                    0   \n",
       "3                                1                    0                    0   \n",
       "4                                1                    0                    0   \n",
       "5                                1                    1                    1   \n",
       "\n",
       "   Marital Status  \n",
       "0               1  \n",
       "1               1  \n",
       "3               1  \n",
       "4               0  \n",
       "5               1  \n",
       "\n",
       "[5 rows x 22 columns]"
      ]
     },
     "execution_count": 489,
     "metadata": {},
     "output_type": "execute_result"
    }
   ],
   "source": [
    "X_train = df_data\n",
    "df_data.head()"
   ]
  },
  {
   "cell_type": "code",
   "execution_count": 491,
   "metadata": {},
   "outputs": [],
   "source": [
    "from sklearn.model_selection import train_test_split\n",
    "X_train, X_test, y_train, y_test = train_test_split(X_train, Y_train, test_size=0.35, random_state=42)"
   ]
  },
  {
   "cell_type": "code",
   "execution_count": 494,
   "metadata": {},
   "outputs": [
    {
     "name": "stdout",
     "output_type": "stream",
     "text": [
      "Logistic Regression Score 0.994\n"
     ]
    }
   ],
   "source": [
    "############################################################\n",
    "\n",
    "# Logistic Regression implementation\n",
    "\n",
    "############################################################\n",
    "lm = linear_model.LinearRegression()\n",
    "model = lm.fit(X_train, y_train)\n",
    "predictions = lm.predict(X_test)\n",
    "log=LogisticRegression()\n",
    "result  = log.fit(X_train,y_train)\n",
    "score = log.score(X_test, y_test)\n",
    "print(\"Logistic Regression Score %2.3f\" % score)"
   ]
  },
  {
   "cell_type": "code",
   "execution_count": null,
   "metadata": {},
   "outputs": [],
   "source": []
  }
 ],
 "metadata": {
  "kernelspec": {
   "display_name": "Python 3",
   "language": "python",
   "name": "python3"
  },
  "language_info": {
   "codemirror_mode": {
    "name": "ipython",
    "version": 3
   },
   "file_extension": ".py",
   "mimetype": "text/x-python",
   "name": "python",
   "nbconvert_exporter": "python",
   "pygments_lexer": "ipython3",
   "version": "3.7.0"
  }
 },
 "nbformat": 4,
 "nbformat_minor": 2
}
