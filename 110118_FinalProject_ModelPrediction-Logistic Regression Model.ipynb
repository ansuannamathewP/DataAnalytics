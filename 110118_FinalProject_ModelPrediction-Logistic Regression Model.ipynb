{
 "cells": [
  {
   "cell_type": "code",
   "execution_count": 3,
   "metadata": {},
   "outputs": [
    {
     "name": "stderr",
     "output_type": "stream",
     "text": [
      "D:\\Users\\aamathew\\AppData\\Local\\Continuum\\anaconda3\\lib\\site-packages\\sklearn\\cross_validation.py:41: DeprecationWarning: This module was deprecated in version 0.18 in favor of the model_selection module into which all the refactored classes and functions are moved. Also note that the interface of the new CV iterators are different from that of this module. This module will be removed in 0.20.\n",
      "  \"This module will be removed in 0.20.\", DeprecationWarning)\n"
     ]
    }
   ],
   "source": [
    "#importing the pandas library\n",
    "import pandas as pd\n",
    "#importing the numpy library\n",
    "import numpy as np\n",
    "from sklearn import preprocessing\n",
    "import matplotlib.pyplot as plt \n",
    "plt.rc(\"font\", size=14)\n",
    "from sklearn.linear_model import LogisticRegression\n",
    "from sklearn.cross_validation import train_test_split\n",
    "import seaborn as sns\n",
    "sns.set(style=\"white\")\n",
    "sns.set(style=\"whitegrid\", color_codes=True)"
   ]
  },
  {
   "cell_type": "code",
   "execution_count": 4,
   "metadata": {
    "scrolled": true
   },
   "outputs": [],
   "source": [
    "df=pd.read_excel(\"D:/Users/aamathew/Desktop/Final Project/Interview dataset.xlsx\",\"Sheet1\")"
   ]
  },
  {
   "cell_type": "code",
   "execution_count": 5,
   "metadata": {},
   "outputs": [
    {
     "name": "stdout",
     "output_type": "stream",
     "text": [
      "     Date of Interview              Client name         Industry   Location  \\\n",
      "0           13.02.2015                  Hospira  Pharmaceuticals    Chennai   \n",
      "1           13.02.2015                  Hospira  Pharmaceuticals    Chennai   \n",
      "2           13.02.2015                  Hospira  Pharmaceuticals    Chennai   \n",
      "3           13.02.2015                  Hospira  Pharmaceuticals    Chennai   \n",
      "4           13.02.2015                  Hospira  Pharmaceuticals    Chennai   \n",
      "5           13.02.2015               Aon Hewitt      IT Services    Gurgaon   \n",
      "6           13.02.2015               Aon Hewitt      IT Services    Gurgaon   \n",
      "7           13.02.2015               Aon Hewitt      IT Services    Gurgaon   \n",
      "8           13.02.2015               Aon Hewitt      IT Services    Gurgaon   \n",
      "9           13.02.2015               Aon Hewitt      IT Services    Gurgaon   \n",
      "10          19.06.2015                      UST      IT Services  Bangalore   \n",
      "11          19.06.2015                      UST      IT Services  Bangalore   \n",
      "12          19.06.2015                      UST      IT Services  Bangalore   \n",
      "13          19.06.2015                      UST      IT Services  Bangalore   \n",
      "14          19.06.2015                      UST      IT Services  Bangalore   \n",
      "15          19.06.2015                      UST      IT Services  Bangalore   \n",
      "16          19.06.2015                      UST      IT Services  Bangalore   \n",
      "17          19.06.2015                      UST      IT Services  Bangalore   \n",
      "18          19.06.2015                      UST      IT Services  Bangalore   \n",
      "19          19.06.2015                      UST      IT Services  Bangalore   \n",
      "20          19.06.2015                      UST      IT Services  Bangalore   \n",
      "21          19.06.2015                      UST      IT Services  Bangalore   \n",
      "22          19.06.2015                      UST      IT Services  Bangalore   \n",
      "23          19.06.2015                      UST      IT Services  Bangalore   \n",
      "24          19.06.2015                      UST      IT Services  Bangalore   \n",
      "25          19.06.2015                      UST      IT Services  Bangalore   \n",
      "26          19.06.2015                      UST      IT Services  Bangalore   \n",
      "27          19.06.2015                      UST      IT Services  Bangalore   \n",
      "28          23.06.2015  Standard Chartered Bank             BFSI    Chennai   \n",
      "29          23.06.2015  Standard Chartered Bank             BFSI    Chennai   \n",
      "...                ...                      ...              ...        ...   \n",
      "1204         30.1.2016  Standard Chartered Bank             BFSI    Chennai   \n",
      "1205        30.01.2016  Standard Chartered Bank             BFSI    Chennai   \n",
      "1206        30.01.2016  Standard Chartered Bank             BFSI    Chennai   \n",
      "1207        30.01.2016  Standard Chartered Bank             BFSI    Chennai   \n",
      "1208        30.01.2016  Standard Chartered Bank             BFSI    Chennai   \n",
      "1209        30.01.2016  Standard Chartered Bank             BFSI    Chennai   \n",
      "1210        30.01.2016  Standard Chartered Bank             BFSI    Chennai   \n",
      "1211          30.01.16  Standard Chartered Bank             BFSI    Chennai   \n",
      "1212          30.01.16  Standard Chartered Bank             BFSI    Chennai   \n",
      "1213          30.01.16  Standard Chartered Bank             BFSI    Chennai   \n",
      "1214         30-1-2016  Standard Chartered Bank             BFSI    Chennai   \n",
      "1215        30.01.2016  Standard Chartered Bank             BFSI    Chennai   \n",
      "1216        30.01.2016  Standard Chartered Bank             BFSI    Chennai   \n",
      "1217        07.05.2016                   Pfizer  Pharmaceuticals    Chennai   \n",
      "1218        07.05.2016                   Pfizer  Pharmaceuticals    Chennai   \n",
      "1219        07.05.2016                   Pfizer  Pharmaceuticals    Chennai   \n",
      "1220        07.05.2016                   Pfizer  Pharmaceuticals    Chennai   \n",
      "1221        07.05.2016                   Pfizer  Pharmaceuticals    Chennai   \n",
      "1222        07.05.2016                   Pfizer  Pharmaceuticals    Chennai   \n",
      "1223        07.05.2016                   Pfizer  Pharmaceuticals    Chennai   \n",
      "1224        07.05.2016                   Pfizer  Pharmaceuticals    Chennai   \n",
      "1225        07.05.2016                   Pfizer  Pharmaceuticals    Chennai   \n",
      "1226        07.05.2016                   Pfizer  Pharmaceuticals    Chennai   \n",
      "1227        07.05.2016                   Pfizer  Pharmaceuticals    Chennai   \n",
      "1228        07.05.2016                   Pfizer  Pharmaceuticals    Chennai   \n",
      "1229        07.05.2016                   Pfizer  Pharmaceuticals    Chennai   \n",
      "1230        06.05.2016                   Pfizer  Pharmaceuticals    Chennai   \n",
      "1231        06.05.2016                   Pfizer  Pharmaceuticals    Chennai   \n",
      "1232        06.05.2016                   Pfizer  Pharmaceuticals    Chennai   \n",
      "1233               NaN                       ﻿﻿              NaN        NaN   \n",
      "\n",
      "     Position to be closed  Nature of Skillset     Interview Type  \\\n",
      "0      Production- Sterile             Routine   Scheduled Walkin   \n",
      "1      Production- Sterile             Routine   Scheduled Walkin   \n",
      "2      Production- Sterile             Routine   Scheduled Walkin   \n",
      "3      Production- Sterile             Routine   Scheduled Walkin   \n",
      "4      Production- Sterile             Routine   Scheduled Walkin   \n",
      "5         Selenium testing             Routine   Scheduled Walkin   \n",
      "6         Selenium testing             Routine   Scheduled Walkin   \n",
      "7         Selenium testing             Routine   Scheduled Walkin   \n",
      "8         Selenium testing             Routine   Scheduled Walkin   \n",
      "9         Selenium testing             Routine   Scheduled Walkin   \n",
      "10                 Dot Net             Routine   Scheduled Walkin   \n",
      "11                 Dot Net             Routine   Scheduled Walkin   \n",
      "12                 Dot Net             Routine   Scheduled Walkin   \n",
      "13                 Dot Net             Routine   Scheduled Walkin   \n",
      "14                 Dot Net             Routine   Scheduled Walkin   \n",
      "15                 Dot Net             Routine   Scheduled Walkin   \n",
      "16                 Dot Net             Routine   Scheduled Walkin   \n",
      "17                 Dot Net             Routine   Scheduled Walkin   \n",
      "18                 Dot Net             Routine   Scheduled Walkin   \n",
      "19                 Dot Net             Routine   Scheduled Walkin   \n",
      "20                 Dot Net             Routine   Scheduled Walkin   \n",
      "21                 Dot Net             Routine   Scheduled Walkin   \n",
      "22                 Dot Net             Routine   Scheduled Walkin   \n",
      "23                 Dot Net             Routine   Scheduled Walkin   \n",
      "24                 Dot Net             Routine   Scheduled Walkin   \n",
      "25                 Dot Net             Routine   Scheduled Walkin   \n",
      "26                 Dot Net             Routine   Scheduled Walkin   \n",
      "27                 Dot Net             Routine   Scheduled Walkin   \n",
      "28                     AML             Routine   Scheduled Walkin   \n",
      "29                     AML             Routine   Scheduled Walkin   \n",
      "...                    ...                 ...                ...   \n",
      "1204               Routine               Java   Scheduled Walk In   \n",
      "1205               Routine               Java   Scheduled Walk In   \n",
      "1206               Routine               Java   Scheduled Walk In   \n",
      "1207               Routine               Java   Scheduled Walk In   \n",
      "1208               Routine               Java   Scheduled Walk In   \n",
      "1209               Routine               Java   Scheduled Walk In   \n",
      "1210               Routine               Java   Scheduled Walk In   \n",
      "1211               Routine                Java  Scheduled Walk In   \n",
      "1212               Routine                Java  Scheduled Walk In   \n",
      "1213               Routine                Java  Scheduled Walk In   \n",
      "1214               Routine                Java  Scheduled Walk In   \n",
      "1215               Routine                Java  Scheduled Walk In   \n",
      "1216               Routine                Java  Scheduled Walk In   \n",
      "1217                 Niche        Biosimiliars         Scheduled    \n",
      "1218                 Niche       RA Publishing         Scheduled    \n",
      "1219                 Niche       RA Publishing         Scheduled    \n",
      "1220                 Niche       RA Publishing         Scheduled    \n",
      "1221                 Niche                EMEA         Scheduled    \n",
      "1222                 Niche                EMEA         Scheduled    \n",
      "1223                 Niche                EMEA         Scheduled    \n",
      "1224                 Niche        Biosimiliars         Scheduled    \n",
      "1225                 Niche        LCM -Manager         Scheduled    \n",
      "1226                 Niche      Licensing – RA         Scheduled    \n",
      "1227                 Niche      Licensing – RA         Scheduled    \n",
      "1228                 Niche  generic drugs – RA         Scheduled    \n",
      "1229                 Niche        Biosimiliars         Scheduled    \n",
      "1230                 Niche        Biosimiliars         Scheduled    \n",
      "1231                 Niche  generic drugs – RA         Scheduled    \n",
      "1232                 Niche  generic drugs – RA         Scheduled    \n",
      "1233                   NaN                 NaN                NaN   \n",
      "\n",
      "       Name(Cand ID)  Gender Candidate Current Location      ...        \\\n",
      "0        Candidate 1    Male                    Chennai      ...         \n",
      "1        Candidate 2    Male                    Chennai      ...         \n",
      "2        Candidate 3    Male                    Chennai      ...         \n",
      "3        Candidate 4    Male                    Chennai      ...         \n",
      "4        Candidate 5    Male                    Chennai      ...         \n",
      "5        Candidate 6    Male                    Gurgaon      ...         \n",
      "6        Candidate 7    Male                    Gurgaon      ...         \n",
      "7        Candidate 8  Female                    Gurgaon      ...         \n",
      "8        Candidate 9    Male                    Gurgaon      ...         \n",
      "9       Candidate 10  Female                    Gurgaon      ...         \n",
      "10      Candidate 11    Male                  Bangalore      ...         \n",
      "11      Candidate 12  Female                  Bangalore      ...         \n",
      "12      Candidate 13    Male                  Bangalore      ...         \n",
      "13      Candidate 14    Male                  Bangalore      ...         \n",
      "14      Candidate 15    Male                  Bangalore      ...         \n",
      "15      Candidate 16  Female                  Bangalore      ...         \n",
      "16      Candidate 17  Female                  Bangalore      ...         \n",
      "17      Candidate 18  Female                  Bangalore      ...         \n",
      "18      Candidate 19    Male                  Bangalore      ...         \n",
      "19      Candidate 20    Male                  Bangalore      ...         \n",
      "20      Candidate 21    Male                  Bangalore      ...         \n",
      "21      Candidate 22    Male                  Bangalore      ...         \n",
      "22      Candidate 23    Male                  Bangalore      ...         \n",
      "23      Candidate 24    Male                  Bangalore      ...         \n",
      "24      Candidate 25    Male                  Bangalore      ...         \n",
      "25      Candidate 26    Male                  Bangalore      ...         \n",
      "26      Candidate 27    Male                  Bangalore      ...         \n",
      "27      Candidate 28    Male                  Bangalore      ...         \n",
      "28      Candidate 29  Female                    Chennai      ...         \n",
      "29      Candidate 30  Female                    Chennai      ...         \n",
      "...              ...     ...                        ...      ...         \n",
      "1204  Candidate 1205    Male                    Chennai      ...         \n",
      "1205  Candidate 1206  Female                    Chennai      ...         \n",
      "1206  Candidate 1207    Male                    Chennai      ...         \n",
      "1207  Candidate 1208    Male                    Chennai      ...         \n",
      "1208  Candidate 1209    Male                    Chennai      ...         \n",
      "1209  Candidate 1210    Male                    Chennai      ...         \n",
      "1210  Candidate 1211    Male                    Chennai      ...         \n",
      "1211  Candidate 1212    Male                    Chennai      ...         \n",
      "1212  Candidate 1213    Male                    Chennai      ...         \n",
      "1213  Candidate 1214    Male                    Chennai      ...         \n",
      "1214  Candidate 1215  Female                    Chennai      ...         \n",
      "1215  Candidate 1216    Male                    Chennai      ...         \n",
      "1216  Candidate 1217    Male                    Chennai      ...         \n",
      "1217  Candidate 1218    Male                    Chennai      ...         \n",
      "1218  Candidate 1219    Male                    Chennai      ...         \n",
      "1219  Candidate 1220    Male                    Chennai      ...         \n",
      "1220  Candidate 1221    Male                    Chennai      ...         \n",
      "1221  Candidate 1222    Male                    Chennai      ...         \n",
      "1222  Candidate 1223    Male                    Chennai      ...         \n",
      "1223  Candidate 1224    Male                    Chennai      ...         \n",
      "1224  Candidate 1225    Male                    Chennai      ...         \n",
      "1225  Candidate 1226    Male                    Chennai      ...         \n",
      "1226  Candidate 1227    Male                    Chennai      ...         \n",
      "1227  Candidate 1228    Male                    Chennai      ...         \n",
      "1228  Candidate 1229    Male                    Chennai      ...         \n",
      "1229  Candidate 1230    Male                    Chennai      ...         \n",
      "1230  Candidate 1231    Male                    Chennai      ...         \n",
      "1231  Candidate 1232    Male                    Chennai      ...         \n",
      "1232  Candidate 1233  Female                    Chennai      ...         \n",
      "1233             NaN     NaN                        NaN      ...         \n",
      "\n",
      "     Have you obtained the necessary permission to start at the required time  \\\n",
      "0                                                   Yes                         \n",
      "1                                                   Yes                         \n",
      "2                                                   NaN                         \n",
      "3                                                   Yes                         \n",
      "4                                                   Yes                         \n",
      "5                                                   Yes                         \n",
      "6                                                   Yes                         \n",
      "7                                                   Yes                         \n",
      "8                                                   Yes                         \n",
      "9                                                   Yes                         \n",
      "10                                                  Yes                         \n",
      "11                                                   No                         \n",
      "12                                                  Yes                         \n",
      "13                                                   No                         \n",
      "14                                                  Yes                         \n",
      "15                                                  Yes                         \n",
      "16                                                  Yes                         \n",
      "17                                                   No                         \n",
      "18                                                  Yes                         \n",
      "19                                                  Yes                         \n",
      "20                                              Not yet                         \n",
      "21                                                  Yes                         \n",
      "22                                                  Yes                         \n",
      "23                                                  Yes                         \n",
      "24                                                  Yes                         \n",
      "25                                                   No                         \n",
      "26                                                   No                         \n",
      "27                                                   No                         \n",
      "28                                                  Yes                         \n",
      "29                                                  Yes                         \n",
      "...                                                 ...                         \n",
      "1204                                                Yes                         \n",
      "1205                                                Yes                         \n",
      "1206                                                Yes                         \n",
      "1207                                                Yes                         \n",
      "1208                                                Yes                         \n",
      "1209                                                Yes                         \n",
      "1210                                                Yes                         \n",
      "1211                                                Yes                         \n",
      "1212                                                Yes                         \n",
      "1213                                                Yes                         \n",
      "1214                                                Yes                         \n",
      "1215                                                Yes                         \n",
      "1216                                                Yes                         \n",
      "1217                                                Yes                         \n",
      "1218                                                Yes                         \n",
      "1219                                                Yes                         \n",
      "1220                                                Yes                         \n",
      "1221                                                Yes                         \n",
      "1222                                                Yes                         \n",
      "1223                                                Yes                         \n",
      "1224                                                Yes                         \n",
      "1225                                                Yes                         \n",
      "1226                                                Yes                         \n",
      "1227                                                Yes                         \n",
      "1228                                                Yes                         \n",
      "1229                                                Yes                         \n",
      "1230                                                Yes                         \n",
      "1231                                                Yes                         \n",
      "1232                                                NaN                         \n",
      "1233                                                NaN                         \n",
      "\n",
      "     Hope there will be no unscheduled meetings  \\\n",
      "0                                           Yes   \n",
      "1                                           Yes   \n",
      "2                                            Na   \n",
      "3                                           Yes   \n",
      "4                                           Yes   \n",
      "5                                           Yes   \n",
      "6                                           Yes   \n",
      "7                                           Yes   \n",
      "8                                           Yes   \n",
      "9                                           Yes   \n",
      "10                                          Yes   \n",
      "11                                          Yes   \n",
      "12                                          Yes   \n",
      "13                                          Yes   \n",
      "14                                          Yes   \n",
      "15                                          Yes   \n",
      "16                                          Yes   \n",
      "17                                          Yes   \n",
      "18                                          Yes   \n",
      "19                                          Yes   \n",
      "20                                          Yes   \n",
      "21                                          Yes   \n",
      "22                                          Yes   \n",
      "23                                          Yes   \n",
      "24                                          Yes   \n",
      "25                                           No   \n",
      "26                                          Yes   \n",
      "27                                          Yes   \n",
      "28                                          Yes   \n",
      "29                                          Yes   \n",
      "...                                         ...   \n",
      "1204                                        Yes   \n",
      "1205                                        Yes   \n",
      "1206                                        Yes   \n",
      "1207                                        Yes   \n",
      "1208                                        Yes   \n",
      "1209                                        Yes   \n",
      "1210                                        Yes   \n",
      "1211                                        Yes   \n",
      "1212                                        Yes   \n",
      "1213                                        Yes   \n",
      "1214                                        Yes   \n",
      "1215                                        Yes   \n",
      "1216                                        Yes   \n",
      "1217                                        Yes   \n",
      "1218                                        Yes   \n",
      "1219                                        Yes   \n",
      "1220                                        Yes   \n",
      "1221                                        Yes   \n",
      "1222                                        Yes   \n",
      "1223                                        Yes   \n",
      "1224                                        Yes   \n",
      "1225                                        Yes   \n",
      "1226                                        Yes   \n",
      "1227                                        Yes   \n",
      "1228                                        Yes   \n",
      "1229                                        Yes   \n",
      "1230                                        Yes   \n",
      "1231                                        Yes   \n",
      "1232                                        NaN   \n",
      "1233                                        NaN   \n",
      "\n",
      "     Can I Call you three hours before the interview and follow up on your attendance for the interview  \\\n",
      "0                                                   Yes                                                   \n",
      "1                                                   Yes                                                   \n",
      "2                                                   NaN                                                   \n",
      "3                                                    No                                                   \n",
      "4                                                   Yes                                                   \n",
      "5                                                   Yes                                                   \n",
      "6                                                   Yes                                                   \n",
      "7                                                   Yes                                                   \n",
      "8                                                   Yes                                                   \n",
      "9                                                   Yes                                                   \n",
      "10                                                  Yes                                                   \n",
      "11                                                   No                                                   \n",
      "12                                                  Yes                                                   \n",
      "13                                                  Yes                                                   \n",
      "14                                                  Yes                                                   \n",
      "15                                                  Yes                                                   \n",
      "16                                                  Yes                                                   \n",
      "17                                                  Yes                                                   \n",
      "18                                                  Yes                                                   \n",
      "19                                                  Yes                                                   \n",
      "20                                                  Yes                                                   \n",
      "21                                                  Yes                                                   \n",
      "22                                                  Yes                                                   \n",
      "23                                                  Yes                                                   \n",
      "24                                                  Yes                                                   \n",
      "25                                                  Yes                                                   \n",
      "26                                                  Yes                                                   \n",
      "27                                                  Yes                                                   \n",
      "28                                                  Yes                                                   \n",
      "29                                                  Yes                                                   \n",
      "...                                                 ...                                                   \n",
      "1204                                                Yes                                                   \n",
      "1205                                                Yes                                                   \n",
      "1206                                                Yes                                                   \n",
      "1207                                                Yes                                                   \n",
      "1208                                                Yes                                                   \n",
      "1209                                                Yes                                                   \n",
      "1210                                                Yes                                                   \n",
      "1211                                                Yes                                                   \n",
      "1212                                                Yes                                                   \n",
      "1213                                                Yes                                                   \n",
      "1214                                                Yes                                                   \n",
      "1215                                                Yes                                                   \n",
      "1216                                                Yes                                                   \n",
      "1217                                                Yes                                                   \n",
      "1218                                                Yes                                                   \n",
      "1219                                                Yes                                                   \n",
      "1220                                                Yes                                                   \n",
      "1221                                                Yes                                                   \n",
      "1222                                                Yes                                                   \n",
      "1223                                                Yes                                                   \n",
      "1224                                                Yes                                                   \n",
      "1225                                                Yes                                                   \n",
      "1226                                                Yes                                                   \n",
      "1227                                                Yes                                                   \n",
      "1228                                                Yes                                                   \n",
      "1229                                                Yes                                                   \n",
      "1230                                                Yes                                                   \n",
      "1231                                                Yes                                                   \n",
      "1232                                                NaN                                                   \n",
      "1233                                                NaN                                                   \n",
      "\n",
      "     Can I have an alternative number/ desk number. I assure you that I will not trouble you too much  \\\n",
      "0                                                   Yes                                                 \n",
      "1                                                   Yes                                                 \n",
      "2                                                   NaN                                                 \n",
      "3                                                   Yes                                                 \n",
      "4                                                    No                                                 \n",
      "5                                                   Yes                                                 \n",
      "6                                                   Yes                                                 \n",
      "7                                                   Yes                                                 \n",
      "8                                                   Yes                                                 \n",
      "9                                                   Yes                                                 \n",
      "10                                                  Yes                                                 \n",
      "11                                                   No                                                 \n",
      "12                                                  Yes                                                 \n",
      "13                                                  Yes                                                 \n",
      "14                                                  Yes                                                 \n",
      "15                                                  Yes                                                 \n",
      "16                                                  Yes                                                 \n",
      "17                                                   No                                                 \n",
      "18                                                  Yes                                                 \n",
      "19                                                  Yes                                                 \n",
      "20                                                  Yes                                                 \n",
      "21                                                  Yes                                                 \n",
      "22                                                  Yes                                                 \n",
      "23                                                  Yes                                                 \n",
      "24                                                   No                                                 \n",
      "25                                                  Yes                                                 \n",
      "26                                                  Yes                                                 \n",
      "27                                                  Yes                                                 \n",
      "28                                                  Yes                                                 \n",
      "29                                                  Yes                                                 \n",
      "...                                                 ...                                                 \n",
      "1204                                                Yes                                                 \n",
      "1205                                                Yes                                                 \n",
      "1206                                                Yes                                                 \n",
      "1207                                                Yes                                                 \n",
      "1208                                                Yes                                                 \n",
      "1209                                                Yes                                                 \n",
      "1210                                                Yes                                                 \n",
      "1211                                                Yes                                                 \n",
      "1212                                                Yes                                                 \n",
      "1213                                                Yes                                                 \n",
      "1214                                                Yes                                                 \n",
      "1215                                                Yes                                                 \n",
      "1216                                                Yes                                                 \n",
      "1217                                                Yes                                                 \n",
      "1218                                                Yes                                                 \n",
      "1219                                                Yes                                                 \n",
      "1220                                                Yes                                                 \n",
      "1221                                                Yes                                                 \n",
      "1222                                                Yes                                                 \n",
      "1223                                                Yes                                                 \n",
      "1224                                                Yes                                                 \n",
      "1225                                                Yes                                                 \n",
      "1226                                                Yes                                                 \n",
      "1227                                                Yes                                                 \n",
      "1228                                                Yes                                                 \n",
      "1229                                                Yes                                                 \n",
      "1230                                                Yes                                                 \n",
      "1231                                                Yes                                                 \n",
      "1232                                                NaN                                                 \n",
      "1233                                                NaN                                                 \n",
      "\n",
      "     Have you taken a printout of your updated resume. Have you read the JD and understood the same  \\\n",
      "0                                                   Yes                                               \n",
      "1                                                   Yes                                               \n",
      "2                                                   NaN                                               \n",
      "3                                                    No                                               \n",
      "4                                                   Yes                                               \n",
      "5                                                   Yes                                               \n",
      "6                                                   Yes                                               \n",
      "7                                                   Yes                                               \n",
      "8                                                   Yes                                               \n",
      "9                                                   Yes                                               \n",
      "10                                                  Yes                                               \n",
      "11                                                  Yes                                               \n",
      "12                                                  Yes                                               \n",
      "13                                                  Yes                                               \n",
      "14                                                  Yes                                               \n",
      "15                                                  Yes                                               \n",
      "16                                                  Yes                                               \n",
      "17                                                  Yes                                               \n",
      "18                                                  Yes                                               \n",
      "19                                                  Yes                                               \n",
      "20                                                  Yes                                               \n",
      "21                                                  Yes                                               \n",
      "22                                                  Yes                                               \n",
      "23                                                  Yes                                               \n",
      "24                                                   No                                               \n",
      "25                                                  Yes                                               \n",
      "26                                                  Yes                                               \n",
      "27                                                   No                                               \n",
      "28                                                  Yes                                               \n",
      "29                                                  Yes                                               \n",
      "...                                                 ...                                               \n",
      "1204                                                Yes                                               \n",
      "1205                                                Yes                                               \n",
      "1206                                                Yes                                               \n",
      "1207                                                Yes                                               \n",
      "1208                                                Yes                                               \n",
      "1209                                                Yes                                               \n",
      "1210                                                Yes                                               \n",
      "1211                                                Yes                                               \n",
      "1212                                                Yes                                               \n",
      "1213                                                Yes                                               \n",
      "1214                                                Yes                                               \n",
      "1215                                                Yes                                               \n",
      "1216                                                Yes                                               \n",
      "1217                                                Yes                                               \n",
      "1218                                                Yes                                               \n",
      "1219                                                Yes                                               \n",
      "1220                                                Yes                                               \n",
      "1221                                                Yes                                               \n",
      "1222                                                Yes                                               \n",
      "1223                                                Yes                                               \n",
      "1224                                                Yes                                               \n",
      "1225                                                Yes                                               \n",
      "1226                                                Yes                                               \n",
      "1227                                                Yes                                               \n",
      "1228                                                Yes                                               \n",
      "1229                                                Yes                                               \n",
      "1230                                                Yes                                               \n",
      "1231                                                Yes                                               \n",
      "1232                                                NaN                                               \n",
      "1233                                                NaN                                               \n",
      "\n",
      "     Are you clear with the venue details and the landmark.  \\\n",
      "0                                                   Yes       \n",
      "1                                                   Yes       \n",
      "2                                                   NaN       \n",
      "3                                                   Yes       \n",
      "4                                                   Yes       \n",
      "5                                                   Yes       \n",
      "6                                                   Yes       \n",
      "7                                                   Yes       \n",
      "8                                                   Yes       \n",
      "9                                                   Yes       \n",
      "10                                                  Yes       \n",
      "11                                                  Yes       \n",
      "12                                                  Yes       \n",
      "13                                                  Yes       \n",
      "14                                                  Yes       \n",
      "15                                                  Yes       \n",
      "16                                                  Yes       \n",
      "17                                                  Yes       \n",
      "18                                                  Yes       \n",
      "19                                                  Yes       \n",
      "20                                                  Yes       \n",
      "21                                                  Yes       \n",
      "22                                                  Yes       \n",
      "23                                                  Yes       \n",
      "24                                                  Yes       \n",
      "25                                                  Yes       \n",
      "26                                                  Yes       \n",
      "27                                                  Yes       \n",
      "28                                                  Yes       \n",
      "29                                                  Yes       \n",
      "...                                                 ...       \n",
      "1204                                                Yes       \n",
      "1205                                                Yes       \n",
      "1206                                                Yes       \n",
      "1207                                                Yes       \n",
      "1208                                                Yes       \n",
      "1209                                                Yes       \n",
      "1210                                                Yes       \n",
      "1211                                                Yes       \n",
      "1212                                                Yes       \n",
      "1213                                                Yes       \n",
      "1214                                                Yes       \n",
      "1215                                                Yes       \n",
      "1216                                                Yes       \n",
      "1217                                                Yes       \n",
      "1218                                                Yes       \n",
      "1219                                                Yes       \n",
      "1220                                                Yes       \n",
      "1221                                                Yes       \n",
      "1222                                                Yes       \n",
      "1223                                                Yes       \n",
      "1224                                                Yes       \n",
      "1225                                                Yes       \n",
      "1226                                                Yes       \n",
      "1227                                                Yes       \n",
      "1228                                                Yes       \n",
      "1229                                                Yes       \n",
      "1230                                                Yes       \n",
      "1231                                                Yes       \n",
      "1232                                                NaN       \n",
      "1233                                                NaN       \n",
      "\n",
      "     Has the call letter been shared Expected Attendance Observed Attendance  \\\n",
      "0                                Yes                 Yes                  No   \n",
      "1                                Yes                 Yes                  No   \n",
      "2                                NaN           Uncertain                  No   \n",
      "3                                Yes           Uncertain                  No   \n",
      "4                                Yes           Uncertain                  No   \n",
      "5                                Yes                 Yes                 Yes   \n",
      "6                                Yes                 Yes                 Yes   \n",
      "7                                Yes                 Yes                 Yes   \n",
      "8                                Yes                 Yes                 Yes   \n",
      "9                                Yes                 Yes                  No   \n",
      "10                               Yes                 Yes                 Yes   \n",
      "11                               Yes           Uncertain                  No   \n",
      "12                               Yes                 Yes                 Yes   \n",
      "13                    Havent Checked           Uncertain                 Yes   \n",
      "14                               Yes                 Yes                 Yes   \n",
      "15                               Yes                 Yes                 Yes   \n",
      "16                               Yes                 Yes                 Yes   \n",
      "17                               Yes                  No                  No   \n",
      "18                               Yes                 Yes                 Yes   \n",
      "19                               Yes                 Yes                  No   \n",
      "20                                No                  No                  No   \n",
      "21                               Yes                 Yes                 Yes   \n",
      "22                               Yes                 Yes                 Yes   \n",
      "23                               Yes                 Yes                 Yes   \n",
      "24                               Yes           Uncertain                  No   \n",
      "25                                No                  No                  No   \n",
      "26                                No                  No                  No   \n",
      "27                                No                  No                  No   \n",
      "28                               Yes                 Yes                 Yes   \n",
      "29                               Yes                 Yes                 Yes   \n",
      "...                              ...                 ...                 ...   \n",
      "1204                             Yes                 Yes                 yes   \n",
      "1205                             Yes                 Yes                 Yes   \n",
      "1206                             Yes                 Yes                 Yes   \n",
      "1207                             Yes                 Yes                  No   \n",
      "1208                             Yes                 Yes                 yes   \n",
      "1209                             Yes                 Yes                 yes   \n",
      "1210                             Yes                 Yes                 yes   \n",
      "1211                             Yes                 Yes                 yes   \n",
      "1212                             Yes                 Yes                 no    \n",
      "1213                             Yes                 Yes                  no   \n",
      "1214                             Yes                 Yes                 Yes   \n",
      "1215                             Yes                 Yes                 Yes   \n",
      "1216                             Yes                 Yes                  no   \n",
      "1217                             Yes                 Yes                 Yes   \n",
      "1218                             Yes                 Yes                 Yes   \n",
      "1219                             Yes                 Yes                 Yes   \n",
      "1220                             Yes                 Yes                 Yes   \n",
      "1221                             Yes                 Yes                 Yes   \n",
      "1222                             Yes                 Yes                 Yes   \n",
      "1223                             Yes                 Yes                 Yes   \n",
      "1224                             Yes                 Yes                 Yes   \n",
      "1225                             Yes                 Yes                 Yes   \n",
      "1226                             Yes                 Yes                 Yes   \n",
      "1227                             Yes                 Yes                 Yes   \n",
      "1228                             Yes                 Yes                 Yes   \n",
      "1229                             Yes                 Yes                 Yes   \n",
      "1230                             Yes                 Yes                 Yes   \n",
      "1231                             Yes                 Yes                 Yes   \n",
      "1232                             NaN           Uncertain                 Yes   \n",
      "1233                             NaN                 NaN                 NaN   \n",
      "\n",
      "     Marital Status  \n",
      "0            Single  \n",
      "1            Single  \n",
      "2            Single  \n",
      "3            Single  \n",
      "4           Married  \n",
      "5            Single  \n",
      "6            Single  \n",
      "7            Single  \n",
      "8            Single  \n",
      "9            Single  \n",
      "10           Single  \n",
      "11           Single  \n",
      "12           Single  \n",
      "13           Single  \n",
      "14           Single  \n",
      "15           Single  \n",
      "16           Single  \n",
      "17           Single  \n",
      "18           Single  \n",
      "19           Single  \n",
      "20           Single  \n",
      "21           Single  \n",
      "22           Single  \n",
      "23           Single  \n",
      "24           Single  \n",
      "25           Single  \n",
      "26          Married  \n",
      "27           Single  \n",
      "28          Married  \n",
      "29          Married  \n",
      "...             ...  \n",
      "1204         Single  \n",
      "1205         Single  \n",
      "1206        Married  \n",
      "1207        Married  \n",
      "1208        Married  \n",
      "1209         Single  \n",
      "1210        Married  \n",
      "1211         Single  \n",
      "1212         Single  \n",
      "1213        Married  \n",
      "1214        Married  \n",
      "1215         Single  \n",
      "1216         Single  \n",
      "1217        Married  \n",
      "1218        Married  \n",
      "1219        Married  \n",
      "1220         Single  \n",
      "1221         Single  \n",
      "1222        Married  \n",
      "1223        Married  \n",
      "1224        Married  \n",
      "1225         Single  \n",
      "1226        Married  \n",
      "1227        Married  \n",
      "1228        Married  \n",
      "1229         Single  \n",
      "1230        Married  \n",
      "1231         Single  \n",
      "1232         Single  \n",
      "1233            NaN  \n",
      "\n",
      "[1234 rows x 23 columns]\n"
     ]
    }
   ],
   "source": [
    "print(df)"
   ]
  },
  {
   "cell_type": "code",
   "execution_count": 6,
   "metadata": {},
   "outputs": [
    {
     "name": "stdout",
     "output_type": "stream",
     "text": [
      "(1234, 23)\n",
      "['Date of Interview', 'Client name', 'Industry', 'Location', 'Position to be closed', 'Nature of Skillset', 'Interview Type', 'Name(Cand ID)', 'Gender', 'Candidate Current Location', 'Candidate Job Location', 'Interview Venue', 'Candidate Native location', 'Have you obtained the necessary permission to start at the required time', 'Hope there will be no unscheduled meetings', 'Can I Call you three hours before the interview and follow up on your attendance for the interview', 'Can I have an alternative number/ desk number. I assure you that I will not trouble you too much', 'Have you taken a printout of your updated resume. Have you read the JD and understood the same', 'Are you clear with the venue details and the landmark.', 'Has the call letter been shared', 'Expected Attendance', 'Observed Attendance', 'Marital Status']\n"
     ]
    }
   ],
   "source": [
    "print(df.shape)\n",
    "print(list(df.columns))"
   ]
  },
  {
   "cell_type": "code",
   "execution_count": 7,
   "metadata": {},
   "outputs": [
    {
     "data": {
      "text/html": [
       "<div>\n",
       "<style scoped>\n",
       "    .dataframe tbody tr th:only-of-type {\n",
       "        vertical-align: middle;\n",
       "    }\n",
       "\n",
       "    .dataframe tbody tr th {\n",
       "        vertical-align: top;\n",
       "    }\n",
       "\n",
       "    .dataframe thead th {\n",
       "        text-align: right;\n",
       "    }\n",
       "</style>\n",
       "<table border=\"1\" class=\"dataframe\">\n",
       "  <thead>\n",
       "    <tr style=\"text-align: right;\">\n",
       "      <th></th>\n",
       "      <th>Date of Interview</th>\n",
       "      <th>Client name</th>\n",
       "      <th>Industry</th>\n",
       "      <th>Location</th>\n",
       "      <th>Position to be closed</th>\n",
       "      <th>Nature of Skillset</th>\n",
       "      <th>Interview Type</th>\n",
       "      <th>Name(Cand ID)</th>\n",
       "      <th>Gender</th>\n",
       "      <th>Candidate Current Location</th>\n",
       "      <th>...</th>\n",
       "      <th>Have you obtained the necessary permission to start at the required time</th>\n",
       "      <th>Hope there will be no unscheduled meetings</th>\n",
       "      <th>Can I Call you three hours before the interview and follow up on your attendance for the interview</th>\n",
       "      <th>Can I have an alternative number/ desk number. I assure you that I will not trouble you too much</th>\n",
       "      <th>Have you taken a printout of your updated resume. Have you read the JD and understood the same</th>\n",
       "      <th>Are you clear with the venue details and the landmark.</th>\n",
       "      <th>Has the call letter been shared</th>\n",
       "      <th>Expected Attendance</th>\n",
       "      <th>Observed Attendance</th>\n",
       "      <th>Marital Status</th>\n",
       "    </tr>\n",
       "  </thead>\n",
       "  <tbody>\n",
       "    <tr>\n",
       "      <th>0</th>\n",
       "      <td>13.02.2015</td>\n",
       "      <td>Hospira</td>\n",
       "      <td>Pharmaceuticals</td>\n",
       "      <td>Chennai</td>\n",
       "      <td>Production- Sterile</td>\n",
       "      <td>Routine</td>\n",
       "      <td>Scheduled Walkin</td>\n",
       "      <td>Candidate 1</td>\n",
       "      <td>Male</td>\n",
       "      <td>Chennai</td>\n",
       "      <td>...</td>\n",
       "      <td>Yes</td>\n",
       "      <td>Yes</td>\n",
       "      <td>Yes</td>\n",
       "      <td>Yes</td>\n",
       "      <td>Yes</td>\n",
       "      <td>Yes</td>\n",
       "      <td>Yes</td>\n",
       "      <td>Yes</td>\n",
       "      <td>No</td>\n",
       "      <td>Single</td>\n",
       "    </tr>\n",
       "    <tr>\n",
       "      <th>1</th>\n",
       "      <td>13.02.2015</td>\n",
       "      <td>Hospira</td>\n",
       "      <td>Pharmaceuticals</td>\n",
       "      <td>Chennai</td>\n",
       "      <td>Production- Sterile</td>\n",
       "      <td>Routine</td>\n",
       "      <td>Scheduled Walkin</td>\n",
       "      <td>Candidate 2</td>\n",
       "      <td>Male</td>\n",
       "      <td>Chennai</td>\n",
       "      <td>...</td>\n",
       "      <td>Yes</td>\n",
       "      <td>Yes</td>\n",
       "      <td>Yes</td>\n",
       "      <td>Yes</td>\n",
       "      <td>Yes</td>\n",
       "      <td>Yes</td>\n",
       "      <td>Yes</td>\n",
       "      <td>Yes</td>\n",
       "      <td>No</td>\n",
       "      <td>Single</td>\n",
       "    </tr>\n",
       "    <tr>\n",
       "      <th>2</th>\n",
       "      <td>13.02.2015</td>\n",
       "      <td>Hospira</td>\n",
       "      <td>Pharmaceuticals</td>\n",
       "      <td>Chennai</td>\n",
       "      <td>Production- Sterile</td>\n",
       "      <td>Routine</td>\n",
       "      <td>Scheduled Walkin</td>\n",
       "      <td>Candidate 3</td>\n",
       "      <td>Male</td>\n",
       "      <td>Chennai</td>\n",
       "      <td>...</td>\n",
       "      <td>NaN</td>\n",
       "      <td>Na</td>\n",
       "      <td>NaN</td>\n",
       "      <td>NaN</td>\n",
       "      <td>NaN</td>\n",
       "      <td>NaN</td>\n",
       "      <td>NaN</td>\n",
       "      <td>Uncertain</td>\n",
       "      <td>No</td>\n",
       "      <td>Single</td>\n",
       "    </tr>\n",
       "    <tr>\n",
       "      <th>3</th>\n",
       "      <td>13.02.2015</td>\n",
       "      <td>Hospira</td>\n",
       "      <td>Pharmaceuticals</td>\n",
       "      <td>Chennai</td>\n",
       "      <td>Production- Sterile</td>\n",
       "      <td>Routine</td>\n",
       "      <td>Scheduled Walkin</td>\n",
       "      <td>Candidate 4</td>\n",
       "      <td>Male</td>\n",
       "      <td>Chennai</td>\n",
       "      <td>...</td>\n",
       "      <td>Yes</td>\n",
       "      <td>Yes</td>\n",
       "      <td>No</td>\n",
       "      <td>Yes</td>\n",
       "      <td>No</td>\n",
       "      <td>Yes</td>\n",
       "      <td>Yes</td>\n",
       "      <td>Uncertain</td>\n",
       "      <td>No</td>\n",
       "      <td>Single</td>\n",
       "    </tr>\n",
       "    <tr>\n",
       "      <th>4</th>\n",
       "      <td>13.02.2015</td>\n",
       "      <td>Hospira</td>\n",
       "      <td>Pharmaceuticals</td>\n",
       "      <td>Chennai</td>\n",
       "      <td>Production- Sterile</td>\n",
       "      <td>Routine</td>\n",
       "      <td>Scheduled Walkin</td>\n",
       "      <td>Candidate 5</td>\n",
       "      <td>Male</td>\n",
       "      <td>Chennai</td>\n",
       "      <td>...</td>\n",
       "      <td>Yes</td>\n",
       "      <td>Yes</td>\n",
       "      <td>Yes</td>\n",
       "      <td>No</td>\n",
       "      <td>Yes</td>\n",
       "      <td>Yes</td>\n",
       "      <td>Yes</td>\n",
       "      <td>Uncertain</td>\n",
       "      <td>No</td>\n",
       "      <td>Married</td>\n",
       "    </tr>\n",
       "  </tbody>\n",
       "</table>\n",
       "<p>5 rows × 23 columns</p>\n",
       "</div>"
      ],
      "text/plain": [
       "  Date of Interview Client name         Industry Location  \\\n",
       "0        13.02.2015     Hospira  Pharmaceuticals  Chennai   \n",
       "1        13.02.2015     Hospira  Pharmaceuticals  Chennai   \n",
       "2        13.02.2015     Hospira  Pharmaceuticals  Chennai   \n",
       "3        13.02.2015     Hospira  Pharmaceuticals  Chennai   \n",
       "4        13.02.2015     Hospira  Pharmaceuticals  Chennai   \n",
       "\n",
       "  Position to be closed Nature of Skillset    Interview Type Name(Cand ID)  \\\n",
       "0   Production- Sterile            Routine  Scheduled Walkin   Candidate 1   \n",
       "1   Production- Sterile            Routine  Scheduled Walkin   Candidate 2   \n",
       "2   Production- Sterile            Routine  Scheduled Walkin   Candidate 3   \n",
       "3   Production- Sterile            Routine  Scheduled Walkin   Candidate 4   \n",
       "4   Production- Sterile            Routine  Scheduled Walkin   Candidate 5   \n",
       "\n",
       "  Gender Candidate Current Location      ...        \\\n",
       "0   Male                    Chennai      ...         \n",
       "1   Male                    Chennai      ...         \n",
       "2   Male                    Chennai      ...         \n",
       "3   Male                    Chennai      ...         \n",
       "4   Male                    Chennai      ...         \n",
       "\n",
       "  Have you obtained the necessary permission to start at the required time  \\\n",
       "0                                                Yes                         \n",
       "1                                                Yes                         \n",
       "2                                                NaN                         \n",
       "3                                                Yes                         \n",
       "4                                                Yes                         \n",
       "\n",
       "  Hope there will be no unscheduled meetings  \\\n",
       "0                                        Yes   \n",
       "1                                        Yes   \n",
       "2                                         Na   \n",
       "3                                        Yes   \n",
       "4                                        Yes   \n",
       "\n",
       "  Can I Call you three hours before the interview and follow up on your attendance for the interview  \\\n",
       "0                                                Yes                                                   \n",
       "1                                                Yes                                                   \n",
       "2                                                NaN                                                   \n",
       "3                                                 No                                                   \n",
       "4                                                Yes                                                   \n",
       "\n",
       "  Can I have an alternative number/ desk number. I assure you that I will not trouble you too much  \\\n",
       "0                                                Yes                                                 \n",
       "1                                                Yes                                                 \n",
       "2                                                NaN                                                 \n",
       "3                                                Yes                                                 \n",
       "4                                                 No                                                 \n",
       "\n",
       "  Have you taken a printout of your updated resume. Have you read the JD and understood the same  \\\n",
       "0                                                Yes                                               \n",
       "1                                                Yes                                               \n",
       "2                                                NaN                                               \n",
       "3                                                 No                                               \n",
       "4                                                Yes                                               \n",
       "\n",
       "  Are you clear with the venue details and the landmark.  \\\n",
       "0                                                Yes       \n",
       "1                                                Yes       \n",
       "2                                                NaN       \n",
       "3                                                Yes       \n",
       "4                                                Yes       \n",
       "\n",
       "  Has the call letter been shared Expected Attendance Observed Attendance  \\\n",
       "0                             Yes                 Yes                  No   \n",
       "1                             Yes                 Yes                  No   \n",
       "2                             NaN           Uncertain                  No   \n",
       "3                             Yes           Uncertain                  No   \n",
       "4                             Yes           Uncertain                  No   \n",
       "\n",
       "  Marital Status  \n",
       "0         Single  \n",
       "1         Single  \n",
       "2         Single  \n",
       "3         Single  \n",
       "4        Married  \n",
       "\n",
       "[5 rows x 23 columns]"
      ]
     },
     "execution_count": 7,
     "metadata": {},
     "output_type": "execute_result"
    }
   ],
   "source": [
    "df.head()"
   ]
  },
  {
   "cell_type": "code",
   "execution_count": 8,
   "metadata": {},
   "outputs": [
    {
     "data": {
      "text/plain": [
       "array(['Hospira', 'Aon Hewitt', 'UST', 'Standard Chartered Bank', 'ANZ',\n",
       "       'Pfizer', 'Standard Chartered Bank Chennai', 'Aon hewitt Gurgaon',\n",
       "       'Astrazeneca', 'Flextronics', 'Prodapt', 'Williams Lea',\n",
       "       'Barclays', 'Hewitt', 'Woori Bank', '\\ufeff\\ufeff'], dtype=object)"
      ]
     },
     "execution_count": 8,
     "metadata": {},
     "output_type": "execute_result"
    }
   ],
   "source": [
    "df['Client name'].unique()"
   ]
  },
  {
   "cell_type": "code",
   "execution_count": 9,
   "metadata": {},
   "outputs": [],
   "source": [
    "df['Client name']=np.where(df['Client name'] =='Aon hewitt Gurgaon', 'Aon Hewitt', df['Client name'])"
   ]
  },
  {
   "cell_type": "code",
   "execution_count": 10,
   "metadata": {},
   "outputs": [
    {
     "data": {
      "text/plain": [
       "array(['Hospira', 'Aon Hewitt', 'UST', 'Standard Chartered Bank', 'ANZ',\n",
       "       'Pfizer', 'Standard Chartered Bank Chennai', 'Astrazeneca',\n",
       "       'Flextronics', 'Prodapt', 'Williams Lea', 'Barclays', 'Hewitt',\n",
       "       'Woori Bank', '\\ufeff\\ufeff'], dtype=object)"
      ]
     },
     "execution_count": 10,
     "metadata": {},
     "output_type": "execute_result"
    }
   ],
   "source": [
    "df['Client name'].unique()"
   ]
  },
  {
   "cell_type": "code",
   "execution_count": 11,
   "metadata": {},
   "outputs": [],
   "source": [
    "df['Client name']=np.where(df['Client name'] =='Aon Hewitt', 'Hewitt', df['Client name'])\n",
    "df['Client name']=np.where(df['Client name'] =='Standard Chartered Bank Chennai', 'Standard Chartered Bank', df['Client name'])\n",
    "\n",
    "#df['Client name']=np.where(df['Client name'] =='\\ufeff\\ufeff', '', df['Client name'])"
   ]
  },
  {
   "cell_type": "code",
   "execution_count": 12,
   "metadata": {},
   "outputs": [
    {
     "data": {
      "text/plain": [
       "array(['Hospira', 'Hewitt', 'UST', 'Standard Chartered Bank', 'ANZ',\n",
       "       'Pfizer', 'Astrazeneca', 'Flextronics', 'Prodapt', 'Williams Lea',\n",
       "       'Barclays', 'Woori Bank', '\\ufeff\\ufeff'], dtype=object)"
      ]
     },
     "execution_count": 12,
     "metadata": {},
     "output_type": "execute_result"
    }
   ],
   "source": [
    "df['Client name'].unique()"
   ]
  },
  {
   "cell_type": "code",
   "execution_count": 13,
   "metadata": {},
   "outputs": [
    {
     "data": {
      "text/plain": [
       "array(['Chennai', 'Gurgaon', 'Bangalore', 'Hyderabad', 'Gurgaonr',\n",
       "       'Delhi', 'chennai', '- Cochin- ', 'Noida', 'CHENNAI', 'chennai ',\n",
       "       nan], dtype=object)"
      ]
     },
     "execution_count": 13,
     "metadata": {},
     "output_type": "execute_result"
    }
   ],
   "source": [
    "df['Location'].unique()"
   ]
  },
  {
   "cell_type": "code",
   "execution_count": 14,
   "metadata": {},
   "outputs": [],
   "source": [
    "df['Location']=np.where(df['Location'] =='Gurgaonr', 'Gurgaon', df['Location'])\n",
    "df['Location']=np.where(df['Location'] =='chennai', 'Chennai', df['Location'])\n",
    "df['Location']=np.where(df['Location'] =='CHENNAI', 'Chennai', df['Location'])\n",
    "df['Location']=np.where(df['Location'] =='chennai ', 'Chennai', df['Location'])\n",
    "df['Location']=np.where(df['Location'] =='- Cochin- ', 'Cochin', df['Location'])"
   ]
  },
  {
   "cell_type": "code",
   "execution_count": 15,
   "metadata": {},
   "outputs": [
    {
     "data": {
      "text/plain": [
       "array(['Chennai', 'Gurgaon', 'Bangalore', 'Hyderabad', 'Delhi', 'Cochin',\n",
       "       'Noida', nan], dtype=object)"
      ]
     },
     "execution_count": 15,
     "metadata": {},
     "output_type": "execute_result"
    }
   ],
   "source": [
    "df['Location'].unique()"
   ]
  },
  {
   "cell_type": "code",
   "execution_count": 16,
   "metadata": {},
   "outputs": [
    {
     "data": {
      "text/plain": [
       "array(['Routine', 'Oracle', 'Accounting Operations', 'Banking Operations',\n",
       "       'Fresher', 'AML/KYC/CDD', 'CDD KYC', 'Biosimiliars', 'RA Label',\n",
       "       'RA Publishing', 'EMEA', 'LCM -Manager', 'Licensing – RA',\n",
       "       'generic drugs – RA', 'Biosimilars', 'Regulatory',\n",
       "       'Analytical R & D', 'Analytical R&D',\n",
       "       'Senior software engineer-Mednet', 'Tech lead-Mednet',\n",
       "       'Tech Lead- Mednet', 'Technical Lead', 'Sr Automation Testing',\n",
       "       'TL', 'Senior Analyst', 'production', 'Production', 'Core Java',\n",
       "       'Java J2EE', 'Oracle Plsql', 'Java,SQL', 'Automation Testing Java',\n",
       "       'Submission Management', 'Biosimillar', 'Publishing',\n",
       "       'Global Labelling', 'ALS Testing', 'Java Developer',\n",
       "       'Lending and Liabilities', 'Lending & Liability',\n",
       "       'Lending And Liabilities', 'L & L', 'Banking operations',\n",
       "       'Lending&Liablities', 'JAVA/J2EE/Struts/Hibernate',\n",
       "       'JAVA/SPRING/HIBERNATE/JSF', 'Java', 'Java JSF', 'Java,J2ee, JSF',\n",
       "       'Java ,J2ee', 'Java J2ee', '11.30 AM', '10.00 AM', '9.00 Am',\n",
       "       '12.30 Pm', '9.30 AM', '11.30 Am', 'Java, J2Ee', 'Java,J2EE',\n",
       "       'Java/J2ee/Core Java', 'Java/J2ee', 'JAVA, J2ee', 'JAVA,J2ee',\n",
       "       'T-24 developer', 'COTS Developer', 'Product Control', 'Dot Net',\n",
       "       'COTS', 'testing', '- SAPBO, Informatica', 'ETL', 'Java-SAS',\n",
       "       'Java Tech Lead', 'Manager', 'JAVA,SQL', 'Java, SQL', 'Hadoop',\n",
       "       'SCCM', 'SCCM-(Network, sharepoint,ms exchange)',\n",
       "       'SCCm- Desktop support', 'Sccm- networking', 'sccm', 'SCCM – SQL',\n",
       "       'SCCM – Sharepoint', 'Production Support - SCCM', 'SAS',\n",
       "       'BaseSAS Program/ Reporting', 'Java, Spring, Hibernate',\n",
       "       'Java,spring,hibernate', 'Java, XML, Struts, hibernate',\n",
       "       'JAVA/J2EE', 'Java ', nan], dtype=object)"
      ]
     },
     "execution_count": 16,
     "metadata": {},
     "output_type": "execute_result"
    }
   ],
   "source": [
    "df['Nature of Skillset'].unique()"
   ]
  },
  {
   "cell_type": "code",
   "execution_count": 17,
   "metadata": {},
   "outputs": [],
   "source": [
    "df['Nature of Skillset']=np.where(df['Nature of Skillset'] =='Biosimiliars', 'Biosimilars', df['Nature of Skillset'])\n",
    "df['Nature of Skillset']=np.where(df['Nature of Skillset'] =='production', 'Production', df['Nature of Skillset'])\n",
    "df['Nature of Skillset']=np.where(df['Nature of Skillset'] =='CDD KYC', 'AML/KYC/CDD', df['Nature of Skillset'])\n",
    "df['Nature of Skillset']=np.where(df['Nature of Skillset'] =='Analytical R&D', 'Analytical R & D', df['Nature of Skillset'])\n",
    "df['Nature of Skillset']=np.where(df['Nature of Skillset'] =='Tech lead-Mednet', 'Technical Lead', df['Nature of Skillset'])\n",
    "df['Nature of Skillset']=np.where(df['Nature of Skillset'] =='Tech Lead- Mednet', 'Technical Lead', df['Nature of Skillset'])\n",
    "df['Nature of Skillset']=np.where(df['Nature of Skillset'] =='TL', 'Technical Lead', df['Nature of Skillset'])\n",
    "df['Nature of Skillset']=np.where(df['Nature of Skillset'] =='Core Java', 'Java', df['Nature of Skillset'])\n",
    "df['Nature of Skillset']=np.where(df['Nature of Skillset'] =='Java J2EE', 'Java', df['Nature of Skillset'])\n",
    "df['Nature of Skillset']=np.where(df['Nature of Skillset'] =='Java J2Ee', 'Java', df['Nature of Skillset'])\n",
    "df['Nature of Skillset']=np.where(df['Nature of Skillset'] =='JAVA/J2EE/Struts/Hibernate', 'Advanced Java', df['Nature of Skillset'])\n",
    "df['Nature of Skillset']=np.where(df['Nature of Skillset'] =='JAVA/SPRING/HIBERNATE/JSF', 'Advanced Java', df['Nature of Skillset'])\n",
    "df['Nature of Skillset']=np.where(df['Nature of Skillset'] =='JAVA JSF', 'Advanced Java', df['Nature of Skillset'])\n",
    "df['Nature of Skillset']=np.where(df['Nature of Skillset'] =='Java,J2ee, JSF', 'Advanced Java', df['Nature of Skillset'])\n"
   ]
  },
  {
   "cell_type": "code",
   "execution_count": 18,
   "metadata": {},
   "outputs": [
    {
     "data": {
      "text/plain": [
       "array(['Routine', 'Oracle', 'Accounting Operations', 'Banking Operations',\n",
       "       'Fresher', 'AML/KYC/CDD', 'Biosimilars', 'RA Label',\n",
       "       'RA Publishing', 'EMEA', 'LCM -Manager', 'Licensing – RA',\n",
       "       'generic drugs – RA', 'Regulatory', 'Analytical R & D',\n",
       "       'Senior software engineer-Mednet', 'Technical Lead',\n",
       "       'Sr Automation Testing', 'Senior Analyst', 'Production', 'Java',\n",
       "       'Oracle Plsql', 'Java,SQL', 'Automation Testing Java',\n",
       "       'Submission Management', 'Biosimillar', 'Publishing',\n",
       "       'Global Labelling', 'ALS Testing', 'Java Developer',\n",
       "       'Lending and Liabilities', 'Lending & Liability',\n",
       "       'Lending And Liabilities', 'L & L', 'Banking operations',\n",
       "       'Lending&Liablities', 'Advanced Java', 'Java JSF', 'Java ,J2ee',\n",
       "       'Java J2ee', '11.30 AM', '10.00 AM', '9.00 Am', '12.30 Pm',\n",
       "       '9.30 AM', '11.30 Am', 'Java, J2Ee', 'Java,J2EE',\n",
       "       'Java/J2ee/Core Java', 'Java/J2ee', 'JAVA, J2ee', 'JAVA,J2ee',\n",
       "       'T-24 developer', 'COTS Developer', 'Product Control', 'Dot Net',\n",
       "       'COTS', 'testing', '- SAPBO, Informatica', 'ETL', 'Java-SAS',\n",
       "       'Java Tech Lead', 'Manager', 'JAVA,SQL', 'Java, SQL', 'Hadoop',\n",
       "       'SCCM', 'SCCM-(Network, sharepoint,ms exchange)',\n",
       "       'SCCm- Desktop support', 'Sccm- networking', 'sccm', 'SCCM – SQL',\n",
       "       'SCCM – Sharepoint', 'Production Support - SCCM', 'SAS',\n",
       "       'BaseSAS Program/ Reporting', 'Java, Spring, Hibernate',\n",
       "       'Java,spring,hibernate', 'Java, XML, Struts, hibernate',\n",
       "       'JAVA/J2EE', 'Java ', nan], dtype=object)"
      ]
     },
     "execution_count": 18,
     "metadata": {},
     "output_type": "execute_result"
    }
   ],
   "source": [
    "df['Nature of Skillset'].unique()"
   ]
  },
  {
   "cell_type": "code",
   "execution_count": 19,
   "metadata": {},
   "outputs": [],
   "source": [
    "df['Nature of Skillset']=np.where(df['Nature of Skillset'] =='Java, J2Ee', 'Advanced Java', df['Nature of Skillset'])\n",
    "df['Nature of Skillset']=np.where(df['Nature of Skillset'] =='Java ,J2ee', 'Advanced Java', df['Nature of Skillset'])\n",
    "df['Nature of Skillset']=np.where(df['Nature of Skillset'] =='Java ,J2ee', 'Advanced Java', df['Nature of Skillset'])\n",
    "df['Nature of Skillset']=np.where(df['Nature of Skillset'] =='Java,J2EE', 'Advanced Java', df['Nature of Skillset'])\n",
    "df['Nature of Skillset']=np.where(df['Nature of Skillset'] =='Java/J2ee', 'Advanced Java', df['Nature of Skillset'])\n",
    "df['Nature of Skillset']=np.where(df['Nature of Skillset'] =='Java/J2ee/Core Java', 'Advanced Java', df['Nature of Skillset'])\n",
    "df['Nature of Skillset']=np.where(df['Nature of Skillset'] =='Java Tech Lead', 'Advanced Java', df['Nature of Skillset'])\n",
    "df['Nature of Skillset']=np.where(df['Nature of Skillset'] =='Java, Spring, Hibernate', 'Advanced Java', df['Nature of Skillset'])\n",
    "df['Nature of Skillset']=np.where(df['Nature of Skillset'] =='Java,spring,hibernate', 'Advanced Java', df['Nature of Skillset'])\n",
    "df['Nature of Skillset']=np.where(df['Nature of Skillset'] =='Java, XML, Struts, hibernate', 'Advanced Java', df['Nature of Skillset'])\n",
    "df['Nature of Skillset']=np.where(df['Nature of Skillset'] =='JAVA/J2EE', 'Advanced Java', df['Nature of Skillset'])\n"
   ]
  },
  {
   "cell_type": "code",
   "execution_count": 20,
   "metadata": {},
   "outputs": [
    {
     "data": {
      "text/plain": [
       "array(['Routine', 'Oracle', 'Accounting Operations', 'Banking Operations',\n",
       "       'Fresher', 'AML/KYC/CDD', 'Biosimilars', 'RA Label',\n",
       "       'RA Publishing', 'EMEA', 'LCM -Manager', 'Licensing – RA',\n",
       "       'generic drugs – RA', 'Regulatory', 'Analytical R & D',\n",
       "       'Senior software engineer-Mednet', 'Technical Lead',\n",
       "       'Sr Automation Testing', 'Senior Analyst', 'Production', 'Java',\n",
       "       'Oracle Plsql', 'Java,SQL', 'Automation Testing Java',\n",
       "       'Submission Management', 'Biosimillar', 'Publishing',\n",
       "       'Global Labelling', 'ALS Testing', 'Java Developer',\n",
       "       'Lending and Liabilities', 'Lending & Liability',\n",
       "       'Lending And Liabilities', 'L & L', 'Banking operations',\n",
       "       'Lending&Liablities', 'Advanced Java', 'Java JSF', 'Java J2ee',\n",
       "       '11.30 AM', '10.00 AM', '9.00 Am', '12.30 Pm', '9.30 AM',\n",
       "       '11.30 Am', 'JAVA, J2ee', 'JAVA,J2ee', 'T-24 developer',\n",
       "       'COTS Developer', 'Product Control', 'Dot Net', 'COTS', 'testing',\n",
       "       '- SAPBO, Informatica', 'ETL', 'Java-SAS', 'Manager', 'JAVA,SQL',\n",
       "       'Java, SQL', 'Hadoop', 'SCCM',\n",
       "       'SCCM-(Network, sharepoint,ms exchange)', 'SCCm- Desktop support',\n",
       "       'Sccm- networking', 'sccm', 'SCCM – SQL', 'SCCM – Sharepoint',\n",
       "       'Production Support - SCCM', 'SAS', 'BaseSAS Program/ Reporting',\n",
       "       'Java ', nan], dtype=object)"
      ]
     },
     "execution_count": 20,
     "metadata": {},
     "output_type": "execute_result"
    }
   ],
   "source": [
    "df['Nature of Skillset'].unique()"
   ]
  },
  {
   "cell_type": "code",
   "execution_count": 21,
   "metadata": {},
   "outputs": [],
   "source": [
    "df['Nature of Skillset']=np.where(df['Nature of Skillset'] =='Java JSF', 'Advanced Java', df['Nature of Skillset'])\n",
    "df['Nature of Skillset']=np.where(df['Nature of Skillset'] =='Java J2ee', 'Advanced Java', df['Nature of Skillset'])\n",
    "df['Nature of Skillset']=np.where(df['Nature of Skillset'] =='JAVA, J2ee', 'Advanced Java', df['Nature of Skillset'])\n",
    "df['Nature of Skillset']=np.where(df['Nature of Skillset'] =='JAVA,J2ee', 'Advanced Java', df['Nature of Skillset'])\n",
    "df['Nature of Skillset']=np.where(df['Nature of Skillset'] =='Java ', 'Java', df['Nature of Skillset'])\n",
    "df['Nature of Skillset']=np.where(df['Nature of Skillset'] =='Java,SQL', 'Java - SQL', df['Nature of Skillset'])\n",
    "df['Nature of Skillset']=np.where(df['Nature of Skillset'] =='Java, SQL', 'Java - SQL', df['Nature of Skillset'])\n",
    "df['Nature of Skillset']=np.where(df['Nature of Skillset'] =='Java,SQL', 'Java - SQL', df['Nature of Skillset'])\n",
    "df['Nature of Skillset']=np.where(df['Nature of Skillset'] =='SCCM-(Network, sharepoint,ms exchange)', 'SCCM', df['Nature of Skillset'])\n",
    "df['Nature of Skillset']=np.where(df['Nature of Skillset'] =='SCCm- Desktop support', 'SCCM', df['Nature of Skillset'])\n",
    "df['Nature of Skillset']=np.where(df['Nature of Skillset'] =='Sccm- networking', 'SCCM', df['Nature of Skillset'])\n",
    "df['Nature of Skillset']=np.where(df['Nature of Skillset'] =='sccm', 'SCCM', df['Nature of Skillset'])\n",
    "df['Nature of Skillset']=np.where(df['Nature of Skillset'] =='SCCM – SQL', 'SCCM', df['Nature of Skillset'])\n",
    "df['Nature of Skillset']=np.where(df['Nature of Skillset'] =='SCCM – Sharepoint', 'SCCM', df['Nature of Skillset'])\n",
    "df['Nature of Skillset']=np.where(df['Nature of Skillset'] =='Production Support - SCCM', 'SCCM', df['Nature of Skillset'])\n",
    "df['Nature of Skillset']=np.where(df['Nature of Skillset'] =='11.30 AM', 'NaN', df['Nature of Skillset'])\n",
    "df['Nature of Skillset']=np.where(df['Nature of Skillset'] =='10.00 AM', 'NaN', df['Nature of Skillset'])\n",
    "df['Nature of Skillset']=np.where(df['Nature of Skillset'] =='9.00 Am', 'NaN', df['Nature of Skillset'])"
   ]
  },
  {
   "cell_type": "code",
   "execution_count": 22,
   "metadata": {},
   "outputs": [
    {
     "data": {
      "text/plain": [
       "array(['Routine', 'Oracle', 'Accounting Operations', 'Banking Operations',\n",
       "       'Fresher', 'AML/KYC/CDD', 'Biosimilars', 'RA Label',\n",
       "       'RA Publishing', 'EMEA', 'LCM -Manager', 'Licensing – RA',\n",
       "       'generic drugs – RA', 'Regulatory', 'Analytical R & D',\n",
       "       'Senior software engineer-Mednet', 'Technical Lead',\n",
       "       'Sr Automation Testing', 'Senior Analyst', 'Production', 'Java',\n",
       "       'Oracle Plsql', 'Java - SQL', 'Automation Testing Java',\n",
       "       'Submission Management', 'Biosimillar', 'Publishing',\n",
       "       'Global Labelling', 'ALS Testing', 'Java Developer',\n",
       "       'Lending and Liabilities', 'Lending & Liability',\n",
       "       'Lending And Liabilities', 'L & L', 'Banking operations',\n",
       "       'Lending&Liablities', 'Advanced Java', 'NaN', '12.30 Pm',\n",
       "       '9.30 AM', '11.30 Am', 'T-24 developer', 'COTS Developer',\n",
       "       'Product Control', 'Dot Net', 'COTS', 'testing',\n",
       "       '- SAPBO, Informatica', 'ETL', 'Java-SAS', 'Manager', 'JAVA,SQL',\n",
       "       'Hadoop', 'SCCM', 'SAS', 'BaseSAS Program/ Reporting', nan],\n",
       "      dtype=object)"
      ]
     },
     "execution_count": 22,
     "metadata": {},
     "output_type": "execute_result"
    }
   ],
   "source": [
    "df['Nature of Skillset'].unique()"
   ]
  },
  {
   "cell_type": "code",
   "execution_count": 23,
   "metadata": {},
   "outputs": [],
   "source": [
    "df['Nature of Skillset']=np.where(df['Nature of Skillset'] =='12.30 Pm', 'NaN', df['Nature of Skillset'])\n",
    "df['Nature of Skillset']=np.where(df['Nature of Skillset'] =='9.30 AM', 'NaN', df['Nature of Skillset'])\n",
    "df['Nature of Skillset']=np.where(df['Nature of Skillset'] =='11.30 Am', 'NaN', df['Nature of Skillset'])\n",
    "df['Nature of Skillset']=np.where(df['Nature of Skillset'] =='JAVA,SQL', 'Java - SQL', df['Nature of Skillset'])\n",
    "df['Nature of Skillset']=np.where(df['Nature of Skillset'] =='Java Developer', 'Java', df['Nature of Skillset'])\n",
    "df['Nature of Skillset']=np.where(df['Nature of Skillset'] =='Automation Testing Java', 'Sr Automation Testing', df['Nature of Skillset'])\n",
    "df['Nature of Skillset']=np.where(df['Nature of Skillset'] =='nan', 'NaN', df['Nature of Skillset'])\n",
    "df['Nature of Skillset']=np.where(df['Nature of Skillset'] =='Lending & Liability', 'Lending and Liabilities', df['Nature of Skillset'])\n",
    "df['Nature of Skillset']=np.where(df['Nature of Skillset'] =='Lending And Liabilities', 'Lending and Liabilities', df['Nature of Skillset'])\n",
    "df['Nature of Skillset']=np.where(df['Nature of Skillset'] =='Lending&Liablities', 'Lending and Liabilities', df['Nature of Skillset'])\n",
    "df['Nature of Skillset']=np.where(df['Nature of Skillset'] =='L & L', 'Lending and Liabilities', df['Nature of Skillset'])"
   ]
  },
  {
   "cell_type": "code",
   "execution_count": 24,
   "metadata": {},
   "outputs": [
    {
     "data": {
      "text/plain": [
       "array(['Routine', 'Oracle', 'Accounting Operations', 'Banking Operations',\n",
       "       'Fresher', 'AML/KYC/CDD', 'Biosimilars', 'RA Label',\n",
       "       'RA Publishing', 'EMEA', 'LCM -Manager', 'Licensing – RA',\n",
       "       'generic drugs – RA', 'Regulatory', 'Analytical R & D',\n",
       "       'Senior software engineer-Mednet', 'Technical Lead',\n",
       "       'Sr Automation Testing', 'Senior Analyst', 'Production', 'Java',\n",
       "       'Oracle Plsql', 'Java - SQL', 'Submission Management',\n",
       "       'Biosimillar', 'Publishing', 'Global Labelling', 'ALS Testing',\n",
       "       'Lending and Liabilities', 'Banking operations', 'Advanced Java',\n",
       "       'NaN', 'T-24 developer', 'COTS Developer', 'Product Control',\n",
       "       'Dot Net', 'COTS', 'testing', '- SAPBO, Informatica', 'ETL',\n",
       "       'Java-SAS', 'Manager', 'Hadoop', 'SCCM', 'SAS',\n",
       "       'BaseSAS Program/ Reporting', nan], dtype=object)"
      ]
     },
     "execution_count": 24,
     "metadata": {},
     "output_type": "execute_result"
    }
   ],
   "source": [
    "df['Nature of Skillset'].unique()"
   ]
  },
  {
   "cell_type": "code",
   "execution_count": 25,
   "metadata": {},
   "outputs": [],
   "source": [
    "df['Nature of Skillset']=np.where(df['Nature of Skillset'] =='Biosimillar', 'Biosimilars', df['Nature of Skillset'])\n",
    "df['Nature of Skillset']=np.where(df['Nature of Skillset'] =='Java-SAS', 'SAS', df['Nature of Skillset'])\n",
    "df['Nature of Skillset']=np.where(df['Nature of Skillset'] =='BaseSAS Program/ Reporting', 'SAS', df['Nature of Skillset'])"
   ]
  },
  {
   "cell_type": "code",
   "execution_count": 26,
   "metadata": {},
   "outputs": [
    {
     "data": {
      "text/plain": [
       "array(['Routine', 'Oracle', 'Accounting Operations', 'Banking Operations',\n",
       "       'Fresher', 'AML/KYC/CDD', 'Biosimilars', 'RA Label',\n",
       "       'RA Publishing', 'EMEA', 'LCM -Manager', 'Licensing – RA',\n",
       "       'generic drugs – RA', 'Regulatory', 'Analytical R & D',\n",
       "       'Senior software engineer-Mednet', 'Technical Lead',\n",
       "       'Sr Automation Testing', 'Senior Analyst', 'Production', 'Java',\n",
       "       'Oracle Plsql', 'Java - SQL', 'Submission Management',\n",
       "       'Publishing', 'Global Labelling', 'ALS Testing',\n",
       "       'Lending and Liabilities', 'Banking operations', 'Advanced Java',\n",
       "       'NaN', 'T-24 developer', 'COTS Developer', 'Product Control',\n",
       "       'Dot Net', 'COTS', 'testing', '- SAPBO, Informatica', 'ETL', 'SAS',\n",
       "       'Manager', 'Hadoop', 'SCCM', nan], dtype=object)"
      ]
     },
     "execution_count": 26,
     "metadata": {},
     "output_type": "execute_result"
    }
   ],
   "source": [
    "df['Nature of Skillset'].unique()"
   ]
  },
  {
   "cell_type": "code",
   "execution_count": 27,
   "metadata": {},
   "outputs": [
    {
     "data": {
      "text/plain": [
       "array(['Scheduled Walkin', 'Scheduled ', 'Walkin', 'Scheduled Walk In',\n",
       "       'Sceduled walkin', 'Walkin ', nan], dtype=object)"
      ]
     },
     "execution_count": 27,
     "metadata": {},
     "output_type": "execute_result"
    }
   ],
   "source": [
    "df['Interview Type'].unique()"
   ]
  },
  {
   "cell_type": "code",
   "execution_count": 28,
   "metadata": {},
   "outputs": [],
   "source": [
    "df['Interview Type']=np.where(df['Interview Type'] =='Scheduled Walkin', 'Scheduled Walk In', df['Interview Type'])\n",
    "df['Interview Type']=np.where(df['Interview Type'] =='Sceduled walkin', 'Scheduled Walk In', df['Interview Type'])\n",
    "df['Interview Type']=np.where(df['Interview Type'] =='Walkin ', 'Walkin', df['Interview Type'])\n",
    "df['Interview Type']=np.where(df['Interview Type'] =='Scheduled ', 'Scheduled', df['Interview Type'])"
   ]
  },
  {
   "cell_type": "code",
   "execution_count": 29,
   "metadata": {},
   "outputs": [
    {
     "data": {
      "text/plain": [
       "array(['Scheduled Walk In', 'Scheduled', 'Walkin', nan], dtype=object)"
      ]
     },
     "execution_count": 29,
     "metadata": {},
     "output_type": "execute_result"
    }
   ],
   "source": [
    "df['Interview Type'].unique()"
   ]
  },
  {
   "cell_type": "code",
   "execution_count": 30,
   "metadata": {},
   "outputs": [
    {
     "data": {
      "text/plain": [
       "array(['Male', 'Female', nan], dtype=object)"
      ]
     },
     "execution_count": 30,
     "metadata": {},
     "output_type": "execute_result"
    }
   ],
   "source": [
    "df['Gender'].unique()"
   ]
  },
  {
   "cell_type": "code",
   "execution_count": 31,
   "metadata": {},
   "outputs": [
    {
     "data": {
      "text/plain": [
       "array(['Chennai', 'Gurgaon', 'Bangalore', 'Hyderabad', 'Delhi', 'chennai',\n",
       "       '- Cochin- ', 'Noida', 'CHENNAI', 'chennai ', nan], dtype=object)"
      ]
     },
     "execution_count": 31,
     "metadata": {},
     "output_type": "execute_result"
    }
   ],
   "source": [
    "df['Candidate Current Location'].unique()"
   ]
  },
  {
   "cell_type": "code",
   "execution_count": 32,
   "metadata": {},
   "outputs": [],
   "source": [
    "df['Candidate Current Location']=np.where(df['Candidate Current Location'] =='chennai', 'Chennai', df['Candidate Current Location'])\n",
    "df['Candidate Current Location']=np.where(df['Candidate Current Location'] =='- Cochin- ', 'Cochin', df['Candidate Current Location'])\n",
    "df['Candidate Current Location']=np.where(df['Candidate Current Location'] =='chennai ', 'Chennai', df['Candidate Current Location'])\n",
    "df['Candidate Current Location']=np.where(df['Candidate Current Location'] =='CHENNAI', 'Chennai', df['Candidate Current Location'])"
   ]
  },
  {
   "cell_type": "code",
   "execution_count": 33,
   "metadata": {},
   "outputs": [
    {
     "data": {
      "text/plain": [
       "array(['Chennai', 'Gurgaon', 'Bangalore', 'Hyderabad', 'Delhi', 'Cochin',\n",
       "       'Noida', nan], dtype=object)"
      ]
     },
     "execution_count": 33,
     "metadata": {},
     "output_type": "execute_result"
    }
   ],
   "source": [
    "df['Candidate Current Location'].unique()"
   ]
  },
  {
   "cell_type": "code",
   "execution_count": 34,
   "metadata": {},
   "outputs": [
    {
     "data": {
      "text/plain": [
       "array(['Hosur', 'Bangalore', 'Chennai', 'Gurgaon', 'Visakapatinam',\n",
       "       '- Cochin- ', 'Noida', nan], dtype=object)"
      ]
     },
     "execution_count": 34,
     "metadata": {},
     "output_type": "execute_result"
    }
   ],
   "source": [
    "df['Candidate Job Location'].unique()"
   ]
  },
  {
   "cell_type": "code",
   "execution_count": 35,
   "metadata": {},
   "outputs": [],
   "source": [
    "df['Candidate Job Location']=np.where(df['Candidate Job Location'] =='- Cochin- ', 'Cochin', df['Candidate Job Location'])\n"
   ]
  },
  {
   "cell_type": "code",
   "execution_count": 36,
   "metadata": {},
   "outputs": [
    {
     "data": {
      "text/plain": [
       "array(['Hosur', 'Bangalore', 'Chennai', 'Gurgaon', 'Visakapatinam',\n",
       "       'Cochin', 'Noida', nan], dtype=object)"
      ]
     },
     "execution_count": 36,
     "metadata": {},
     "output_type": "execute_result"
    }
   ],
   "source": [
    "df['Candidate Job Location'].unique()"
   ]
  },
  {
   "cell_type": "code",
   "execution_count": 37,
   "metadata": {},
   "outputs": [
    {
     "data": {
      "text/plain": [
       "array(['Hosur', 'Gurgaon', 'Bangalore', 'Chennai', 'Hyderabad',\n",
       "       '- Cochin- ', 'Noida', nan], dtype=object)"
      ]
     },
     "execution_count": 37,
     "metadata": {},
     "output_type": "execute_result"
    }
   ],
   "source": [
    "df['Interview Venue'].unique()"
   ]
  },
  {
   "cell_type": "code",
   "execution_count": 38,
   "metadata": {},
   "outputs": [],
   "source": [
    "df['Interview Venue']=np.where(df['Interview Venue'] =='- Cochin- ', 'Cochin', df['Interview Venue'])\n"
   ]
  },
  {
   "cell_type": "code",
   "execution_count": 39,
   "metadata": {},
   "outputs": [
    {
     "data": {
      "text/plain": [
       "array(['Hosur', 'Gurgaon', 'Bangalore', 'Chennai', 'Hyderabad', 'Cochin',\n",
       "       'Noida', nan], dtype=object)"
      ]
     },
     "execution_count": 39,
     "metadata": {},
     "output_type": "execute_result"
    }
   ],
   "source": [
    "df['Interview Venue'].unique()"
   ]
  },
  {
   "cell_type": "code",
   "execution_count": 40,
   "metadata": {},
   "outputs": [
    {
     "data": {
      "text/plain": [
       "array(['Hosur', 'Trichy', 'Chennai', 'Gurgaon', 'Noida', 'Delhi /NCR',\n",
       "       'Cochin', 'Trivandrum', 'Bangalore', 'Coimbatore', 'Salem',\n",
       "       'Tanjore', 'Hyderabad', 'Mumbai', 'Pune', 'Kolkata', 'Allahabad',\n",
       "       'Panjim', 'Cuttack', 'Visakapatinam', 'Belgaum', 'Patna',\n",
       "       'Chitoor', 'Anantapur', 'Warangal', 'Ahmedabad', 'Kurnool',\n",
       "       'Vijayawada', 'Vellore', 'Pondicherry', 'Nagercoil', 'Agra',\n",
       "       'Bhubaneshwar', 'Ghaziabad', 'Baddi', 'Tuticorin', 'Tirupati',\n",
       "       'Faizabad', 'Ambur', 'Chandigarh', 'Mysore', 'Hissar', 'Delhi',\n",
       "       'Kanpur', 'Lucknow', '- Cochin- ', nan], dtype=object)"
      ]
     },
     "execution_count": 40,
     "metadata": {},
     "output_type": "execute_result"
    }
   ],
   "source": [
    "df['Candidate Native location'].unique()\n"
   ]
  },
  {
   "cell_type": "code",
   "execution_count": 41,
   "metadata": {},
   "outputs": [],
   "source": [
    "df['Candidate Native location']=np.where(df['Candidate Native location'] =='- Cochin- ', 'Cochin', df['Candidate Native location'])\n"
   ]
  },
  {
   "cell_type": "code",
   "execution_count": 42,
   "metadata": {},
   "outputs": [
    {
     "data": {
      "text/plain": [
       "array(['Hosur', 'Trichy', 'Chennai', 'Gurgaon', 'Noida', 'Delhi /NCR',\n",
       "       'Cochin', 'Trivandrum', 'Bangalore', 'Coimbatore', 'Salem',\n",
       "       'Tanjore', 'Hyderabad', 'Mumbai', 'Pune', 'Kolkata', 'Allahabad',\n",
       "       'Panjim', 'Cuttack', 'Visakapatinam', 'Belgaum', 'Patna',\n",
       "       'Chitoor', 'Anantapur', 'Warangal', 'Ahmedabad', 'Kurnool',\n",
       "       'Vijayawada', 'Vellore', 'Pondicherry', 'Nagercoil', 'Agra',\n",
       "       'Bhubaneshwar', 'Ghaziabad', 'Baddi', 'Tuticorin', 'Tirupati',\n",
       "       'Faizabad', 'Ambur', 'Chandigarh', 'Mysore', 'Hissar', 'Delhi',\n",
       "       'Kanpur', 'Lucknow', nan], dtype=object)"
      ]
     },
     "execution_count": 42,
     "metadata": {},
     "output_type": "execute_result"
    }
   ],
   "source": [
    "df['Candidate Native location'].unique()"
   ]
  },
  {
   "cell_type": "code",
   "execution_count": 43,
   "metadata": {},
   "outputs": [
    {
     "data": {
      "text/plain": [
       "Yes     701\n",
       "No      401\n",
       "yes      81\n",
       "NO       35\n",
       "no        7\n",
       "No        6\n",
       "yes       1\n",
       "no        1\n",
       "Name: Observed Attendance, dtype: int64"
      ]
     },
     "execution_count": 43,
     "metadata": {},
     "output_type": "execute_result"
    }
   ],
   "source": [
    "df['Observed Attendance'].value_counts()"
   ]
  },
  {
   "cell_type": "code",
   "execution_count": 44,
   "metadata": {},
   "outputs": [],
   "source": [
    "df['Observed Attendance']=np.where(df['Observed Attendance'] =='yes', 'Yes', df['Observed Attendance'])\n",
    "df['Observed Attendance']=np.where(df['Observed Attendance'] =='NO', 'No', df['Observed Attendance'])\n",
    "df['Observed Attendance']=np.where(df['Observed Attendance'] =='no', 'No', df['Observed Attendance'])\n",
    "df['Observed Attendance']=np.where(df['Observed Attendance'] =='No ', 'No', df['Observed Attendance'])\n",
    "df['Observed Attendance']=np.where(df['Observed Attendance'] =='no ', 'No', df['Observed Attendance'])\n",
    "df['Observed Attendance']=np.where(df['Observed Attendance'] =='yes ', 'Yes', df['Observed Attendance'])\n"
   ]
  },
  {
   "cell_type": "code",
   "execution_count": 45,
   "metadata": {},
   "outputs": [
    {
     "data": {
      "text/plain": [
       "Yes    783\n",
       "No     450\n",
       "Name: Observed Attendance, dtype: int64"
      ]
     },
     "execution_count": 45,
     "metadata": {},
     "output_type": "execute_result"
    }
   ],
   "source": [
    "df['Observed Attendance'].value_counts()"
   ]
  },
  {
   "cell_type": "code",
   "execution_count": 46,
   "metadata": {},
   "outputs": [
    {
     "data": {
      "image/png": "[encoded data removed]",
      "text/plain": [
       "<Figure size 432x288 with 1 Axes>"
      ]
     },
     "metadata": {
      "needs_background": "light"
     },
     "output_type": "display_data"
    },
    {
     "data": {
      "text/plain": [
       "<Figure size 432x288 with 0 Axes>"
      ]
     },
     "metadata": {},
     "output_type": "display_data"
    }
   ],
   "source": [
    "sns.countplot(x=df['Observed Attendance'],palette='hls')\n",
    "plt.show()\n",
    "plt.savefig('count_plot')"
   ]
  },
  {
   "cell_type": "code",
   "execution_count": 47,
   "metadata": {},
   "outputs": [
    {
     "data": {
      "text/plain": [
       "1.0    783\n",
       "0.0    450\n",
       "Name: Observed Attendance, dtype: int64"
      ]
     },
     "execution_count": 47,
     "metadata": {},
     "output_type": "execute_result"
    }
   ],
   "source": [
    "df['Observed Attendance'].replace(('Yes', 'No'), (1, 0), inplace=True)\n",
    "df['Observed Attendance'].value_counts()"
   ]
  },
  {
   "cell_type": "code",
   "execution_count": 48,
   "metadata": {},
   "outputs": [
    {
     "data": {
      "text/plain": [
       "1.0    783\n",
       "0.0    450\n",
       "Name: Observed Attendance, dtype: int64"
      ]
     },
     "execution_count": 48,
     "metadata": {},
     "output_type": "execute_result"
    }
   ],
   "source": [
    "df01 = df[pd.notnull(df['Observed Attendance'])]\n",
    "df['Observed Attendance'].value_counts()"
   ]
  },
  {
   "cell_type": "code",
   "execution_count": 49,
   "metadata": {},
   "outputs": [],
   "source": [
    "df.dropna(inplace=True)"
   ]
  },
  {
   "cell_type": "code",
   "execution_count": 50,
   "metadata": {},
   "outputs": [
    {
     "data": {
      "text/plain": [
       "1    676\n",
       "0    308\n",
       "Name: Observed Attendance, dtype: int64"
      ]
     },
     "execution_count": 50,
     "metadata": {},
     "output_type": "execute_result"
    }
   ],
   "source": [
    "df['Observed Attendance']=df['Observed Attendance'].astype(np.int64)\n",
    "df['Observed Attendance'].value_counts()"
   ]
  },
  {
   "cell_type": "code",
   "execution_count": 51,
   "metadata": {},
   "outputs": [
    {
     "name": "stdout",
     "output_type": "stream",
     "text": [
      "percentage of no attendance of interview is 31.3\n",
      "percentage of interview attended 68.7\n"
     ]
    }
   ],
   "source": [
    "count_no_interview_attended = len(df[df['Observed Attendance']==0])\n",
    "count_interview_attended = len(df[df['Observed Attendance']==1])\n",
    "pct_of_no_interview_attended = count_no_interview_attended/(count_no_interview_attended+count_interview_attended)\n",
    "print(\"percentage of no attendance of interview is\", round(pct_of_no_interview_attended*100,2))\n",
    "pct_of_interview_attended = count_interview_attended/(count_no_interview_attended+count_interview_attended)\n",
    "print(\"percentage of interview attended\", round(pct_of_interview_attended*100,2))"
   ]
  },
  {
   "cell_type": "code",
   "execution_count": 52,
   "metadata": {},
   "outputs": [
    {
     "data": {
      "image/png": "[encoded data removed]",
      "text/plain": [
       "<Figure size 432x288 with 1 Axes>"
      ]
     },
     "metadata": {
      "needs_background": "light"
     },
     "output_type": "display_data"
    }
   ],
   "source": [
    "df.hist()\n",
    "plt.show()"
   ]
  },
  {
   "cell_type": "code",
   "execution_count": 53,
   "metadata": {},
   "outputs": [
    {
     "data": {
      "image/png": "[encoded data removed]",
      "text/plain": [
       "<Figure size 432x288 with 1 Axes>"
      ]
     },
     "metadata": {
      "needs_background": "light"
     },
     "output_type": "display_data"
    }
   ],
   "source": [
    "sns.countplot(y=\"Gender\", data=df)\n",
    "plt.show()"
   ]
  },
  {
   "cell_type": "code",
   "execution_count": 54,
   "metadata": {},
   "outputs": [
    {
     "data": {
      "image/png": "[encoded data removed]",
      "text/plain": [
       "<Figure size 432x288 with 1 Axes>"
      ]
     },
     "metadata": {
      "needs_background": "light"
     },
     "output_type": "display_data"
    }
   ],
   "source": [
    "sns.countplot(y=\"Candidate Current Location\", data=df)\n",
    "plt.show()"
   ]
  },
  {
   "cell_type": "code",
   "execution_count": 55,
   "metadata": {},
   "outputs": [
    {
     "data": {
      "image/png": "[encoded data removed]",
      "text/plain": [
       "<Figure size 432x288 with 1 Axes>"
      ]
     },
     "metadata": {
      "needs_background": "light"
     },
     "output_type": "display_data"
    }
   ],
   "source": [
    "sns.countplot(y=\"Candidate Job Location\", data=df)\n",
    "plt.show()"
   ]
  },
  {
   "cell_type": "code",
   "execution_count": 56,
   "metadata": {},
   "outputs": [
    {
     "data": {
      "image/png": "[encoded data removed]",
      "text/plain": [
       "<Figure size 432x288 with 1 Axes>"
      ]
     },
     "metadata": {
      "needs_background": "light"
     },
     "output_type": "display_data"
    }
   ],
   "source": [
    "sns.countplot(y=\"Interview Venue\", data=df)\n",
    "plt.show()"
   ]
  },
  {
   "cell_type": "code",
   "execution_count": 57,
   "metadata": {},
   "outputs": [
    {
     "data": {
      "image/png": "[encoded data removed]",
      "text/plain": [
       "<Figure size 1440x1440 with 1 Axes>"
      ]
     },
     "metadata": {
      "needs_background": "light"
     },
     "output_type": "display_data"
    }
   ],
   "source": [
    "#adjusting the scale of a plot in seaborn\n",
    "fig = plt.figure(figsize=(20,20))\n",
    "fig.add_subplot(1,1,1)\n",
    "sns.countplot(y=\"Candidate Native location\", data=df)\n",
    "plt.show()"
   ]
  },
  {
   "cell_type": "code",
   "execution_count": 58,
   "metadata": {},
   "outputs": [
    {
     "data": {
      "image/png": "[encoded data removed]",
      "text/plain": [
       "<Figure size 432x288 with 1 Axes>"
      ]
     },
     "metadata": {
      "needs_background": "light"
     },
     "output_type": "display_data"
    }
   ],
   "source": [
    "sns.countplot(x=\"Marital Status\", data=df)\n",
    "plt.show()"
   ]
  },
  {
   "cell_type": "code",
   "execution_count": 59,
   "metadata": {},
   "outputs": [
    {
     "data": {
      "image/png": "[encoded data removed]",
      "text/plain": [
       "<Figure size 1440x1440 with 1 Axes>"
      ]
     },
     "metadata": {
      "needs_background": "light"
     },
     "output_type": "display_data"
    }
   ],
   "source": [
    "fig = plt.figure(figsize=(20,20))\n",
    "fig.add_subplot(1,1,1)\n",
    "sns.countplot(x=\"Client name\", data=df)\n",
    "plt.show()"
   ]
  },
  {
   "cell_type": "code",
   "execution_count": 60,
   "metadata": {},
   "outputs": [
    {
     "data": {
      "text/plain": [
       "array(['Yes', 'No', 'Not yet', 'Yet to confirm', 'yes', 'Na'],\n",
       "      dtype=object)"
      ]
     },
     "execution_count": 60,
     "metadata": {},
     "output_type": "execute_result"
    }
   ],
   "source": [
    "df['Have you obtained the necessary permission to start at the required time'].unique()"
   ]
  },
  {
   "cell_type": "code",
   "execution_count": 61,
   "metadata": {},
   "outputs": [],
   "source": [
    "df['Have you obtained the necessary permission to start at the required time']=np.where(df['Have you obtained the necessary permission to start at the required time'] =='NO', 'No', df['Have you obtained the necessary permission to start at the required time'])\n",
    "df['Have you obtained the necessary permission to start at the required time']=np.where(df['Have you obtained the necessary permission to start at the required time'] =='yes', 'Yes', df['Have you obtained the necessary permission to start at the required time'])\n",
    "df['Have you obtained the necessary permission to start at the required time']=np.where(df['Have you obtained the necessary permission to start at the required time'] =='Not yet', 'No', df['Have you obtained the necessary permission to start at the required time'])\n",
    "df['Have you obtained the necessary permission to start at the required time']=np.where(df['Have you obtained the necessary permission to start at the required time'] =='Yet to confirm', 'No', df['Have you obtained the necessary permission to start at the required time'])\n",
    "df['Have you obtained the necessary permission to start at the required time']=np.where(df['Have you obtained the necessary permission to start at the required time'] =='Na', 'No', df['Have you obtained the necessary permission to start at the required time'])"
   ]
  },
  {
   "cell_type": "code",
   "execution_count": 62,
   "metadata": {},
   "outputs": [
    {
     "data": {
      "image/png": "[encoded data removed]",
      "text/plain": [
       "<Figure size 432x288 with 1 Axes>"
      ]
     },
     "metadata": {
      "needs_background": "light"
     },
     "output_type": "display_data"
    }
   ],
   "source": [
    "sns.countplot(x=\"Have you obtained the necessary permission to start at the required time\", data=df)\n",
    "plt.show()"
   ]
  },
  {
   "cell_type": "code",
   "execution_count": 63,
   "metadata": {},
   "outputs": [
    {
     "data": {
      "text/plain": [
       "Yes    921\n",
       "No      63\n",
       "Name: Have you obtained the necessary permission to start at the required time, dtype: int64"
      ]
     },
     "execution_count": 63,
     "metadata": {},
     "output_type": "execute_result"
    }
   ],
   "source": [
    "df['Have you obtained the necessary permission to start at the required time'].value_counts()"
   ]
  },
  {
   "cell_type": "code",
   "execution_count": 64,
   "metadata": {},
   "outputs": [
    {
     "data": {
      "text/plain": [
       "array(['Yes', 'No', 'yes', 'Not Sure', 'cant Say', 'Na', 'Not sure'],\n",
       "      dtype=object)"
      ]
     },
     "execution_count": 64,
     "metadata": {},
     "output_type": "execute_result"
    }
   ],
   "source": [
    "df['Hope there will be no unscheduled meetings'].unique()"
   ]
  },
  {
   "cell_type": "code",
   "execution_count": 65,
   "metadata": {},
   "outputs": [],
   "source": [
    "df['Hope there will be no unscheduled meetings']=np.where(df['Hope there will be no unscheduled meetings'] =='Na', 'No', df['Hope there will be no unscheduled meetings'])\n",
    "df['Hope there will be no unscheduled meetings']=np.where(df['Hope there will be no unscheduled meetings'] =='nan', 'No', df['Hope there will be no unscheduled meetings'])\n",
    "df['Hope there will be no unscheduled meetings']=np.where(df['Hope there will be no unscheduled meetings'] =='yes', 'Yes', df['Hope there will be no unscheduled meetings'])\n",
    "df['Hope there will be no unscheduled meetings']=np.where(df['Hope there will be no unscheduled meetings'] =='Not sure', 'No', df['Hope there will be no unscheduled meetings'])\n",
    "df['Hope there will be no unscheduled meetings']=np.where(df['Hope there will be no unscheduled meetings'] =='Not Sure', 'No', df['Hope there will be no unscheduled meetings'])\n",
    "df['Hope there will be no unscheduled meetings']=np.where(df['Hope there will be no unscheduled meetings'] =='cant Say', 'No', df['Hope there will be no unscheduled meetings'])\n",
    "df['Hope there will be no unscheduled meetings']=np.where(df['Hope there will be no unscheduled meetings'] =='NaN', 'No', df['Hope there will be no unscheduled meetings'])\n"
   ]
  },
  {
   "cell_type": "code",
   "execution_count": 66,
   "metadata": {},
   "outputs": [
    {
     "data": {
      "image/png": "[encoded data removed]",
      "text/plain": [
       "<Figure size 432x288 with 1 Axes>"
      ]
     },
     "metadata": {
      "needs_background": "light"
     },
     "output_type": "display_data"
    }
   ],
   "source": [
    "sns.countplot(x=\"Hope there will be no unscheduled meetings\", data=df)\n",
    "plt.show()"
   ]
  },
  {
   "cell_type": "code",
   "execution_count": 67,
   "metadata": {},
   "outputs": [
    {
     "data": {
      "text/plain": [
       "Yes    953\n",
       "No      31\n",
       "Name: Hope there will be no unscheduled meetings, dtype: int64"
      ]
     },
     "execution_count": 67,
     "metadata": {},
     "output_type": "execute_result"
    }
   ],
   "source": [
    "df['Hope there will be no unscheduled meetings'].value_counts()"
   ]
  },
  {
   "cell_type": "code",
   "execution_count": 68,
   "metadata": {},
   "outputs": [
    {
     "data": {
      "text/plain": [
       "array(['Yes', 'No', 'No Dont', 'yes', 'Na'], dtype=object)"
      ]
     },
     "execution_count": 68,
     "metadata": {},
     "output_type": "execute_result"
    }
   ],
   "source": [
    "df['Can I Call you three hours before the interview and follow up on your attendance for the interview'].unique()"
   ]
  },
  {
   "cell_type": "code",
   "execution_count": 69,
   "metadata": {},
   "outputs": [],
   "source": [
    "df['Can I Call you three hours before the interview and follow up on your attendance for the interview']=np.where(df['Can I Call you three hours before the interview and follow up on your attendance for the interview'] =='Na', 'No', df['Can I Call you three hours before the interview and follow up on your attendance for the interview'])\n",
    "df['Can I Call you three hours before the interview and follow up on your attendance for the interview']=np.where(df['Can I Call you three hours before the interview and follow up on your attendance for the interview'] =='No Dont', 'No', df['Can I Call you three hours before the interview and follow up on your attendance for the interview'])\n",
    "df['Can I Call you three hours before the interview and follow up on your attendance for the interview']=np.where(df['Can I Call you three hours before the interview and follow up on your attendance for the interview'] =='yes', 'Yes', df['Can I Call you three hours before the interview and follow up on your attendance for the interview'])\n"
   ]
  },
  {
   "cell_type": "code",
   "execution_count": 70,
   "metadata": {},
   "outputs": [
    {
     "data": {
      "image/png": "[encoded data removed]",
      "text/plain": [
       "<Figure size 432x288 with 1 Axes>"
      ]
     },
     "metadata": {
      "needs_background": "light"
     },
     "output_type": "display_data"
    }
   ],
   "source": [
    "sns.countplot(x=\"Can I Call you three hours before the interview and follow up on your attendance for the interview\", data=df)\n",
    "plt.show()"
   ]
  },
  {
   "cell_type": "code",
   "execution_count": 71,
   "metadata": {},
   "outputs": [
    {
     "data": {
      "text/plain": [
       "Yes    955\n",
       "No      29\n",
       "Name: Can I Call you three hours before the interview and follow up on your attendance for the interview, dtype: int64"
      ]
     },
     "execution_count": 71,
     "metadata": {},
     "output_type": "execute_result"
    }
   ],
   "source": [
    "df['Can I Call you three hours before the interview and follow up on your attendance for the interview'].value_counts()"
   ]
  },
  {
   "cell_type": "code",
   "execution_count": 72,
   "metadata": {},
   "outputs": [
    {
     "data": {
      "text/plain": [
       "array(['Yes', 'No', 'No I have only thi number', 'yes', 'Na'],\n",
       "      dtype=object)"
      ]
     },
     "execution_count": 72,
     "metadata": {},
     "output_type": "execute_result"
    }
   ],
   "source": [
    "df['Can I have an alternative number/ desk number. I assure you that I will not trouble you too much'].unique()"
   ]
  },
  {
   "cell_type": "code",
   "execution_count": 73,
   "metadata": {},
   "outputs": [],
   "source": [
    "df['Can I have an alternative number/ desk number. I assure you that I will not trouble you too much']=np.where(df['Can I have an alternative number/ desk number. I assure you that I will not trouble you too much'] =='yes', 'Yes', df['Can I have an alternative number/ desk number. I assure you that I will not trouble you too much'])\n",
    "df['Can I have an alternative number/ desk number. I assure you that I will not trouble you too much']=np.where(df['Can I have an alternative number/ desk number. I assure you that I will not trouble you too much'] =='No I have only thi number', 'No', df['Can I have an alternative number/ desk number. I assure you that I will not trouble you too much'])\n",
    "df['Can I have an alternative number/ desk number. I assure you that I will not trouble you too much']=np.where(df['Can I have an alternative number/ desk number. I assure you that I will not trouble you too much'] =='na', 'No', df['Can I have an alternative number/ desk number. I assure you that I will not trouble you too much'])\n",
    "df['Can I have an alternative number/ desk number. I assure you that I will not trouble you too much']=np.where(df['Can I have an alternative number/ desk number. I assure you that I will not trouble you too much'] =='Na', 'No', df['Can I have an alternative number/ desk number. I assure you that I will not trouble you too much'])\n"
   ]
  },
  {
   "cell_type": "code",
   "execution_count": 74,
   "metadata": {},
   "outputs": [
    {
     "data": {
      "image/png": "[encoded data removed]",
      "text/plain": [
       "<Figure size 432x288 with 1 Axes>"
      ]
     },
     "metadata": {
      "needs_background": "light"
     },
     "output_type": "display_data"
    }
   ],
   "source": [
    "sns.countplot(x=\"Can I have an alternative number/ desk number. I assure you that I will not trouble you too much\", data=df)\n",
    "plt.show()"
   ]
  },
  {
   "cell_type": "code",
   "execution_count": 75,
   "metadata": {},
   "outputs": [
    {
     "data": {
      "text/plain": [
       "Yes    937\n",
       "No      47\n",
       "Name: Can I have an alternative number/ desk number. I assure you that I will not trouble you too much, dtype: int64"
      ]
     },
     "execution_count": 75,
     "metadata": {},
     "output_type": "execute_result"
    }
   ],
   "source": [
    "df['Can I have an alternative number/ desk number. I assure you that I will not trouble you too much'].value_counts()"
   ]
  },
  {
   "cell_type": "code",
   "execution_count": 76,
   "metadata": {},
   "outputs": [
    {
     "data": {
      "text/plain": [
       "array(['Yes', 'No', 'No- will take it soon', 'Not yet', 'yes', 'Na',\n",
       "       'Not Yet'], dtype=object)"
      ]
     },
     "execution_count": 76,
     "metadata": {},
     "output_type": "execute_result"
    }
   ],
   "source": [
    "df['Have you taken a printout of your updated resume. Have you read the JD and understood the same'].unique()"
   ]
  },
  {
   "cell_type": "code",
   "execution_count": 77,
   "metadata": {},
   "outputs": [],
   "source": [
    "df['Have you taken a printout of your updated resume. Have you read the JD and understood the same']=np.where(df['Have you taken a printout of your updated resume. Have you read the JD and understood the same']=='yes','Yes',df['Have you taken a printout of your updated resume. Have you read the JD and understood the same'])\n",
    "df['Have you taken a printout of your updated resume. Have you read the JD and understood the same']=np.where(df['Have you taken a printout of your updated resume. Have you read the JD and understood the same']=='No- will take it soon','No',df['Have you taken a printout of your updated resume. Have you read the JD and understood the same'])\n",
    "df['Have you taken a printout of your updated resume. Have you read the JD and understood the same']=np.where(df['Have you taken a printout of your updated resume. Have you read the JD and understood the same']=='na','No',df['Have you taken a printout of your updated resume. Have you read the JD and understood the same'])\n",
    "df['Have you taken a printout of your updated resume. Have you read the JD and understood the same']=np.where(df['Have you taken a printout of your updated resume. Have you read the JD and understood the same']=='Na','No',df['Have you taken a printout of your updated resume. Have you read the JD and understood the same'])\n",
    "df['Have you taken a printout of your updated resume. Have you read the JD and understood the same']=np.where(df['Have you taken a printout of your updated resume. Have you read the JD and understood the same']=='Not yet','No',df['Have you taken a printout of your updated resume. Have you read the JD and understood the same'])\n",
    "df['Have you taken a printout of your updated resume. Have you read the JD and understood the same']=np.where(df['Have you taken a printout of your updated resume. Have you read the JD and understood the same']=='Not Yet','No',df['Have you taken a printout of your updated resume. Have you read the JD and understood the same'])\n"
   ]
  },
  {
   "cell_type": "code",
   "execution_count": 78,
   "metadata": {},
   "outputs": [
    {
     "data": {
      "image/png": "[encoded data removed]",
      "text/plain": [
       "<Figure size 432x288 with 1 Axes>"
      ]
     },
     "metadata": {
      "needs_background": "light"
     },
     "output_type": "display_data"
    }
   ],
   "source": [
    "sns.countplot(x=\"Have you taken a printout of your updated resume. Have you read the JD and understood the same\", data=df)\n",
    "plt.show()"
   ]
  },
  {
   "cell_type": "code",
   "execution_count": 79,
   "metadata": {},
   "outputs": [
    {
     "data": {
      "text/plain": [
       "Yes    942\n",
       "No      42\n",
       "Name: Have you taken a printout of your updated resume. Have you read the JD and understood the same, dtype: int64"
      ]
     },
     "execution_count": 79,
     "metadata": {},
     "output_type": "execute_result"
    }
   ],
   "source": [
    "df['Have you taken a printout of your updated resume. Have you read the JD and understood the same'].value_counts()"
   ]
  },
  {
   "cell_type": "code",
   "execution_count": 80,
   "metadata": {},
   "outputs": [
    {
     "data": {
      "text/plain": [
       "array(['Yes', 'No', 'No- I need to check', 'yes', 'Na', 'no'],\n",
       "      dtype=object)"
      ]
     },
     "execution_count": 80,
     "metadata": {},
     "output_type": "execute_result"
    }
   ],
   "source": [
    "df['Are you clear with the venue details and the landmark.'].unique()"
   ]
  },
  {
   "cell_type": "code",
   "execution_count": 81,
   "metadata": {},
   "outputs": [],
   "source": [
    "df['Are you clear with the venue details and the landmark.']=np.where(df['Are you clear with the venue details and the landmark.']=='No- I need to check','No',df['Are you clear with the venue details and the landmark.'])\n",
    "df['Are you clear with the venue details and the landmark.']=np.where(df['Are you clear with the venue details and the landmark.']=='na','No',df['Are you clear with the venue details and the landmark.'])\n",
    "df['Are you clear with the venue details and the landmark.']=np.where(df['Are you clear with the venue details and the landmark.']=='no','No',df['Are you clear with the venue details and the landmark.'])\n",
    "df['Are you clear with the venue details and the landmark.']=np.where(df['Are you clear with the venue details and the landmark.']=='yes','Yes',df['Are you clear with the venue details and the landmark.'])\n",
    "df['Are you clear with the venue details and the landmark.']=np.where(df['Are you clear with the venue details and the landmark.']=='Na','No',df['Are you clear with the venue details and the landmark.'])"
   ]
  },
  {
   "cell_type": "code",
   "execution_count": 82,
   "metadata": {},
   "outputs": [
    {
     "data": {
      "image/png": "[encoded data removed]",
      "text/plain": [
       "<Figure size 432x288 with 1 Axes>"
      ]
     },
     "metadata": {
      "needs_background": "light"
     },
     "output_type": "display_data"
    }
   ],
   "source": [
    "sns.countplot(x=\"Are you clear with the venue details and the landmark.\", data=df)\n",
    "plt.show()"
   ]
  },
  {
   "cell_type": "code",
   "execution_count": 83,
   "metadata": {},
   "outputs": [
    {
     "data": {
      "text/plain": [
       "Yes    948\n",
       "No      36\n",
       "Name: Are you clear with the venue details and the landmark., dtype: int64"
      ]
     },
     "execution_count": 83,
     "metadata": {},
     "output_type": "execute_result"
    }
   ],
   "source": [
    "df['Are you clear with the venue details and the landmark.'].value_counts()"
   ]
  },
  {
   "cell_type": "code",
   "execution_count": 84,
   "metadata": {},
   "outputs": [
    {
     "data": {
      "text/plain": [
       "array(['Yes', 'Havent Checked', 'No', 'Need To Check', 'Not sure',\n",
       "       'Not Sure', 'Not yet', 'no', 'yes', 'Na'], dtype=object)"
      ]
     },
     "execution_count": 84,
     "metadata": {},
     "output_type": "execute_result"
    }
   ],
   "source": [
    "df['Has the call letter been shared'].unique()"
   ]
  },
  {
   "cell_type": "code",
   "execution_count": 85,
   "metadata": {},
   "outputs": [],
   "source": [
    "df['Has the call letter been shared']=np.where(df['Has the call letter been shared']=='Havent Checked','No',df['Has the call letter been shared'])\n",
    "df['Has the call letter been shared']=np.where(df['Has the call letter been shared']=='Need To Check','No',df['Has the call letter been shared'])\n",
    "df['Has the call letter been shared']=np.where(df['Has the call letter been shared']=='Not sure','No',df['Has the call letter been shared'])\n",
    "df['Has the call letter been shared']=np.where(df['Has the call letter been shared']=='Yet to Check','No',df['Has the call letter been shared'])\n",
    "df['Has the call letter been shared']=np.where(df['Has the call letter been shared']=='Not Sure','No',df['Has the call letter been shared'])\n",
    "df['Has the call letter been shared']=np.where(df['Has the call letter been shared']=='Not yet','No',df['Has the call letter been shared'])\n",
    "df['Has the call letter been shared']=np.where(df['Has the call letter been shared']=='no','No',df['Has the call letter been shared'])\n",
    "df['Has the call letter been shared']=np.where(df['Has the call letter been shared']=='na','No',df['Has the call letter been shared'])\n",
    "df['Has the call letter been shared']=np.where(df['Has the call letter been shared']=='yes','Yes',df['Has the call letter been shared'])\n",
    "df['Has the call letter been shared']=np.where(df['Has the call letter been shared']=='Na','No',df['Has the call letter been shared'])\n",
    "df['Has the call letter been shared']=np.where(df['Has the call letter been shared']=='nan','No',df['Has the call letter been shared'])\n",
    "\n",
    "\n"
   ]
  },
  {
   "cell_type": "code",
   "execution_count": 86,
   "metadata": {},
   "outputs": [
    {
     "data": {
      "image/png": "[encoded data removed]",
      "text/plain": [
       "<Figure size 432x288 with 1 Axes>"
      ]
     },
     "metadata": {
      "needs_background": "light"
     },
     "output_type": "display_data"
    }
   ],
   "source": [
    "sns.countplot(df['Has the call letter been shared'], data=df)\n",
    "plt.show()"
   ]
  },
  {
   "cell_type": "code",
   "execution_count": 87,
   "metadata": {},
   "outputs": [
    {
     "data": {
      "text/plain": [
       "Yes    934\n",
       "No      50\n",
       "Name: Has the call letter been shared, dtype: int64"
      ]
     },
     "execution_count": 87,
     "metadata": {},
     "output_type": "execute_result"
    }
   ],
   "source": [
    "df['Has the call letter been shared'].value_counts()"
   ]
  },
  {
   "cell_type": "code",
   "execution_count": 88,
   "metadata": {},
   "outputs": [
    {
     "data": {
      "text/plain": [
       "array(['Yes', 'Uncertain', 'No', 'yes', '10.30 Am'], dtype=object)"
      ]
     },
     "execution_count": 88,
     "metadata": {},
     "output_type": "execute_result"
    }
   ],
   "source": [
    "df['Expected Attendance'].unique()"
   ]
  },
  {
   "cell_type": "code",
   "execution_count": 89,
   "metadata": {},
   "outputs": [],
   "source": [
    "df['Expected Attendance']=np.where(df['Expected Attendance']=='Uncertain','No',df['Expected Attendance'])\n",
    "df['Expected Attendance']=np.where(df['Expected Attendance']=='NO','No',df['Expected Attendance'])\n",
    "df['Expected Attendance']=np.where(df['Expected Attendance']=='yes','Yes',df['Expected Attendance'])\n",
    "df['Expected Attendance']=np.where(df['Expected Attendance']=='10.30 Am','Yes',df['Expected Attendance'])\n",
    "df['Expected Attendance']=np.where(df['Expected Attendance']== 'nan','No',df['Expected Attendance'])\n",
    "\n",
    "\n"
   ]
  },
  {
   "cell_type": "code",
   "execution_count": 90,
   "metadata": {},
   "outputs": [
    {
     "data": {
      "image/png": "[encoded data removed]",
      "text/plain": [
       "<Figure size 432x288 with 1 Axes>"
      ]
     },
     "metadata": {
      "needs_background": "light"
     },
     "output_type": "display_data"
    }
   ],
   "source": [
    "sns.countplot(df['Expected Attendance'], data=df)\n",
    "plt.show()"
   ]
  },
  {
   "cell_type": "code",
   "execution_count": 91,
   "metadata": {},
   "outputs": [
    {
     "data": {
      "text/plain": [
       "Yes    885\n",
       "No      99\n",
       "Name: Expected Attendance, dtype: int64"
      ]
     },
     "execution_count": 91,
     "metadata": {},
     "output_type": "execute_result"
    }
   ],
   "source": [
    "df['Expected Attendance'].value_counts()"
   ]
  },
  {
   "cell_type": "code",
   "execution_count": 92,
   "metadata": {},
   "outputs": [
    {
     "data": {
      "text/plain": [
       "pandas.core.frame.DataFrame"
      ]
     },
     "execution_count": 92,
     "metadata": {},
     "output_type": "execute_result"
    }
   ],
   "source": [
    "type(df)"
   ]
  },
  {
   "cell_type": "code",
   "execution_count": 93,
   "metadata": {},
   "outputs": [],
   "source": [
    "#df.to_csv('D:/CleanedInterviews_final.csv', encoding='utf-8', index=False)"
   ]
  },
  {
   "cell_type": "code",
   "execution_count": 94,
   "metadata": {},
   "outputs": [
    {
     "data": {
      "text/plain": [
       "Standard Chartered Bank    725\n",
       "Hospira                     61\n",
       "Pfizer                      57\n",
       "Hewitt                      48\n",
       "ANZ                         22\n",
       "UST                         18\n",
       "Prodapt                     17\n",
       "Flextronics                 13\n",
       "Williams Lea                11\n",
       "Astrazeneca                  6\n",
       "Barclays                     5\n",
       "Woori Bank                   1\n",
       "Name: Client name, dtype: int64"
      ]
     },
     "execution_count": 94,
     "metadata": {},
     "output_type": "execute_result"
    }
   ],
   "source": [
    "df['Client name'].value_counts()"
   ]
  },
  {
   "cell_type": "code",
   "execution_count": 95,
   "metadata": {},
   "outputs": [
    {
     "data": {
      "text/plain": [
       "Single     620\n",
       "Married    364\n",
       "Name: Marital Status, dtype: int64"
      ]
     },
     "execution_count": 95,
     "metadata": {},
     "output_type": "execute_result"
    }
   ],
   "source": [
    "df['Marital Status'].value_counts()"
   ]
  },
  {
   "cell_type": "code",
   "execution_count": 96,
   "metadata": {},
   "outputs": [
    {
     "data": {
      "text/plain": [
       "Scheduled Walk In    516\n",
       "Scheduled            297\n",
       "Walkin               171\n",
       "Name: Interview Type, dtype: int64"
      ]
     },
     "execution_count": 96,
     "metadata": {},
     "output_type": "execute_result"
    }
   ],
   "source": [
    "df['Interview Type'].value_counts()"
   ]
  },
  {
   "cell_type": "code",
   "execution_count": 97,
   "metadata": {},
   "outputs": [],
   "source": [
    "df['Interview Type']=np.where(df['Interview Type']=='Scheduled Walk In','Scheduled',df['Interview Type'])\n",
    "df['Interview Type']=np.where(df['Interview Type']=='Scheduled Walkin','Scheduled',df['Interview Type'])\n",
    "df['Interview Type']=np.where(df['Interview Type']=='Sceduled walkin','Scheduled',df['Interview Type'])\n",
    "df['Interview Type']=np.where(df['Interview Type']=='Scheduled','Scheduled',df['Interview Type'])\n",
    "df['Interview Type']=np.where(df['Interview Type']=='Scheduled ','Scheduled',df['Interview Type'])\n",
    "df['Interview Type']=np.where(df['Interview Type']=='Walkin ','Non-Scheduled',df['Interview Type'])\n",
    "df['Interview Type']=np.where(df['Interview Type']=='Walkin','Non-Scheduled',df['Interview Type'])"
   ]
  },
  {
   "cell_type": "code",
   "execution_count": 98,
   "metadata": {},
   "outputs": [
    {
     "data": {
      "image/png": "[encoded data removed]",
      "text/plain": [
       "<Figure size 432x288 with 1 Axes>"
      ]
     },
     "metadata": {
      "needs_background": "light"
     },
     "output_type": "display_data"
    }
   ],
   "source": [
    "sns.countplot(df['Interview Type'], data=df)\n",
    "plt.show()"
   ]
  },
  {
   "cell_type": "code",
   "execution_count": 99,
   "metadata": {},
   "outputs": [
    {
     "data": {
      "text/plain": [
       "Routine                807\n",
       "Niche                  131\n",
       "Dot Net                 18\n",
       "Trade Finance           11\n",
       "AML                      8\n",
       "Selenium testing         5\n",
       "Production- Sterile      4\n",
       "Name: Position to be closed, dtype: int64"
      ]
     },
     "execution_count": 99,
     "metadata": {},
     "output_type": "execute_result"
    }
   ],
   "source": [
    "df['Position to be closed'].value_counts()"
   ]
  },
  {
   "cell_type": "code",
   "execution_count": 100,
   "metadata": {},
   "outputs": [],
   "source": [
    "df['Position to be closed']=np.where(df['Position to be closed']=='Trade Finance','Routine',df['Position to be closed'])\n",
    "df['Position to be closed']=np.where(df['Position to be closed']=='Dot Net','Niche',df['Position to be closed'])\n",
    "df['Position to be closed']=np.where(df['Position to be closed']=='Production- Sterile','Routine',df['Position to be closed'])\n",
    "df['Position to be closed']=np.where(df['Position to be closed']=='AML','Niche',df['Position to be closed'])\n",
    "df['Position to be closed']=np.where(df['Position to be closed']=='Selenium testing','Niche',df['Position to be closed'])"
   ]
  },
  {
   "cell_type": "code",
   "execution_count": 101,
   "metadata": {},
   "outputs": [
    {
     "data": {
      "image/png": "[encoded data removed]",
      "text/plain": [
       "<Figure size 432x288 with 1 Axes>"
      ]
     },
     "metadata": {
      "needs_background": "light"
     },
     "output_type": "display_data"
    }
   ],
   "source": [
    "sns.countplot(df['Position to be closed'])\n",
    "plt.show()"
   ]
  },
  {
   "cell_type": "code",
   "execution_count": 102,
   "metadata": {},
   "outputs": [
    {
     "data": {
      "text/plain": [
       "BFSI                        753\n",
       "Pharmaceuticals             124\n",
       "IT Products and Services     43\n",
       "IT Services                  23\n",
       "Telecom                      17\n",
       "Electronics                  13\n",
       "IT                           11\n",
       "Name: Industry, dtype: int64"
      ]
     },
     "execution_count": 102,
     "metadata": {},
     "output_type": "execute_result"
    }
   ],
   "source": [
    "df['Industry'].value_counts()"
   ]
  },
  {
   "cell_type": "code",
   "execution_count": 103,
   "metadata": {},
   "outputs": [],
   "source": [
    "df['Industry']=np.where(df['Industry']=='IT Products and Services','IT',df['Industry'])\n",
    "df['Industry']=np.where(df['Industry']=='IT Services','IT',df['Industry'])"
   ]
  },
  {
   "cell_type": "code",
   "execution_count": 104,
   "metadata": {},
   "outputs": [
    {
     "data": {
      "image/png": "[encoded data removed]",
      "text/plain": [
       "<Figure size 432x288 with 1 Axes>"
      ]
     },
     "metadata": {
      "needs_background": "light"
     },
     "output_type": "display_data"
    }
   ],
   "source": [
    "sns.countplot(df['Industry'])\n",
    "plt.show()"
   ]
  },
  {
   "cell_type": "code",
   "execution_count": 105,
   "metadata": {},
   "outputs": [],
   "source": [
    "df.to_csv('D:/CleanedInterviews_final.csv', encoding='utf-8', index=False)"
   ]
  },
  {
   "cell_type": "code",
   "execution_count": 106,
   "metadata": {},
   "outputs": [],
   "source": [
    "df01_data = pd.read_csv('D:/CleanedInterviews_final.csv', header=0)"
   ]
  },
  {
   "cell_type": "code",
   "execution_count": 107,
   "metadata": {},
   "outputs": [],
   "source": [
    "from sklearn import datasets, linear_model\n",
    "from sklearn.metrics import accuracy_score\n",
    "from sklearn.metrics import r2_score\n",
    "from sklearn.preprocessing import LabelEncoder\n",
    "import statsmodels.api as sm"
   ]
  },
  {
   "cell_type": "code",
   "execution_count": 108,
   "metadata": {},
   "outputs": [],
   "source": [
    "df_data = df01_data.dropna()"
   ]
  },
  {
   "cell_type": "code",
   "execution_count": 109,
   "metadata": {},
   "outputs": [
    {
     "name": "stdout",
     "output_type": "stream",
     "text": [
      "(980, 23)\n"
     ]
    }
   ],
   "source": [
    "print(df_data.shape)"
   ]
  },
  {
   "cell_type": "code",
   "execution_count": 110,
   "metadata": {},
   "outputs": [
    {
     "name": "stderr",
     "output_type": "stream",
     "text": [
      "D:\\Users\\aamathew\\AppData\\Local\\Continuum\\anaconda3\\lib\\site-packages\\pandas\\core\\frame.py:3697: SettingWithCopyWarning: \n",
      "A value is trying to be set on a copy of a slice from a DataFrame\n",
      "\n",
      "See the caveats in the documentation: http://pandas.pydata.org/pandas-docs/stable/indexing.html#indexing-view-versus-copy\n",
      "  errors=errors)\n"
     ]
    }
   ],
   "source": [
    "df_data.drop(df_data.columns[0], axis=1, inplace=True)"
   ]
  },
  {
   "cell_type": "code",
   "execution_count": 111,
   "metadata": {},
   "outputs": [
    {
     "name": "stdout",
     "output_type": "stream",
     "text": [
      "(980, 22)\n"
     ]
    }
   ],
   "source": [
    "print(df_data.shape)"
   ]
  },
  {
   "cell_type": "code",
   "execution_count": 112,
   "metadata": {},
   "outputs": [
    {
     "name": "stdout",
     "output_type": "stream",
     "text": [
      "                 Client name         Industry   Location  \\\n",
      "0                    Hospira  Pharmaceuticals    Chennai   \n",
      "1                    Hospira  Pharmaceuticals    Chennai   \n",
      "2                    Hospira  Pharmaceuticals    Chennai   \n",
      "3                    Hospira  Pharmaceuticals    Chennai   \n",
      "4                     Hewitt               IT    Gurgaon   \n",
      "5                     Hewitt               IT    Gurgaon   \n",
      "6                     Hewitt               IT    Gurgaon   \n",
      "7                     Hewitt               IT    Gurgaon   \n",
      "8                     Hewitt               IT    Gurgaon   \n",
      "9                        UST               IT  Bangalore   \n",
      "10                       UST               IT  Bangalore   \n",
      "11                       UST               IT  Bangalore   \n",
      "12                       UST               IT  Bangalore   \n",
      "13                       UST               IT  Bangalore   \n",
      "14                       UST               IT  Bangalore   \n",
      "15                       UST               IT  Bangalore   \n",
      "16                       UST               IT  Bangalore   \n",
      "17                       UST               IT  Bangalore   \n",
      "18                       UST               IT  Bangalore   \n",
      "19                       UST               IT  Bangalore   \n",
      "20                       UST               IT  Bangalore   \n",
      "21                       UST               IT  Bangalore   \n",
      "22                       UST               IT  Bangalore   \n",
      "23                       UST               IT  Bangalore   \n",
      "24                       UST               IT  Bangalore   \n",
      "25                       UST               IT  Bangalore   \n",
      "26                       UST               IT  Bangalore   \n",
      "27   Standard Chartered Bank             BFSI    Chennai   \n",
      "28   Standard Chartered Bank             BFSI    Chennai   \n",
      "29   Standard Chartered Bank             BFSI    Chennai   \n",
      "..                       ...              ...        ...   \n",
      "954  Standard Chartered Bank             BFSI    Chennai   \n",
      "955  Standard Chartered Bank             BFSI    Chennai   \n",
      "956  Standard Chartered Bank             BFSI    Chennai   \n",
      "957  Standard Chartered Bank             BFSI    Chennai   \n",
      "958  Standard Chartered Bank             BFSI    Chennai   \n",
      "959  Standard Chartered Bank             BFSI    Chennai   \n",
      "960  Standard Chartered Bank             BFSI    Chennai   \n",
      "961  Standard Chartered Bank             BFSI    Chennai   \n",
      "962  Standard Chartered Bank             BFSI    Chennai   \n",
      "963  Standard Chartered Bank             BFSI    Chennai   \n",
      "964  Standard Chartered Bank             BFSI    Chennai   \n",
      "965  Standard Chartered Bank             BFSI    Chennai   \n",
      "966  Standard Chartered Bank             BFSI    Chennai   \n",
      "967  Standard Chartered Bank             BFSI    Chennai   \n",
      "968  Standard Chartered Bank             BFSI    Chennai   \n",
      "969                   Pfizer  Pharmaceuticals    Chennai   \n",
      "970                   Pfizer  Pharmaceuticals    Chennai   \n",
      "971                   Pfizer  Pharmaceuticals    Chennai   \n",
      "972                   Pfizer  Pharmaceuticals    Chennai   \n",
      "973                   Pfizer  Pharmaceuticals    Chennai   \n",
      "974                   Pfizer  Pharmaceuticals    Chennai   \n",
      "975                   Pfizer  Pharmaceuticals    Chennai   \n",
      "976                   Pfizer  Pharmaceuticals    Chennai   \n",
      "977                   Pfizer  Pharmaceuticals    Chennai   \n",
      "978                   Pfizer  Pharmaceuticals    Chennai   \n",
      "979                   Pfizer  Pharmaceuticals    Chennai   \n",
      "980                   Pfizer  Pharmaceuticals    Chennai   \n",
      "981                   Pfizer  Pharmaceuticals    Chennai   \n",
      "982                   Pfizer  Pharmaceuticals    Chennai   \n",
      "983                   Pfizer  Pharmaceuticals    Chennai   \n",
      "\n",
      "    Position to be closed  Nature of Skillset Interview Type   Name(Cand ID)  \\\n",
      "0                 Routine             Routine      Scheduled     Candidate 1   \n",
      "1                 Routine             Routine      Scheduled     Candidate 2   \n",
      "2                 Routine             Routine      Scheduled     Candidate 4   \n",
      "3                 Routine             Routine      Scheduled     Candidate 5   \n",
      "4                   Niche             Routine      Scheduled     Candidate 6   \n",
      "5                   Niche             Routine      Scheduled     Candidate 7   \n",
      "6                   Niche             Routine      Scheduled     Candidate 8   \n",
      "7                   Niche             Routine      Scheduled     Candidate 9   \n",
      "8                   Niche             Routine      Scheduled    Candidate 10   \n",
      "9                   Niche             Routine      Scheduled    Candidate 11   \n",
      "10                  Niche             Routine      Scheduled    Candidate 12   \n",
      "11                  Niche             Routine      Scheduled    Candidate 13   \n",
      "12                  Niche             Routine      Scheduled    Candidate 14   \n",
      "13                  Niche             Routine      Scheduled    Candidate 15   \n",
      "14                  Niche             Routine      Scheduled    Candidate 16   \n",
      "15                  Niche             Routine      Scheduled    Candidate 17   \n",
      "16                  Niche             Routine      Scheduled    Candidate 18   \n",
      "17                  Niche             Routine      Scheduled    Candidate 19   \n",
      "18                  Niche             Routine      Scheduled    Candidate 20   \n",
      "19                  Niche             Routine      Scheduled    Candidate 21   \n",
      "20                  Niche             Routine      Scheduled    Candidate 22   \n",
      "21                  Niche             Routine      Scheduled    Candidate 23   \n",
      "22                  Niche             Routine      Scheduled    Candidate 24   \n",
      "23                  Niche             Routine      Scheduled    Candidate 25   \n",
      "24                  Niche             Routine      Scheduled    Candidate 26   \n",
      "25                  Niche             Routine      Scheduled    Candidate 27   \n",
      "26                  Niche             Routine      Scheduled    Candidate 28   \n",
      "27                  Niche             Routine      Scheduled    Candidate 29   \n",
      "28                  Niche             Routine      Scheduled    Candidate 30   \n",
      "29                  Niche             Routine      Scheduled    Candidate 31   \n",
      "..                    ...                 ...            ...             ...   \n",
      "954               Routine                Java      Scheduled  Candidate 1203   \n",
      "955               Routine                Java      Scheduled  Candidate 1204   \n",
      "956               Routine                Java      Scheduled  Candidate 1205   \n",
      "957               Routine                Java      Scheduled  Candidate 1206   \n",
      "958               Routine                Java      Scheduled  Candidate 1207   \n",
      "959               Routine                Java      Scheduled  Candidate 1208   \n",
      "960               Routine                Java      Scheduled  Candidate 1209   \n",
      "961               Routine                Java      Scheduled  Candidate 1210   \n",
      "962               Routine                Java      Scheduled  Candidate 1211   \n",
      "963               Routine                Java      Scheduled  Candidate 1212   \n",
      "964               Routine                Java      Scheduled  Candidate 1213   \n",
      "965               Routine                Java      Scheduled  Candidate 1214   \n",
      "966               Routine                Java      Scheduled  Candidate 1215   \n",
      "967               Routine                Java      Scheduled  Candidate 1216   \n",
      "968               Routine                Java      Scheduled  Candidate 1217   \n",
      "969                 Niche         Biosimilars      Scheduled  Candidate 1218   \n",
      "970                 Niche       RA Publishing      Scheduled  Candidate 1219   \n",
      "971                 Niche       RA Publishing      Scheduled  Candidate 1220   \n",
      "972                 Niche       RA Publishing      Scheduled  Candidate 1221   \n",
      "973                 Niche                EMEA      Scheduled  Candidate 1222   \n",
      "974                 Niche                EMEA      Scheduled  Candidate 1223   \n",
      "975                 Niche                EMEA      Scheduled  Candidate 1224   \n",
      "976                 Niche         Biosimilars      Scheduled  Candidate 1225   \n",
      "977                 Niche        LCM -Manager      Scheduled  Candidate 1226   \n",
      "978                 Niche      Licensing – RA      Scheduled  Candidate 1227   \n",
      "979                 Niche      Licensing – RA      Scheduled  Candidate 1228   \n",
      "980                 Niche  generic drugs – RA      Scheduled  Candidate 1229   \n",
      "981                 Niche         Biosimilars      Scheduled  Candidate 1230   \n",
      "982                 Niche         Biosimilars      Scheduled  Candidate 1231   \n",
      "983                 Niche  generic drugs – RA      Scheduled  Candidate 1232   \n",
      "\n",
      "     Gender Candidate Current Location Candidate Job Location      ...        \\\n",
      "0      Male                    Chennai                  Hosur      ...         \n",
      "1      Male                    Chennai              Bangalore      ...         \n",
      "2      Male                    Chennai                Chennai      ...         \n",
      "3      Male                    Chennai              Bangalore      ...         \n",
      "4      Male                    Gurgaon                Gurgaon      ...         \n",
      "5      Male                    Gurgaon                Gurgaon      ...         \n",
      "6    Female                    Gurgaon                Gurgaon      ...         \n",
      "7      Male                    Gurgaon                Gurgaon      ...         \n",
      "8    Female                    Gurgaon                Gurgaon      ...         \n",
      "9      Male                  Bangalore              Bangalore      ...         \n",
      "10   Female                  Bangalore              Bangalore      ...         \n",
      "11     Male                  Bangalore              Bangalore      ...         \n",
      "12     Male                  Bangalore              Bangalore      ...         \n",
      "13     Male                  Bangalore              Bangalore      ...         \n",
      "14   Female                  Bangalore              Bangalore      ...         \n",
      "15   Female                  Bangalore              Bangalore      ...         \n",
      "16   Female                  Bangalore              Bangalore      ...         \n",
      "17     Male                  Bangalore              Bangalore      ...         \n",
      "18     Male                  Bangalore              Bangalore      ...         \n",
      "19     Male                  Bangalore              Bangalore      ...         \n",
      "20     Male                  Bangalore              Bangalore      ...         \n",
      "21     Male                  Bangalore              Bangalore      ...         \n",
      "22     Male                  Bangalore              Bangalore      ...         \n",
      "23     Male                  Bangalore              Bangalore      ...         \n",
      "24     Male                  Bangalore              Bangalore      ...         \n",
      "25     Male                  Bangalore              Bangalore      ...         \n",
      "26     Male                  Bangalore              Bangalore      ...         \n",
      "27   Female                    Chennai                Chennai      ...         \n",
      "28   Female                    Chennai                Chennai      ...         \n",
      "29   Female                    Chennai                Chennai      ...         \n",
      "..      ...                        ...                    ...      ...         \n",
      "954    Male                    Chennai                Chennai      ...         \n",
      "955    Male                    Chennai                Chennai      ...         \n",
      "956    Male                    Chennai                Chennai      ...         \n",
      "957  Female                    Chennai                Chennai      ...         \n",
      "958    Male                    Chennai                Chennai      ...         \n",
      "959    Male                    Chennai                Chennai      ...         \n",
      "960    Male                    Chennai                Chennai      ...         \n",
      "961    Male                    Chennai                Chennai      ...         \n",
      "962    Male                    Chennai                Chennai      ...         \n",
      "963    Male                    Chennai                Chennai      ...         \n",
      "964    Male                    Chennai                Chennai      ...         \n",
      "965    Male                    Chennai                Chennai      ...         \n",
      "966  Female                    Chennai                Chennai      ...         \n",
      "967    Male                    Chennai                Chennai      ...         \n",
      "968    Male                    Chennai                Chennai      ...         \n",
      "969    Male                    Chennai                Chennai      ...         \n",
      "970    Male                    Chennai                Chennai      ...         \n",
      "971    Male                    Chennai                Chennai      ...         \n",
      "972    Male                    Chennai                Chennai      ...         \n",
      "973    Male                    Chennai                Chennai      ...         \n",
      "974    Male                    Chennai                Chennai      ...         \n",
      "975    Male                    Chennai                Chennai      ...         \n",
      "976    Male                    Chennai                Chennai      ...         \n",
      "977    Male                    Chennai                Chennai      ...         \n",
      "978    Male                    Chennai                Chennai      ...         \n",
      "979    Male                    Chennai                Chennai      ...         \n",
      "980    Male                    Chennai                Chennai      ...         \n",
      "981    Male                    Chennai                Chennai      ...         \n",
      "982    Male                    Chennai                Chennai      ...         \n",
      "983    Male                    Chennai                Chennai      ...         \n",
      "\n",
      "    Have you obtained the necessary permission to start at the required time  \\\n",
      "0                                                  Yes                         \n",
      "1                                                  Yes                         \n",
      "2                                                  Yes                         \n",
      "3                                                  Yes                         \n",
      "4                                                  Yes                         \n",
      "5                                                  Yes                         \n",
      "6                                                  Yes                         \n",
      "7                                                  Yes                         \n",
      "8                                                  Yes                         \n",
      "9                                                  Yes                         \n",
      "10                                                  No                         \n",
      "11                                                 Yes                         \n",
      "12                                                  No                         \n",
      "13                                                 Yes                         \n",
      "14                                                 Yes                         \n",
      "15                                                 Yes                         \n",
      "16                                                  No                         \n",
      "17                                                 Yes                         \n",
      "18                                                 Yes                         \n",
      "19                                                  No                         \n",
      "20                                                 Yes                         \n",
      "21                                                 Yes                         \n",
      "22                                                 Yes                         \n",
      "23                                                 Yes                         \n",
      "24                                                  No                         \n",
      "25                                                  No                         \n",
      "26                                                  No                         \n",
      "27                                                 Yes                         \n",
      "28                                                 Yes                         \n",
      "29                                                 Yes                         \n",
      "..                                                 ...                         \n",
      "954                                                Yes                         \n",
      "955                                                Yes                         \n",
      "956                                                Yes                         \n",
      "957                                                Yes                         \n",
      "958                                                Yes                         \n",
      "959                                                Yes                         \n",
      "960                                                Yes                         \n",
      "961                                                Yes                         \n",
      "962                                                Yes                         \n",
      "963                                                Yes                         \n",
      "964                                                Yes                         \n",
      "965                                                Yes                         \n",
      "966                                                Yes                         \n",
      "967                                                Yes                         \n",
      "968                                                Yes                         \n",
      "969                                                Yes                         \n",
      "970                                                Yes                         \n",
      "971                                                Yes                         \n",
      "972                                                Yes                         \n",
      "973                                                Yes                         \n",
      "974                                                Yes                         \n",
      "975                                                Yes                         \n",
      "976                                                Yes                         \n",
      "977                                                Yes                         \n",
      "978                                                Yes                         \n",
      "979                                                Yes                         \n",
      "980                                                Yes                         \n",
      "981                                                Yes                         \n",
      "982                                                Yes                         \n",
      "983                                                Yes                         \n",
      "\n",
      "    Hope there will be no unscheduled meetings  \\\n",
      "0                                          Yes   \n",
      "1                                          Yes   \n",
      "2                                          Yes   \n",
      "3                                          Yes   \n",
      "4                                          Yes   \n",
      "5                                          Yes   \n",
      "6                                          Yes   \n",
      "7                                          Yes   \n",
      "8                                          Yes   \n",
      "9                                          Yes   \n",
      "10                                         Yes   \n",
      "11                                         Yes   \n",
      "12                                         Yes   \n",
      "13                                         Yes   \n",
      "14                                         Yes   \n",
      "15                                         Yes   \n",
      "16                                         Yes   \n",
      "17                                         Yes   \n",
      "18                                         Yes   \n",
      "19                                         Yes   \n",
      "20                                         Yes   \n",
      "21                                         Yes   \n",
      "22                                         Yes   \n",
      "23                                         Yes   \n",
      "24                                          No   \n",
      "25                                         Yes   \n",
      "26                                         Yes   \n",
      "27                                         Yes   \n",
      "28                                         Yes   \n",
      "29                                         Yes   \n",
      "..                                         ...   \n",
      "954                                        Yes   \n",
      "955                                        Yes   \n",
      "956                                        Yes   \n",
      "957                                        Yes   \n",
      "958                                        Yes   \n",
      "959                                        Yes   \n",
      "960                                        Yes   \n",
      "961                                        Yes   \n",
      "962                                        Yes   \n",
      "963                                        Yes   \n",
      "964                                        Yes   \n",
      "965                                        Yes   \n",
      "966                                        Yes   \n",
      "967                                        Yes   \n",
      "968                                        Yes   \n",
      "969                                        Yes   \n",
      "970                                        Yes   \n",
      "971                                        Yes   \n",
      "972                                        Yes   \n",
      "973                                        Yes   \n",
      "974                                        Yes   \n",
      "975                                        Yes   \n",
      "976                                        Yes   \n",
      "977                                        Yes   \n",
      "978                                        Yes   \n",
      "979                                        Yes   \n",
      "980                                        Yes   \n",
      "981                                        Yes   \n",
      "982                                        Yes   \n",
      "983                                        Yes   \n",
      "\n",
      "    Can I Call you three hours before the interview and follow up on your attendance for the interview  \\\n",
      "0                                                  Yes                                                   \n",
      "1                                                  Yes                                                   \n",
      "2                                                   No                                                   \n",
      "3                                                  Yes                                                   \n",
      "4                                                  Yes                                                   \n",
      "5                                                  Yes                                                   \n",
      "6                                                  Yes                                                   \n",
      "7                                                  Yes                                                   \n",
      "8                                                  Yes                                                   \n",
      "9                                                  Yes                                                   \n",
      "10                                                  No                                                   \n",
      "11                                                 Yes                                                   \n",
      "12                                                 Yes                                                   \n",
      "13                                                 Yes                                                   \n",
      "14                                                 Yes                                                   \n",
      "15                                                 Yes                                                   \n",
      "16                                                 Yes                                                   \n",
      "17                                                 Yes                                                   \n",
      "18                                                 Yes                                                   \n",
      "19                                                 Yes                                                   \n",
      "20                                                 Yes                                                   \n",
      "21                                                 Yes                                                   \n",
      "22                                                 Yes                                                   \n",
      "23                                                 Yes                                                   \n",
      "24                                                 Yes                                                   \n",
      "25                                                 Yes                                                   \n",
      "26                                                 Yes                                                   \n",
      "27                                                 Yes                                                   \n",
      "28                                                 Yes                                                   \n",
      "29                                                 Yes                                                   \n",
      "..                                                 ...                                                   \n",
      "954                                                Yes                                                   \n",
      "955                                                Yes                                                   \n",
      "956                                                Yes                                                   \n",
      "957                                                Yes                                                   \n",
      "958                                                Yes                                                   \n",
      "959                                                Yes                                                   \n",
      "960                                                Yes                                                   \n",
      "961                                                Yes                                                   \n",
      "962                                                Yes                                                   \n",
      "963                                                Yes                                                   \n",
      "964                                                Yes                                                   \n",
      "965                                                Yes                                                   \n",
      "966                                                Yes                                                   \n",
      "967                                                Yes                                                   \n",
      "968                                                Yes                                                   \n",
      "969                                                Yes                                                   \n",
      "970                                                Yes                                                   \n",
      "971                                                Yes                                                   \n",
      "972                                                Yes                                                   \n",
      "973                                                Yes                                                   \n",
      "974                                                Yes                                                   \n",
      "975                                                Yes                                                   \n",
      "976                                                Yes                                                   \n",
      "977                                                Yes                                                   \n",
      "978                                                Yes                                                   \n",
      "979                                                Yes                                                   \n",
      "980                                                Yes                                                   \n",
      "981                                                Yes                                                   \n",
      "982                                                Yes                                                   \n",
      "983                                                Yes                                                   \n",
      "\n",
      "    Can I have an alternative number/ desk number. I assure you that I will not trouble you too much  \\\n",
      "0                                                  Yes                                                 \n",
      "1                                                  Yes                                                 \n",
      "2                                                  Yes                                                 \n",
      "3                                                   No                                                 \n",
      "4                                                  Yes                                                 \n",
      "5                                                  Yes                                                 \n",
      "6                                                  Yes                                                 \n",
      "7                                                  Yes                                                 \n",
      "8                                                  Yes                                                 \n",
      "9                                                  Yes                                                 \n",
      "10                                                  No                                                 \n",
      "11                                                 Yes                                                 \n",
      "12                                                 Yes                                                 \n",
      "13                                                 Yes                                                 \n",
      "14                                                 Yes                                                 \n",
      "15                                                 Yes                                                 \n",
      "16                                                  No                                                 \n",
      "17                                                 Yes                                                 \n",
      "18                                                 Yes                                                 \n",
      "19                                                 Yes                                                 \n",
      "20                                                 Yes                                                 \n",
      "21                                                 Yes                                                 \n",
      "22                                                 Yes                                                 \n",
      "23                                                  No                                                 \n",
      "24                                                 Yes                                                 \n",
      "25                                                 Yes                                                 \n",
      "26                                                 Yes                                                 \n",
      "27                                                 Yes                                                 \n",
      "28                                                 Yes                                                 \n",
      "29                                                 Yes                                                 \n",
      "..                                                 ...                                                 \n",
      "954                                                Yes                                                 \n",
      "955                                                Yes                                                 \n",
      "956                                                Yes                                                 \n",
      "957                                                Yes                                                 \n",
      "958                                                Yes                                                 \n",
      "959                                                Yes                                                 \n",
      "960                                                Yes                                                 \n",
      "961                                                Yes                                                 \n",
      "962                                                Yes                                                 \n",
      "963                                                Yes                                                 \n",
      "964                                                Yes                                                 \n",
      "965                                                Yes                                                 \n",
      "966                                                Yes                                                 \n",
      "967                                                Yes                                                 \n",
      "968                                                Yes                                                 \n",
      "969                                                Yes                                                 \n",
      "970                                                Yes                                                 \n",
      "971                                                Yes                                                 \n",
      "972                                                Yes                                                 \n",
      "973                                                Yes                                                 \n",
      "974                                                Yes                                                 \n",
      "975                                                Yes                                                 \n",
      "976                                                Yes                                                 \n",
      "977                                                Yes                                                 \n",
      "978                                                Yes                                                 \n",
      "979                                                Yes                                                 \n",
      "980                                                Yes                                                 \n",
      "981                                                Yes                                                 \n",
      "982                                                Yes                                                 \n",
      "983                                                Yes                                                 \n",
      "\n",
      "    Have you taken a printout of your updated resume. Have you read the JD and understood the same  \\\n",
      "0                                                  Yes                                               \n",
      "1                                                  Yes                                               \n",
      "2                                                   No                                               \n",
      "3                                                  Yes                                               \n",
      "4                                                  Yes                                               \n",
      "5                                                  Yes                                               \n",
      "6                                                  Yes                                               \n",
      "7                                                  Yes                                               \n",
      "8                                                  Yes                                               \n",
      "9                                                  Yes                                               \n",
      "10                                                 Yes                                               \n",
      "11                                                 Yes                                               \n",
      "12                                                 Yes                                               \n",
      "13                                                 Yes                                               \n",
      "14                                                 Yes                                               \n",
      "15                                                 Yes                                               \n",
      "16                                                 Yes                                               \n",
      "17                                                 Yes                                               \n",
      "18                                                 Yes                                               \n",
      "19                                                 Yes                                               \n",
      "20                                                 Yes                                               \n",
      "21                                                 Yes                                               \n",
      "22                                                 Yes                                               \n",
      "23                                                  No                                               \n",
      "24                                                 Yes                                               \n",
      "25                                                 Yes                                               \n",
      "26                                                  No                                               \n",
      "27                                                 Yes                                               \n",
      "28                                                 Yes                                               \n",
      "29                                                 Yes                                               \n",
      "..                                                 ...                                               \n",
      "954                                                Yes                                               \n",
      "955                                                Yes                                               \n",
      "956                                                Yes                                               \n",
      "957                                                Yes                                               \n",
      "958                                                Yes                                               \n",
      "959                                                Yes                                               \n",
      "960                                                Yes                                               \n",
      "961                                                Yes                                               \n",
      "962                                                Yes                                               \n",
      "963                                                Yes                                               \n",
      "964                                                Yes                                               \n",
      "965                                                Yes                                               \n",
      "966                                                Yes                                               \n",
      "967                                                Yes                                               \n",
      "968                                                Yes                                               \n",
      "969                                                Yes                                               \n",
      "970                                                Yes                                               \n",
      "971                                                Yes                                               \n",
      "972                                                Yes                                               \n",
      "973                                                Yes                                               \n",
      "974                                                Yes                                               \n",
      "975                                                Yes                                               \n",
      "976                                                Yes                                               \n",
      "977                                                Yes                                               \n",
      "978                                                Yes                                               \n",
      "979                                                Yes                                               \n",
      "980                                                Yes                                               \n",
      "981                                                Yes                                               \n",
      "982                                                Yes                                               \n",
      "983                                                Yes                                               \n",
      "\n",
      "    Are you clear with the venue details and the landmark.  \\\n",
      "0                                                  Yes       \n",
      "1                                                  Yes       \n",
      "2                                                  Yes       \n",
      "3                                                  Yes       \n",
      "4                                                  Yes       \n",
      "5                                                  Yes       \n",
      "6                                                  Yes       \n",
      "7                                                  Yes       \n",
      "8                                                  Yes       \n",
      "9                                                  Yes       \n",
      "10                                                 Yes       \n",
      "11                                                 Yes       \n",
      "12                                                 Yes       \n",
      "13                                                 Yes       \n",
      "14                                                 Yes       \n",
      "15                                                 Yes       \n",
      "16                                                 Yes       \n",
      "17                                                 Yes       \n",
      "18                                                 Yes       \n",
      "19                                                 Yes       \n",
      "20                                                 Yes       \n",
      "21                                                 Yes       \n",
      "22                                                 Yes       \n",
      "23                                                 Yes       \n",
      "24                                                 Yes       \n",
      "25                                                 Yes       \n",
      "26                                                 Yes       \n",
      "27                                                 Yes       \n",
      "28                                                 Yes       \n",
      "29                                                 Yes       \n",
      "..                                                 ...       \n",
      "954                                                Yes       \n",
      "955                                                Yes       \n",
      "956                                                Yes       \n",
      "957                                                Yes       \n",
      "958                                                Yes       \n",
      "959                                                Yes       \n",
      "960                                                Yes       \n",
      "961                                                Yes       \n",
      "962                                                Yes       \n",
      "963                                                Yes       \n",
      "964                                                Yes       \n",
      "965                                                Yes       \n",
      "966                                                Yes       \n",
      "967                                                Yes       \n",
      "968                                                Yes       \n",
      "969                                                Yes       \n",
      "970                                                Yes       \n",
      "971                                                Yes       \n",
      "972                                                Yes       \n",
      "973                                                Yes       \n",
      "974                                                Yes       \n",
      "975                                                Yes       \n",
      "976                                                Yes       \n",
      "977                                                Yes       \n",
      "978                                                Yes       \n",
      "979                                                Yes       \n",
      "980                                                Yes       \n",
      "981                                                Yes       \n",
      "982                                                Yes       \n",
      "983                                                Yes       \n",
      "\n",
      "    Has the call letter been shared Expected Attendance Observed Attendance  \\\n",
      "0                               Yes                 Yes                   0   \n",
      "1                               Yes                 Yes                   0   \n",
      "2                               Yes                  No                   0   \n",
      "3                               Yes                  No                   0   \n",
      "4                               Yes                 Yes                   1   \n",
      "5                               Yes                 Yes                   1   \n",
      "6                               Yes                 Yes                   1   \n",
      "7                               Yes                 Yes                   1   \n",
      "8                               Yes                 Yes                   0   \n",
      "9                               Yes                 Yes                   1   \n",
      "10                              Yes                  No                   0   \n",
      "11                              Yes                 Yes                   1   \n",
      "12                               No                  No                   1   \n",
      "13                              Yes                 Yes                   1   \n",
      "14                              Yes                 Yes                   1   \n",
      "15                              Yes                 Yes                   1   \n",
      "16                              Yes                  No                   0   \n",
      "17                              Yes                 Yes                   1   \n",
      "18                              Yes                 Yes                   0   \n",
      "19                               No                  No                   0   \n",
      "20                              Yes                 Yes                   1   \n",
      "21                              Yes                 Yes                   1   \n",
      "22                              Yes                 Yes                   1   \n",
      "23                              Yes                  No                   0   \n",
      "24                               No                  No                   0   \n",
      "25                               No                  No                   0   \n",
      "26                               No                  No                   0   \n",
      "27                              Yes                 Yes                   1   \n",
      "28                              Yes                 Yes                   1   \n",
      "29                              Yes                 Yes                   1   \n",
      "..                              ...                 ...                 ...   \n",
      "954                             Yes                 Yes                   0   \n",
      "955                             Yes                 Yes                   1   \n",
      "956                             Yes                 Yes                   1   \n",
      "957                             Yes                 Yes                   1   \n",
      "958                             Yes                 Yes                   1   \n",
      "959                             Yes                 Yes                   0   \n",
      "960                             Yes                 Yes                   1   \n",
      "961                             Yes                 Yes                   1   \n",
      "962                             Yes                 Yes                   1   \n",
      "963                             Yes                 Yes                   1   \n",
      "964                             Yes                 Yes                   0   \n",
      "965                             Yes                 Yes                   0   \n",
      "966                             Yes                 Yes                   1   \n",
      "967                             Yes                 Yes                   1   \n",
      "968                             Yes                 Yes                   0   \n",
      "969                             Yes                 Yes                   1   \n",
      "970                             Yes                 Yes                   1   \n",
      "971                             Yes                 Yes                   1   \n",
      "972                             Yes                 Yes                   1   \n",
      "973                             Yes                 Yes                   1   \n",
      "974                             Yes                 Yes                   1   \n",
      "975                             Yes                 Yes                   1   \n",
      "976                             Yes                 Yes                   1   \n",
      "977                             Yes                 Yes                   1   \n",
      "978                             Yes                 Yes                   1   \n",
      "979                             Yes                 Yes                   1   \n",
      "980                             Yes                 Yes                   1   \n",
      "981                             Yes                 Yes                   1   \n",
      "982                             Yes                 Yes                   1   \n",
      "983                             Yes                 Yes                   1   \n",
      "\n",
      "    Marital Status  \n",
      "0           Single  \n",
      "1           Single  \n",
      "2           Single  \n",
      "3          Married  \n",
      "4           Single  \n",
      "5           Single  \n",
      "6           Single  \n",
      "7           Single  \n",
      "8           Single  \n",
      "9           Single  \n",
      "10          Single  \n",
      "11          Single  \n",
      "12          Single  \n",
      "13          Single  \n",
      "14          Single  \n",
      "15          Single  \n",
      "16          Single  \n",
      "17          Single  \n",
      "18          Single  \n",
      "19          Single  \n",
      "20          Single  \n",
      "21          Single  \n",
      "22          Single  \n",
      "23          Single  \n",
      "24          Single  \n",
      "25         Married  \n",
      "26          Single  \n",
      "27         Married  \n",
      "28         Married  \n",
      "29          Single  \n",
      "..             ...  \n",
      "954        Married  \n",
      "955         Single  \n",
      "956         Single  \n",
      "957         Single  \n",
      "958        Married  \n",
      "959        Married  \n",
      "960        Married  \n",
      "961         Single  \n",
      "962        Married  \n",
      "963         Single  \n",
      "964         Single  \n",
      "965        Married  \n",
      "966        Married  \n",
      "967         Single  \n",
      "968         Single  \n",
      "969        Married  \n",
      "970        Married  \n",
      "971        Married  \n",
      "972         Single  \n",
      "973         Single  \n",
      "974        Married  \n",
      "975        Married  \n",
      "976        Married  \n",
      "977         Single  \n",
      "978        Married  \n",
      "979        Married  \n",
      "980        Married  \n",
      "981         Single  \n",
      "982        Married  \n",
      "983         Single  \n",
      "\n",
      "[980 rows x 22 columns]\n"
     ]
    }
   ],
   "source": [
    "print(df_data)"
   ]
  },
  {
   "cell_type": "code",
   "execution_count": 113,
   "metadata": {},
   "outputs": [],
   "source": [
    "df_data = df_data.apply(LabelEncoder().fit_transform)\n",
    "from sklearn.linear_model import LogisticRegression\n",
    "Y_train=df_data['Observed Attendance']\n"
   ]
  },
  {
   "cell_type": "code",
   "execution_count": 114,
   "metadata": {},
   "outputs": [
    {
     "data": {
      "text/html": [
       "<div>\n",
       "<style scoped>\n",
       "    .dataframe tbody tr th:only-of-type {\n",
       "        vertical-align: middle;\n",
       "    }\n",
       "\n",
       "    .dataframe tbody tr th {\n",
       "        vertical-align: top;\n",
       "    }\n",
       "\n",
       "    .dataframe thead th {\n",
       "        text-align: right;\n",
       "    }\n",
       "</style>\n",
       "<table border=\"1\" class=\"dataframe\">\n",
       "  <thead>\n",
       "    <tr style=\"text-align: right;\">\n",
       "      <th></th>\n",
       "      <th>Client name</th>\n",
       "      <th>Industry</th>\n",
       "      <th>Location</th>\n",
       "      <th>Position to be closed</th>\n",
       "      <th>Nature of Skillset</th>\n",
       "      <th>Interview Type</th>\n",
       "      <th>Name(Cand ID)</th>\n",
       "      <th>Gender</th>\n",
       "      <th>Candidate Current Location</th>\n",
       "      <th>Candidate Job Location</th>\n",
       "      <th>...</th>\n",
       "      <th>Have you obtained the necessary permission to start at the required time</th>\n",
       "      <th>Hope there will be no unscheduled meetings</th>\n",
       "      <th>Can I Call you three hours before the interview and follow up on your attendance for the interview</th>\n",
       "      <th>Can I have an alternative number/ desk number. I assure you that I will not trouble you too much</th>\n",
       "      <th>Have you taken a printout of your updated resume. Have you read the JD and understood the same</th>\n",
       "      <th>Are you clear with the venue details and the landmark.</th>\n",
       "      <th>Has the call letter been shared</th>\n",
       "      <th>Expected Attendance</th>\n",
       "      <th>Observed Attendance</th>\n",
       "      <th>Marital Status</th>\n",
       "    </tr>\n",
       "  </thead>\n",
       "  <tbody>\n",
       "    <tr>\n",
       "      <th>0</th>\n",
       "      <td>5</td>\n",
       "      <td>3</td>\n",
       "      <td>1</td>\n",
       "      <td>1</td>\n",
       "      <td>30</td>\n",
       "      <td>1</td>\n",
       "      <td>0</td>\n",
       "      <td>1</td>\n",
       "      <td>1</td>\n",
       "      <td>4</td>\n",
       "      <td>...</td>\n",
       "      <td>1</td>\n",
       "      <td>1</td>\n",
       "      <td>1</td>\n",
       "      <td>1</td>\n",
       "      <td>1</td>\n",
       "      <td>1</td>\n",
       "      <td>1</td>\n",
       "      <td>1</td>\n",
       "      <td>0</td>\n",
       "      <td>1</td>\n",
       "    </tr>\n",
       "    <tr>\n",
       "      <th>1</th>\n",
       "      <td>5</td>\n",
       "      <td>3</td>\n",
       "      <td>1</td>\n",
       "      <td>1</td>\n",
       "      <td>30</td>\n",
       "      <td>1</td>\n",
       "      <td>317</td>\n",
       "      <td>1</td>\n",
       "      <td>1</td>\n",
       "      <td>0</td>\n",
       "      <td>...</td>\n",
       "      <td>1</td>\n",
       "      <td>1</td>\n",
       "      <td>1</td>\n",
       "      <td>1</td>\n",
       "      <td>1</td>\n",
       "      <td>1</td>\n",
       "      <td>1</td>\n",
       "      <td>1</td>\n",
       "      <td>0</td>\n",
       "      <td>1</td>\n",
       "    </tr>\n",
       "    <tr>\n",
       "      <th>2</th>\n",
       "      <td>5</td>\n",
       "      <td>3</td>\n",
       "      <td>1</td>\n",
       "      <td>1</td>\n",
       "      <td>30</td>\n",
       "      <td>1</td>\n",
       "      <td>467</td>\n",
       "      <td>1</td>\n",
       "      <td>1</td>\n",
       "      <td>1</td>\n",
       "      <td>...</td>\n",
       "      <td>1</td>\n",
       "      <td>1</td>\n",
       "      <td>0</td>\n",
       "      <td>1</td>\n",
       "      <td>0</td>\n",
       "      <td>1</td>\n",
       "      <td>1</td>\n",
       "      <td>0</td>\n",
       "      <td>0</td>\n",
       "      <td>1</td>\n",
       "    </tr>\n",
       "    <tr>\n",
       "      <th>3</th>\n",
       "      <td>5</td>\n",
       "      <td>3</td>\n",
       "      <td>1</td>\n",
       "      <td>1</td>\n",
       "      <td>30</td>\n",
       "      <td>1</td>\n",
       "      <td>544</td>\n",
       "      <td>1</td>\n",
       "      <td>1</td>\n",
       "      <td>0</td>\n",
       "      <td>...</td>\n",
       "      <td>1</td>\n",
       "      <td>1</td>\n",
       "      <td>1</td>\n",
       "      <td>0</td>\n",
       "      <td>1</td>\n",
       "      <td>1</td>\n",
       "      <td>1</td>\n",
       "      <td>0</td>\n",
       "      <td>0</td>\n",
       "      <td>0</td>\n",
       "    </tr>\n",
       "    <tr>\n",
       "      <th>4</th>\n",
       "      <td>4</td>\n",
       "      <td>2</td>\n",
       "      <td>4</td>\n",
       "      <td>0</td>\n",
       "      <td>30</td>\n",
       "      <td>1</td>\n",
       "      <td>615</td>\n",
       "      <td>1</td>\n",
       "      <td>4</td>\n",
       "      <td>3</td>\n",
       "      <td>...</td>\n",
       "      <td>1</td>\n",
       "      <td>1</td>\n",
       "      <td>1</td>\n",
       "      <td>1</td>\n",
       "      <td>1</td>\n",
       "      <td>1</td>\n",
       "      <td>1</td>\n",
       "      <td>1</td>\n",
       "      <td>1</td>\n",
       "      <td>1</td>\n",
       "    </tr>\n",
       "  </tbody>\n",
       "</table>\n",
       "<p>5 rows × 22 columns</p>\n",
       "</div>"
      ],
      "text/plain": [
       "   Client name  Industry  Location  Position to be closed  Nature of Skillset  \\\n",
       "0            5         3         1                      1                  30   \n",
       "1            5         3         1                      1                  30   \n",
       "2            5         3         1                      1                  30   \n",
       "3            5         3         1                      1                  30   \n",
       "4            4         2         4                      0                  30   \n",
       "\n",
       "   Interview Type  Name(Cand ID)  Gender  Candidate Current Location  \\\n",
       "0               1              0       1                           1   \n",
       "1               1            317       1                           1   \n",
       "2               1            467       1                           1   \n",
       "3               1            544       1                           1   \n",
       "4               1            615       1                           4   \n",
       "\n",
       "   Candidate Job Location       ...        \\\n",
       "0                       4       ...         \n",
       "1                       0       ...         \n",
       "2                       1       ...         \n",
       "3                       0       ...         \n",
       "4                       3       ...         \n",
       "\n",
       "   Have you obtained the necessary permission to start at the required time  \\\n",
       "0                                                  1                          \n",
       "1                                                  1                          \n",
       "2                                                  1                          \n",
       "3                                                  1                          \n",
       "4                                                  1                          \n",
       "\n",
       "   Hope there will be no unscheduled meetings  \\\n",
       "0                                           1   \n",
       "1                                           1   \n",
       "2                                           1   \n",
       "3                                           1   \n",
       "4                                           1   \n",
       "\n",
       "   Can I Call you three hours before the interview and follow up on your attendance for the interview  \\\n",
       "0                                                  1                                                    \n",
       "1                                                  1                                                    \n",
       "2                                                  0                                                    \n",
       "3                                                  1                                                    \n",
       "4                                                  1                                                    \n",
       "\n",
       "   Can I have an alternative number/ desk number. I assure you that I will not trouble you too much  \\\n",
       "0                                                  1                                                  \n",
       "1                                                  1                                                  \n",
       "2                                                  1                                                  \n",
       "3                                                  0                                                  \n",
       "4                                                  1                                                  \n",
       "\n",
       "   Have you taken a printout of your updated resume. Have you read the JD and understood the same  \\\n",
       "0                                                  1                                                \n",
       "1                                                  1                                                \n",
       "2                                                  0                                                \n",
       "3                                                  1                                                \n",
       "4                                                  1                                                \n",
       "\n",
       "   Are you clear with the venue details and the landmark.  \\\n",
       "0                                                  1        \n",
       "1                                                  1        \n",
       "2                                                  1        \n",
       "3                                                  1        \n",
       "4                                                  1        \n",
       "\n",
       "   Has the call letter been shared  Expected Attendance  Observed Attendance  \\\n",
       "0                                1                    1                    0   \n",
       "1                                1                    1                    0   \n",
       "2                                1                    0                    0   \n",
       "3                                1                    0                    0   \n",
       "4                                1                    1                    1   \n",
       "\n",
       "   Marital Status  \n",
       "0               1  \n",
       "1               1  \n",
       "2               1  \n",
       "3               0  \n",
       "4               1  \n",
       "\n",
       "[5 rows x 22 columns]"
      ]
     },
     "execution_count": 114,
     "metadata": {},
     "output_type": "execute_result"
    }
   ],
   "source": [
    "X_train = df_data\n",
    "df_data.head()"
   ]
  },
  {
   "cell_type": "code",
   "execution_count": 115,
   "metadata": {},
   "outputs": [],
   "source": [
    "from sklearn.preprocessing import LabelEncoder\n",
    "labelencoder=LabelEncoder()\n",
    "for column in df_data.columns:\n",
    "    df_data[column] = labelencoder.fit_transform(df_data[column])"
   ]
  },
  {
   "cell_type": "code",
   "execution_count": 127,
   "metadata": {},
   "outputs": [],
   "source": [
    "Finaldata = pd.DataFrame(df_data)"
   ]
  },
  {
   "cell_type": "code",
   "execution_count": 128,
   "metadata": {},
   "outputs": [
    {
     "data": {
      "text/html": [
       "<div>\n",
       "<style scoped>\n",
       "    .dataframe tbody tr th:only-of-type {\n",
       "        vertical-align: middle;\n",
       "    }\n",
       "\n",
       "    .dataframe tbody tr th {\n",
       "        vertical-align: top;\n",
       "    }\n",
       "\n",
       "    .dataframe thead th {\n",
       "        text-align: right;\n",
       "    }\n",
       "</style>\n",
       "<table border=\"1\" class=\"dataframe\">\n",
       "  <thead>\n",
       "    <tr style=\"text-align: right;\">\n",
       "      <th></th>\n",
       "      <th>Client name</th>\n",
       "      <th>Industry</th>\n",
       "      <th>Location</th>\n",
       "      <th>Position to be closed</th>\n",
       "      <th>Nature of Skillset</th>\n",
       "      <th>Interview Type</th>\n",
       "      <th>Name(Cand ID)</th>\n",
       "      <th>Gender</th>\n",
       "      <th>Candidate Current Location</th>\n",
       "      <th>Candidate Job Location</th>\n",
       "      <th>...</th>\n",
       "      <th>Have you obtained the necessary permission to start at the required time</th>\n",
       "      <th>Hope there will be no unscheduled meetings</th>\n",
       "      <th>Can I Call you three hours before the interview and follow up on your attendance for the interview</th>\n",
       "      <th>Can I have an alternative number/ desk number. I assure you that I will not trouble you too much</th>\n",
       "      <th>Have you taken a printout of your updated resume. Have you read the JD and understood the same</th>\n",
       "      <th>Are you clear with the venue details and the landmark.</th>\n",
       "      <th>Has the call letter been shared</th>\n",
       "      <th>Expected Attendance</th>\n",
       "      <th>Observed Attendance</th>\n",
       "      <th>Marital Status</th>\n",
       "    </tr>\n",
       "  </thead>\n",
       "  <tbody>\n",
       "    <tr>\n",
       "      <th>Client name</th>\n",
       "      <td>1.000000</td>\n",
       "      <td>-0.469408</td>\n",
       "      <td>-0.346506</td>\n",
       "      <td>0.465948</td>\n",
       "      <td>-0.100819</td>\n",
       "      <td>-0.067288</td>\n",
       "      <td>-0.056621</td>\n",
       "      <td>0.015720</td>\n",
       "      <td>-0.346506</td>\n",
       "      <td>-0.309047</td>\n",
       "      <td>...</td>\n",
       "      <td>0.020902</td>\n",
       "      <td>0.056088</td>\n",
       "      <td>0.089738</td>\n",
       "      <td>0.073133</td>\n",
       "      <td>0.043719</td>\n",
       "      <td>0.043337</td>\n",
       "      <td>0.057279</td>\n",
       "      <td>0.060860</td>\n",
       "      <td>-0.065908</td>\n",
       "      <td>0.047244</td>\n",
       "    </tr>\n",
       "    <tr>\n",
       "      <th>Industry</th>\n",
       "      <td>-0.469408</td>\n",
       "      <td>1.000000</td>\n",
       "      <td>0.399549</td>\n",
       "      <td>-0.409031</td>\n",
       "      <td>0.313945</td>\n",
       "      <td>0.036689</td>\n",
       "      <td>0.197539</td>\n",
       "      <td>0.028693</td>\n",
       "      <td>0.399549</td>\n",
       "      <td>0.404649</td>\n",
       "      <td>...</td>\n",
       "      <td>-0.242499</td>\n",
       "      <td>-0.258941</td>\n",
       "      <td>-0.222205</td>\n",
       "      <td>-0.196082</td>\n",
       "      <td>-0.207290</td>\n",
       "      <td>-0.170705</td>\n",
       "      <td>-0.198931</td>\n",
       "      <td>-0.245851</td>\n",
       "      <td>-0.076402</td>\n",
       "      <td>-0.163351</td>\n",
       "    </tr>\n",
       "    <tr>\n",
       "      <th>Location</th>\n",
       "      <td>-0.346506</td>\n",
       "      <td>0.399549</td>\n",
       "      <td>1.000000</td>\n",
       "      <td>-0.123243</td>\n",
       "      <td>0.119691</td>\n",
       "      <td>0.230110</td>\n",
       "      <td>0.129167</td>\n",
       "      <td>-0.064325</td>\n",
       "      <td>1.000000</td>\n",
       "      <td>0.822929</td>\n",
       "      <td>...</td>\n",
       "      <td>-0.000053</td>\n",
       "      <td>-0.010508</td>\n",
       "      <td>-0.043464</td>\n",
       "      <td>-0.050769</td>\n",
       "      <td>-0.063879</td>\n",
       "      <td>-0.017850</td>\n",
       "      <td>-0.036226</td>\n",
       "      <td>-0.080030</td>\n",
       "      <td>0.037683</td>\n",
       "      <td>0.014878</td>\n",
       "    </tr>\n",
       "    <tr>\n",
       "      <th>Position to be closed</th>\n",
       "      <td>0.465948</td>\n",
       "      <td>-0.409031</td>\n",
       "      <td>-0.123243</td>\n",
       "      <td>1.000000</td>\n",
       "      <td>-0.372100</td>\n",
       "      <td>-0.204600</td>\n",
       "      <td>0.044560</td>\n",
       "      <td>-0.029094</td>\n",
       "      <td>-0.123243</td>\n",
       "      <td>-0.024404</td>\n",
       "      <td>...</td>\n",
       "      <td>0.196969</td>\n",
       "      <td>0.123611</td>\n",
       "      <td>0.035763</td>\n",
       "      <td>0.080100</td>\n",
       "      <td>0.082155</td>\n",
       "      <td>0.073732</td>\n",
       "      <td>0.096563</td>\n",
       "      <td>0.160751</td>\n",
       "      <td>-0.074595</td>\n",
       "      <td>0.051161</td>\n",
       "    </tr>\n",
       "    <tr>\n",
       "      <th>Nature of Skillset</th>\n",
       "      <td>-0.100819</td>\n",
       "      <td>0.313945</td>\n",
       "      <td>0.119691</td>\n",
       "      <td>-0.372100</td>\n",
       "      <td>1.000000</td>\n",
       "      <td>0.021721</td>\n",
       "      <td>0.003691</td>\n",
       "      <td>-0.071396</td>\n",
       "      <td>0.119691</td>\n",
       "      <td>0.079701</td>\n",
       "      <td>...</td>\n",
       "      <td>-0.227766</td>\n",
       "      <td>-0.131595</td>\n",
       "      <td>-0.083550</td>\n",
       "      <td>-0.149520</td>\n",
       "      <td>-0.128536</td>\n",
       "      <td>-0.136498</td>\n",
       "      <td>-0.179256</td>\n",
       "      <td>-0.246146</td>\n",
       "      <td>-0.052959</td>\n",
       "      <td>-0.026499</td>\n",
       "    </tr>\n",
       "    <tr>\n",
       "      <th>Interview Type</th>\n",
       "      <td>-0.067288</td>\n",
       "      <td>0.036689</td>\n",
       "      <td>0.230110</td>\n",
       "      <td>-0.204600</td>\n",
       "      <td>0.021721</td>\n",
       "      <td>1.000000</td>\n",
       "      <td>-0.081014</td>\n",
       "      <td>0.023813</td>\n",
       "      <td>0.230110</td>\n",
       "      <td>0.240794</td>\n",
       "      <td>...</td>\n",
       "      <td>0.000078</td>\n",
       "      <td>0.085885</td>\n",
       "      <td>0.094240</td>\n",
       "      <td>0.060383</td>\n",
       "      <td>0.048737</td>\n",
       "      <td>0.067439</td>\n",
       "      <td>0.040023</td>\n",
       "      <td>-0.020292</td>\n",
       "      <td>0.090544</td>\n",
       "      <td>-0.035297</td>\n",
       "    </tr>\n",
       "    <tr>\n",
       "      <th>Name(Cand ID)</th>\n",
       "      <td>-0.056621</td>\n",
       "      <td>0.197539</td>\n",
       "      <td>0.129167</td>\n",
       "      <td>0.044560</td>\n",
       "      <td>0.003691</td>\n",
       "      <td>-0.081014</td>\n",
       "      <td>1.000000</td>\n",
       "      <td>-0.045216</td>\n",
       "      <td>0.129167</td>\n",
       "      <td>0.130599</td>\n",
       "      <td>...</td>\n",
       "      <td>-0.184795</td>\n",
       "      <td>-0.185035</td>\n",
       "      <td>-0.149283</td>\n",
       "      <td>-0.170160</td>\n",
       "      <td>-0.190271</td>\n",
       "      <td>-0.170482</td>\n",
       "      <td>-0.180479</td>\n",
       "      <td>-0.162510</td>\n",
       "      <td>-0.058298</td>\n",
       "      <td>-0.123461</td>\n",
       "    </tr>\n",
       "    <tr>\n",
       "      <th>Gender</th>\n",
       "      <td>0.015720</td>\n",
       "      <td>0.028693</td>\n",
       "      <td>-0.064325</td>\n",
       "      <td>-0.029094</td>\n",
       "      <td>-0.071396</td>\n",
       "      <td>0.023813</td>\n",
       "      <td>-0.045216</td>\n",
       "      <td>1.000000</td>\n",
       "      <td>-0.064325</td>\n",
       "      <td>-0.051641</td>\n",
       "      <td>...</td>\n",
       "      <td>0.052798</td>\n",
       "      <td>0.017366</td>\n",
       "      <td>0.009727</td>\n",
       "      <td>0.100987</td>\n",
       "      <td>0.046689</td>\n",
       "      <td>0.028082</td>\n",
       "      <td>0.079490</td>\n",
       "      <td>0.044108</td>\n",
       "      <td>0.016947</td>\n",
       "      <td>0.213444</td>\n",
       "    </tr>\n",
       "    <tr>\n",
       "      <th>Candidate Current Location</th>\n",
       "      <td>-0.346506</td>\n",
       "      <td>0.399549</td>\n",
       "      <td>1.000000</td>\n",
       "      <td>-0.123243</td>\n",
       "      <td>0.119691</td>\n",
       "      <td>0.230110</td>\n",
       "      <td>0.129167</td>\n",
       "      <td>-0.064325</td>\n",
       "      <td>1.000000</td>\n",
       "      <td>0.822929</td>\n",
       "      <td>...</td>\n",
       "      <td>-0.000053</td>\n",
       "      <td>-0.010508</td>\n",
       "      <td>-0.043464</td>\n",
       "      <td>-0.050769</td>\n",
       "      <td>-0.063879</td>\n",
       "      <td>-0.017850</td>\n",
       "      <td>-0.036226</td>\n",
       "      <td>-0.080030</td>\n",
       "      <td>0.037683</td>\n",
       "      <td>0.014878</td>\n",
       "    </tr>\n",
       "    <tr>\n",
       "      <th>Candidate Job Location</th>\n",
       "      <td>-0.309047</td>\n",
       "      <td>0.404649</td>\n",
       "      <td>0.822929</td>\n",
       "      <td>-0.024404</td>\n",
       "      <td>0.079701</td>\n",
       "      <td>0.240794</td>\n",
       "      <td>0.130599</td>\n",
       "      <td>-0.051641</td>\n",
       "      <td>0.822929</td>\n",
       "      <td>1.000000</td>\n",
       "      <td>...</td>\n",
       "      <td>0.000924</td>\n",
       "      <td>-0.049103</td>\n",
       "      <td>-0.044910</td>\n",
       "      <td>-0.033945</td>\n",
       "      <td>-0.076719</td>\n",
       "      <td>-0.001643</td>\n",
       "      <td>-0.060594</td>\n",
       "      <td>-0.078367</td>\n",
       "      <td>0.039596</td>\n",
       "      <td>0.004318</td>\n",
       "    </tr>\n",
       "    <tr>\n",
       "      <th>Interview Venue</th>\n",
       "      <td>-0.344961</td>\n",
       "      <td>0.443324</td>\n",
       "      <td>0.908384</td>\n",
       "      <td>-0.102346</td>\n",
       "      <td>0.119689</td>\n",
       "      <td>0.239387</td>\n",
       "      <td>0.100457</td>\n",
       "      <td>-0.041362</td>\n",
       "      <td>0.908384</td>\n",
       "      <td>0.884602</td>\n",
       "      <td>...</td>\n",
       "      <td>0.011649</td>\n",
       "      <td>-0.032150</td>\n",
       "      <td>-0.061555</td>\n",
       "      <td>-0.052511</td>\n",
       "      <td>-0.066137</td>\n",
       "      <td>-0.013374</td>\n",
       "      <td>-0.037401</td>\n",
       "      <td>-0.101443</td>\n",
       "      <td>0.031677</td>\n",
       "      <td>-0.016806</td>\n",
       "    </tr>\n",
       "    <tr>\n",
       "      <th>Candidate Native location</th>\n",
       "      <td>-0.095392</td>\n",
       "      <td>0.157111</td>\n",
       "      <td>0.227848</td>\n",
       "      <td>-0.139477</td>\n",
       "      <td>0.016919</td>\n",
       "      <td>0.201630</td>\n",
       "      <td>-0.013100</td>\n",
       "      <td>0.035877</td>\n",
       "      <td>0.227848</td>\n",
       "      <td>0.257545</td>\n",
       "      <td>...</td>\n",
       "      <td>-0.055786</td>\n",
       "      <td>-0.025685</td>\n",
       "      <td>0.010446</td>\n",
       "      <td>-0.059252</td>\n",
       "      <td>-0.057650</td>\n",
       "      <td>0.018515</td>\n",
       "      <td>0.001289</td>\n",
       "      <td>-0.100226</td>\n",
       "      <td>0.033190</td>\n",
       "      <td>-0.026960</td>\n",
       "    </tr>\n",
       "    <tr>\n",
       "      <th>Have you obtained the necessary permission to start at the required time</th>\n",
       "      <td>0.020902</td>\n",
       "      <td>-0.242499</td>\n",
       "      <td>-0.000053</td>\n",
       "      <td>0.196969</td>\n",
       "      <td>-0.227766</td>\n",
       "      <td>0.000078</td>\n",
       "      <td>-0.184795</td>\n",
       "      <td>0.052798</td>\n",
       "      <td>-0.000053</td>\n",
       "      <td>0.000924</td>\n",
       "      <td>...</td>\n",
       "      <td>1.000000</td>\n",
       "      <td>0.642001</td>\n",
       "      <td>0.469815</td>\n",
       "      <td>0.544762</td>\n",
       "      <td>0.642968</td>\n",
       "      <td>0.568101</td>\n",
       "      <td>0.638819</td>\n",
       "      <td>0.754297</td>\n",
       "      <td>0.317181</td>\n",
       "      <td>0.005723</td>\n",
       "    </tr>\n",
       "    <tr>\n",
       "      <th>Hope there will be no unscheduled meetings</th>\n",
       "      <td>0.056088</td>\n",
       "      <td>-0.258941</td>\n",
       "      <td>-0.010508</td>\n",
       "      <td>0.123611</td>\n",
       "      <td>-0.131595</td>\n",
       "      <td>0.085885</td>\n",
       "      <td>-0.185035</td>\n",
       "      <td>0.017366</td>\n",
       "      <td>-0.010508</td>\n",
       "      <td>-0.049103</td>\n",
       "      <td>...</td>\n",
       "      <td>0.642001</td>\n",
       "      <td>1.000000</td>\n",
       "      <td>0.656541</td>\n",
       "      <td>0.614272</td>\n",
       "      <td>0.681413</td>\n",
       "      <td>0.646569</td>\n",
       "      <td>0.594004</td>\n",
       "      <td>0.539161</td>\n",
       "      <td>0.230492</td>\n",
       "      <td>0.030392</td>\n",
       "    </tr>\n",
       "    <tr>\n",
       "      <th>Can I Call you three hours before the interview and follow up on your attendance for the interview</th>\n",
       "      <td>0.089738</td>\n",
       "      <td>-0.222205</td>\n",
       "      <td>-0.043464</td>\n",
       "      <td>0.035763</td>\n",
       "      <td>-0.083550</td>\n",
       "      <td>0.094240</td>\n",
       "      <td>-0.149283</td>\n",
       "      <td>0.009727</td>\n",
       "      <td>-0.043464</td>\n",
       "      <td>-0.044910</td>\n",
       "      <td>...</td>\n",
       "      <td>0.469815</td>\n",
       "      <td>0.656541</td>\n",
       "      <td>1.000000</td>\n",
       "      <td>0.608955</td>\n",
       "      <td>0.646863</td>\n",
       "      <td>0.574108</td>\n",
       "      <td>0.506828</td>\n",
       "      <td>0.520930</td>\n",
       "      <td>0.168207</td>\n",
       "      <td>0.053096</td>\n",
       "    </tr>\n",
       "    <tr>\n",
       "      <th>Can I have an alternative number/ desk number. I assure you that I will not trouble you too much</th>\n",
       "      <td>0.073133</td>\n",
       "      <td>-0.196082</td>\n",
       "      <td>-0.050769</td>\n",
       "      <td>0.080100</td>\n",
       "      <td>-0.149520</td>\n",
       "      <td>0.060383</td>\n",
       "      <td>-0.170160</td>\n",
       "      <td>0.100987</td>\n",
       "      <td>-0.050769</td>\n",
       "      <td>-0.033945</td>\n",
       "      <td>...</td>\n",
       "      <td>0.544762</td>\n",
       "      <td>0.614272</td>\n",
       "      <td>0.608955</td>\n",
       "      <td>1.000000</td>\n",
       "      <td>0.589118</td>\n",
       "      <td>0.540054</td>\n",
       "      <td>0.512223</td>\n",
       "      <td>0.669543</td>\n",
       "      <td>0.230053</td>\n",
       "      <td>0.005842</td>\n",
       "    </tr>\n",
       "    <tr>\n",
       "      <th>Have you taken a printout of your updated resume. Have you read the JD and understood the same</th>\n",
       "      <td>0.043719</td>\n",
       "      <td>-0.207290</td>\n",
       "      <td>-0.063879</td>\n",
       "      <td>0.082155</td>\n",
       "      <td>-0.128536</td>\n",
       "      <td>0.048737</td>\n",
       "      <td>-0.190271</td>\n",
       "      <td>0.046689</td>\n",
       "      <td>-0.063879</td>\n",
       "      <td>-0.076719</td>\n",
       "      <td>...</td>\n",
       "      <td>0.642968</td>\n",
       "      <td>0.681413</td>\n",
       "      <td>0.646863</td>\n",
       "      <td>0.589118</td>\n",
       "      <td>1.000000</td>\n",
       "      <td>0.574691</td>\n",
       "      <td>0.592044</td>\n",
       "      <td>0.631239</td>\n",
       "      <td>0.248813</td>\n",
       "      <td>-0.005813</td>\n",
       "    </tr>\n",
       "    <tr>\n",
       "      <th>Are you clear with the venue details and the landmark.</th>\n",
       "      <td>0.043337</td>\n",
       "      <td>-0.170705</td>\n",
       "      <td>-0.017850</td>\n",
       "      <td>0.073732</td>\n",
       "      <td>-0.136498</td>\n",
       "      <td>0.067439</td>\n",
       "      <td>-0.170482</td>\n",
       "      <td>0.028082</td>\n",
       "      <td>-0.017850</td>\n",
       "      <td>-0.001643</td>\n",
       "      <td>...</td>\n",
       "      <td>0.568101</td>\n",
       "      <td>0.646569</td>\n",
       "      <td>0.574108</td>\n",
       "      <td>0.540054</td>\n",
       "      <td>0.574691</td>\n",
       "      <td>1.000000</td>\n",
       "      <td>0.669645</td>\n",
       "      <td>0.564553</td>\n",
       "      <td>0.219590</td>\n",
       "      <td>0.052405</td>\n",
       "    </tr>\n",
       "    <tr>\n",
       "      <th>Has the call letter been shared</th>\n",
       "      <td>0.057279</td>\n",
       "      <td>-0.198931</td>\n",
       "      <td>-0.036226</td>\n",
       "      <td>0.096563</td>\n",
       "      <td>-0.179256</td>\n",
       "      <td>0.040023</td>\n",
       "      <td>-0.180479</td>\n",
       "      <td>0.079490</td>\n",
       "      <td>-0.036226</td>\n",
       "      <td>-0.060594</td>\n",
       "      <td>...</td>\n",
       "      <td>0.638819</td>\n",
       "      <td>0.594004</td>\n",
       "      <td>0.506828</td>\n",
       "      <td>0.512223</td>\n",
       "      <td>0.592044</td>\n",
       "      <td>0.669645</td>\n",
       "      <td>1.000000</td>\n",
       "      <td>0.691694</td>\n",
       "      <td>0.264065</td>\n",
       "      <td>0.004605</td>\n",
       "    </tr>\n",
       "    <tr>\n",
       "      <th>Expected Attendance</th>\n",
       "      <td>0.060860</td>\n",
       "      <td>-0.245851</td>\n",
       "      <td>-0.080030</td>\n",
       "      <td>0.160751</td>\n",
       "      <td>-0.246146</td>\n",
       "      <td>-0.020292</td>\n",
       "      <td>-0.162510</td>\n",
       "      <td>0.044108</td>\n",
       "      <td>-0.080030</td>\n",
       "      <td>-0.078367</td>\n",
       "      <td>...</td>\n",
       "      <td>0.754297</td>\n",
       "      <td>0.539161</td>\n",
       "      <td>0.520930</td>\n",
       "      <td>0.669543</td>\n",
       "      <td>0.631239</td>\n",
       "      <td>0.564553</td>\n",
       "      <td>0.691694</td>\n",
       "      <td>1.000000</td>\n",
       "      <td>0.336756</td>\n",
       "      <td>0.009323</td>\n",
       "    </tr>\n",
       "    <tr>\n",
       "      <th>Observed Attendance</th>\n",
       "      <td>-0.065908</td>\n",
       "      <td>-0.076402</td>\n",
       "      <td>0.037683</td>\n",
       "      <td>-0.074595</td>\n",
       "      <td>-0.052959</td>\n",
       "      <td>0.090544</td>\n",
       "      <td>-0.058298</td>\n",
       "      <td>0.016947</td>\n",
       "      <td>0.037683</td>\n",
       "      <td>0.039596</td>\n",
       "      <td>...</td>\n",
       "      <td>0.317181</td>\n",
       "      <td>0.230492</td>\n",
       "      <td>0.168207</td>\n",
       "      <td>0.230053</td>\n",
       "      <td>0.248813</td>\n",
       "      <td>0.219590</td>\n",
       "      <td>0.264065</td>\n",
       "      <td>0.336756</td>\n",
       "      <td>1.000000</td>\n",
       "      <td>-0.015252</td>\n",
       "    </tr>\n",
       "    <tr>\n",
       "      <th>Marital Status</th>\n",
       "      <td>0.047244</td>\n",
       "      <td>-0.163351</td>\n",
       "      <td>0.014878</td>\n",
       "      <td>0.051161</td>\n",
       "      <td>-0.026499</td>\n",
       "      <td>-0.035297</td>\n",
       "      <td>-0.123461</td>\n",
       "      <td>0.213444</td>\n",
       "      <td>0.014878</td>\n",
       "      <td>0.004318</td>\n",
       "      <td>...</td>\n",
       "      <td>0.005723</td>\n",
       "      <td>0.030392</td>\n",
       "      <td>0.053096</td>\n",
       "      <td>0.005842</td>\n",
       "      <td>-0.005813</td>\n",
       "      <td>0.052405</td>\n",
       "      <td>0.004605</td>\n",
       "      <td>0.009323</td>\n",
       "      <td>-0.015252</td>\n",
       "      <td>1.000000</td>\n",
       "    </tr>\n",
       "  </tbody>\n",
       "</table>\n",
       "<p>22 rows × 22 columns</p>\n",
       "</div>"
      ],
      "text/plain": [
       "                                                    Client name  Industry  \\\n",
       "Client name                                            1.000000 -0.469408   \n",
       "Industry                                              -0.469408  1.000000   \n",
       "Location                                              -0.346506  0.399549   \n",
       "Position to be closed                                  0.465948 -0.409031   \n",
       "Nature of Skillset                                    -0.100819  0.313945   \n",
       "Interview Type                                        -0.067288  0.036689   \n",
       "Name(Cand ID)                                         -0.056621  0.197539   \n",
       "Gender                                                 0.015720  0.028693   \n",
       "Candidate Current Location                            -0.346506  0.399549   \n",
       "Candidate Job Location                                -0.309047  0.404649   \n",
       "Interview Venue                                       -0.344961  0.443324   \n",
       "Candidate Native location                             -0.095392  0.157111   \n",
       "Have you obtained the necessary permission to s...     0.020902 -0.242499   \n",
       "Hope there will be no unscheduled meetings             0.056088 -0.258941   \n",
       "Can I Call you three hours before the interview...     0.089738 -0.222205   \n",
       "Can I have an alternative number/ desk number. ...     0.073133 -0.196082   \n",
       "Have you taken a printout of your updated resum...     0.043719 -0.207290   \n",
       "Are you clear with the venue details and the la...     0.043337 -0.170705   \n",
       "Has the call letter been shared                        0.057279 -0.198931   \n",
       "Expected Attendance                                    0.060860 -0.245851   \n",
       "Observed Attendance                                   -0.065908 -0.076402   \n",
       "Marital Status                                         0.047244 -0.163351   \n",
       "\n",
       "                                                    Location  \\\n",
       "Client name                                        -0.346506   \n",
       "Industry                                            0.399549   \n",
       "Location                                            1.000000   \n",
       "Position to be closed                              -0.123243   \n",
       "Nature of Skillset                                  0.119691   \n",
       "Interview Type                                      0.230110   \n",
       "Name(Cand ID)                                       0.129167   \n",
       "Gender                                             -0.064325   \n",
       "Candidate Current Location                          1.000000   \n",
       "Candidate Job Location                              0.822929   \n",
       "Interview Venue                                     0.908384   \n",
       "Candidate Native location                           0.227848   \n",
       "Have you obtained the necessary permission to s... -0.000053   \n",
       "Hope there will be no unscheduled meetings         -0.010508   \n",
       "Can I Call you three hours before the interview... -0.043464   \n",
       "Can I have an alternative number/ desk number. ... -0.050769   \n",
       "Have you taken a printout of your updated resum... -0.063879   \n",
       "Are you clear with the venue details and the la... -0.017850   \n",
       "Has the call letter been shared                    -0.036226   \n",
       "Expected Attendance                                -0.080030   \n",
       "Observed Attendance                                 0.037683   \n",
       "Marital Status                                      0.014878   \n",
       "\n",
       "                                                    Position to be closed  \\\n",
       "Client name                                                      0.465948   \n",
       "Industry                                                        -0.409031   \n",
       "Location                                                        -0.123243   \n",
       "Position to be closed                                            1.000000   \n",
       "Nature of Skillset                                              -0.372100   \n",
       "Interview Type                                                  -0.204600   \n",
       "Name(Cand ID)                                                    0.044560   \n",
       "Gender                                                          -0.029094   \n",
       "Candidate Current Location                                      -0.123243   \n",
       "Candidate Job Location                                          -0.024404   \n",
       "Interview Venue                                                 -0.102346   \n",
       "Candidate Native location                                       -0.139477   \n",
       "Have you obtained the necessary permission to s...               0.196969   \n",
       "Hope there will be no unscheduled meetings                       0.123611   \n",
       "Can I Call you three hours before the interview...               0.035763   \n",
       "Can I have an alternative number/ desk number. ...               0.080100   \n",
       "Have you taken a printout of your updated resum...               0.082155   \n",
       "Are you clear with the venue details and the la...               0.073732   \n",
       "Has the call letter been shared                                  0.096563   \n",
       "Expected Attendance                                              0.160751   \n",
       "Observed Attendance                                             -0.074595   \n",
       "Marital Status                                                   0.051161   \n",
       "\n",
       "                                                    Nature of Skillset  \\\n",
       "Client name                                                  -0.100819   \n",
       "Industry                                                      0.313945   \n",
       "Location                                                      0.119691   \n",
       "Position to be closed                                        -0.372100   \n",
       "Nature of Skillset                                            1.000000   \n",
       "Interview Type                                                0.021721   \n",
       "Name(Cand ID)                                                 0.003691   \n",
       "Gender                                                       -0.071396   \n",
       "Candidate Current Location                                    0.119691   \n",
       "Candidate Job Location                                        0.079701   \n",
       "Interview Venue                                               0.119689   \n",
       "Candidate Native location                                     0.016919   \n",
       "Have you obtained the necessary permission to s...           -0.227766   \n",
       "Hope there will be no unscheduled meetings                   -0.131595   \n",
       "Can I Call you three hours before the interview...           -0.083550   \n",
       "Can I have an alternative number/ desk number. ...           -0.149520   \n",
       "Have you taken a printout of your updated resum...           -0.128536   \n",
       "Are you clear with the venue details and the la...           -0.136498   \n",
       "Has the call letter been shared                              -0.179256   \n",
       "Expected Attendance                                          -0.246146   \n",
       "Observed Attendance                                          -0.052959   \n",
       "Marital Status                                               -0.026499   \n",
       "\n",
       "                                                    Interview Type  \\\n",
       "Client name                                              -0.067288   \n",
       "Industry                                                  0.036689   \n",
       "Location                                                  0.230110   \n",
       "Position to be closed                                    -0.204600   \n",
       "Nature of Skillset                                        0.021721   \n",
       "Interview Type                                            1.000000   \n",
       "Name(Cand ID)                                            -0.081014   \n",
       "Gender                                                    0.023813   \n",
       "Candidate Current Location                                0.230110   \n",
       "Candidate Job Location                                    0.240794   \n",
       "Interview Venue                                           0.239387   \n",
       "Candidate Native location                                 0.201630   \n",
       "Have you obtained the necessary permission to s...        0.000078   \n",
       "Hope there will be no unscheduled meetings                0.085885   \n",
       "Can I Call you three hours before the interview...        0.094240   \n",
       "Can I have an alternative number/ desk number. ...        0.060383   \n",
       "Have you taken a printout of your updated resum...        0.048737   \n",
       "Are you clear with the venue details and the la...        0.067439   \n",
       "Has the call letter been shared                           0.040023   \n",
       "Expected Attendance                                      -0.020292   \n",
       "Observed Attendance                                       0.090544   \n",
       "Marital Status                                           -0.035297   \n",
       "\n",
       "                                                    Name(Cand ID)    Gender  \\\n",
       "Client name                                             -0.056621  0.015720   \n",
       "Industry                                                 0.197539  0.028693   \n",
       "Location                                                 0.129167 -0.064325   \n",
       "Position to be closed                                    0.044560 -0.029094   \n",
       "Nature of Skillset                                       0.003691 -0.071396   \n",
       "Interview Type                                          -0.081014  0.023813   \n",
       "Name(Cand ID)                                            1.000000 -0.045216   \n",
       "Gender                                                  -0.045216  1.000000   \n",
       "Candidate Current Location                               0.129167 -0.064325   \n",
       "Candidate Job Location                                   0.130599 -0.051641   \n",
       "Interview Venue                                          0.100457 -0.041362   \n",
       "Candidate Native location                               -0.013100  0.035877   \n",
       "Have you obtained the necessary permission to s...      -0.184795  0.052798   \n",
       "Hope there will be no unscheduled meetings              -0.185035  0.017366   \n",
       "Can I Call you three hours before the interview...      -0.149283  0.009727   \n",
       "Can I have an alternative number/ desk number. ...      -0.170160  0.100987   \n",
       "Have you taken a printout of your updated resum...      -0.190271  0.046689   \n",
       "Are you clear with the venue details and the la...      -0.170482  0.028082   \n",
       "Has the call letter been shared                         -0.180479  0.079490   \n",
       "Expected Attendance                                     -0.162510  0.044108   \n",
       "Observed Attendance                                     -0.058298  0.016947   \n",
       "Marital Status                                          -0.123461  0.213444   \n",
       "\n",
       "                                                    Candidate Current Location  \\\n",
       "Client name                                                          -0.346506   \n",
       "Industry                                                              0.399549   \n",
       "Location                                                              1.000000   \n",
       "Position to be closed                                                -0.123243   \n",
       "Nature of Skillset                                                    0.119691   \n",
       "Interview Type                                                        0.230110   \n",
       "Name(Cand ID)                                                         0.129167   \n",
       "Gender                                                               -0.064325   \n",
       "Candidate Current Location                                            1.000000   \n",
       "Candidate Job Location                                                0.822929   \n",
       "Interview Venue                                                       0.908384   \n",
       "Candidate Native location                                             0.227848   \n",
       "Have you obtained the necessary permission to s...                   -0.000053   \n",
       "Hope there will be no unscheduled meetings                           -0.010508   \n",
       "Can I Call you three hours before the interview...                   -0.043464   \n",
       "Can I have an alternative number/ desk number. ...                   -0.050769   \n",
       "Have you taken a printout of your updated resum...                   -0.063879   \n",
       "Are you clear with the venue details and the la...                   -0.017850   \n",
       "Has the call letter been shared                                      -0.036226   \n",
       "Expected Attendance                                                  -0.080030   \n",
       "Observed Attendance                                                   0.037683   \n",
       "Marital Status                                                        0.014878   \n",
       "\n",
       "                                                    Candidate Job Location  \\\n",
       "Client name                                                      -0.309047   \n",
       "Industry                                                          0.404649   \n",
       "Location                                                          0.822929   \n",
       "Position to be closed                                            -0.024404   \n",
       "Nature of Skillset                                                0.079701   \n",
       "Interview Type                                                    0.240794   \n",
       "Name(Cand ID)                                                     0.130599   \n",
       "Gender                                                           -0.051641   \n",
       "Candidate Current Location                                        0.822929   \n",
       "Candidate Job Location                                            1.000000   \n",
       "Interview Venue                                                   0.884602   \n",
       "Candidate Native location                                         0.257545   \n",
       "Have you obtained the necessary permission to s...                0.000924   \n",
       "Hope there will be no unscheduled meetings                       -0.049103   \n",
       "Can I Call you three hours before the interview...               -0.044910   \n",
       "Can I have an alternative number/ desk number. ...               -0.033945   \n",
       "Have you taken a printout of your updated resum...               -0.076719   \n",
       "Are you clear with the venue details and the la...               -0.001643   \n",
       "Has the call letter been shared                                  -0.060594   \n",
       "Expected Attendance                                              -0.078367   \n",
       "Observed Attendance                                               0.039596   \n",
       "Marital Status                                                    0.004318   \n",
       "\n",
       "                                                         ...        \\\n",
       "Client name                                              ...         \n",
       "Industry                                                 ...         \n",
       "Location                                                 ...         \n",
       "Position to be closed                                    ...         \n",
       "Nature of Skillset                                       ...         \n",
       "Interview Type                                           ...         \n",
       "Name(Cand ID)                                            ...         \n",
       "Gender                                                   ...         \n",
       "Candidate Current Location                               ...         \n",
       "Candidate Job Location                                   ...         \n",
       "Interview Venue                                          ...         \n",
       "Candidate Native location                                ...         \n",
       "Have you obtained the necessary permission to s...       ...         \n",
       "Hope there will be no unscheduled meetings               ...         \n",
       "Can I Call you three hours before the interview...       ...         \n",
       "Can I have an alternative number/ desk number. ...       ...         \n",
       "Have you taken a printout of your updated resum...       ...         \n",
       "Are you clear with the venue details and the la...       ...         \n",
       "Has the call letter been shared                          ...         \n",
       "Expected Attendance                                      ...         \n",
       "Observed Attendance                                      ...         \n",
       "Marital Status                                           ...         \n",
       "\n",
       "                                                    Have you obtained the necessary permission to start at the required time  \\\n",
       "Client name                                                                                  0.020902                          \n",
       "Industry                                                                                    -0.242499                          \n",
       "Location                                                                                    -0.000053                          \n",
       "Position to be closed                                                                        0.196969                          \n",
       "Nature of Skillset                                                                          -0.227766                          \n",
       "Interview Type                                                                               0.000078                          \n",
       "Name(Cand ID)                                                                               -0.184795                          \n",
       "Gender                                                                                       0.052798                          \n",
       "Candidate Current Location                                                                  -0.000053                          \n",
       "Candidate Job Location                                                                       0.000924                          \n",
       "Interview Venue                                                                              0.011649                          \n",
       "Candidate Native location                                                                   -0.055786                          \n",
       "Have you obtained the necessary permission to s...                                           1.000000                          \n",
       "Hope there will be no unscheduled meetings                                                   0.642001                          \n",
       "Can I Call you three hours before the interview...                                           0.469815                          \n",
       "Can I have an alternative number/ desk number. ...                                           0.544762                          \n",
       "Have you taken a printout of your updated resum...                                           0.642968                          \n",
       "Are you clear with the venue details and the la...                                           0.568101                          \n",
       "Has the call letter been shared                                                              0.638819                          \n",
       "Expected Attendance                                                                          0.754297                          \n",
       "Observed Attendance                                                                          0.317181                          \n",
       "Marital Status                                                                               0.005723                          \n",
       "\n",
       "                                                    Hope there will be no unscheduled meetings  \\\n",
       "Client name                                                                           0.056088   \n",
       "Industry                                                                             -0.258941   \n",
       "Location                                                                             -0.010508   \n",
       "Position to be closed                                                                 0.123611   \n",
       "Nature of Skillset                                                                   -0.131595   \n",
       "Interview Type                                                                        0.085885   \n",
       "Name(Cand ID)                                                                        -0.185035   \n",
       "Gender                                                                                0.017366   \n",
       "Candidate Current Location                                                           -0.010508   \n",
       "Candidate Job Location                                                               -0.049103   \n",
       "Interview Venue                                                                      -0.032150   \n",
       "Candidate Native location                                                            -0.025685   \n",
       "Have you obtained the necessary permission to s...                                    0.642001   \n",
       "Hope there will be no unscheduled meetings                                            1.000000   \n",
       "Can I Call you three hours before the interview...                                    0.656541   \n",
       "Can I have an alternative number/ desk number. ...                                    0.614272   \n",
       "Have you taken a printout of your updated resum...                                    0.681413   \n",
       "Are you clear with the venue details and the la...                                    0.646569   \n",
       "Has the call letter been shared                                                       0.594004   \n",
       "Expected Attendance                                                                   0.539161   \n",
       "Observed Attendance                                                                   0.230492   \n",
       "Marital Status                                                                        0.030392   \n",
       "\n",
       "                                                    Can I Call you three hours before the interview and follow up on your attendance for the interview  \\\n",
       "Client name                                                                                  0.089738                                                    \n",
       "Industry                                                                                    -0.222205                                                    \n",
       "Location                                                                                    -0.043464                                                    \n",
       "Position to be closed                                                                        0.035763                                                    \n",
       "Nature of Skillset                                                                          -0.083550                                                    \n",
       "Interview Type                                                                               0.094240                                                    \n",
       "Name(Cand ID)                                                                               -0.149283                                                    \n",
       "Gender                                                                                       0.009727                                                    \n",
       "Candidate Current Location                                                                  -0.043464                                                    \n",
       "Candidate Job Location                                                                      -0.044910                                                    \n",
       "Interview Venue                                                                             -0.061555                                                    \n",
       "Candidate Native location                                                                    0.010446                                                    \n",
       "Have you obtained the necessary permission to s...                                           0.469815                                                    \n",
       "Hope there will be no unscheduled meetings                                                   0.656541                                                    \n",
       "Can I Call you three hours before the interview...                                           1.000000                                                    \n",
       "Can I have an alternative number/ desk number. ...                                           0.608955                                                    \n",
       "Have you taken a printout of your updated resum...                                           0.646863                                                    \n",
       "Are you clear with the venue details and the la...                                           0.574108                                                    \n",
       "Has the call letter been shared                                                              0.506828                                                    \n",
       "Expected Attendance                                                                          0.520930                                                    \n",
       "Observed Attendance                                                                          0.168207                                                    \n",
       "Marital Status                                                                               0.053096                                                    \n",
       "\n",
       "                                                    Can I have an alternative number/ desk number. I assure you that I will not trouble you too much  \\\n",
       "Client name                                                                                  0.073133                                                  \n",
       "Industry                                                                                    -0.196082                                                  \n",
       "Location                                                                                    -0.050769                                                  \n",
       "Position to be closed                                                                        0.080100                                                  \n",
       "Nature of Skillset                                                                          -0.149520                                                  \n",
       "Interview Type                                                                               0.060383                                                  \n",
       "Name(Cand ID)                                                                               -0.170160                                                  \n",
       "Gender                                                                                       0.100987                                                  \n",
       "Candidate Current Location                                                                  -0.050769                                                  \n",
       "Candidate Job Location                                                                      -0.033945                                                  \n",
       "Interview Venue                                                                             -0.052511                                                  \n",
       "Candidate Native location                                                                   -0.059252                                                  \n",
       "Have you obtained the necessary permission to s...                                           0.544762                                                  \n",
       "Hope there will be no unscheduled meetings                                                   0.614272                                                  \n",
       "Can I Call you three hours before the interview...                                           0.608955                                                  \n",
       "Can I have an alternative number/ desk number. ...                                           1.000000                                                  \n",
       "Have you taken a printout of your updated resum...                                           0.589118                                                  \n",
       "Are you clear with the venue details and the la...                                           0.540054                                                  \n",
       "Has the call letter been shared                                                              0.512223                                                  \n",
       "Expected Attendance                                                                          0.669543                                                  \n",
       "Observed Attendance                                                                          0.230053                                                  \n",
       "Marital Status                                                                               0.005842                                                  \n",
       "\n",
       "                                                    Have you taken a printout of your updated resume. Have you read the JD and understood the same  \\\n",
       "Client name                                                                                  0.043719                                                \n",
       "Industry                                                                                    -0.207290                                                \n",
       "Location                                                                                    -0.063879                                                \n",
       "Position to be closed                                                                        0.082155                                                \n",
       "Nature of Skillset                                                                          -0.128536                                                \n",
       "Interview Type                                                                               0.048737                                                \n",
       "Name(Cand ID)                                                                               -0.190271                                                \n",
       "Gender                                                                                       0.046689                                                \n",
       "Candidate Current Location                                                                  -0.063879                                                \n",
       "Candidate Job Location                                                                      -0.076719                                                \n",
       "Interview Venue                                                                             -0.066137                                                \n",
       "Candidate Native location                                                                   -0.057650                                                \n",
       "Have you obtained the necessary permission to s...                                           0.642968                                                \n",
       "Hope there will be no unscheduled meetings                                                   0.681413                                                \n",
       "Can I Call you three hours before the interview...                                           0.646863                                                \n",
       "Can I have an alternative number/ desk number. ...                                           0.589118                                                \n",
       "Have you taken a printout of your updated resum...                                           1.000000                                                \n",
       "Are you clear with the venue details and the la...                                           0.574691                                                \n",
       "Has the call letter been shared                                                              0.592044                                                \n",
       "Expected Attendance                                                                          0.631239                                                \n",
       "Observed Attendance                                                                          0.248813                                                \n",
       "Marital Status                                                                              -0.005813                                                \n",
       "\n",
       "                                                    Are you clear with the venue details and the landmark.  \\\n",
       "Client name                                                                                  0.043337        \n",
       "Industry                                                                                    -0.170705        \n",
       "Location                                                                                    -0.017850        \n",
       "Position to be closed                                                                        0.073732        \n",
       "Nature of Skillset                                                                          -0.136498        \n",
       "Interview Type                                                                               0.067439        \n",
       "Name(Cand ID)                                                                               -0.170482        \n",
       "Gender                                                                                       0.028082        \n",
       "Candidate Current Location                                                                  -0.017850        \n",
       "Candidate Job Location                                                                      -0.001643        \n",
       "Interview Venue                                                                             -0.013374        \n",
       "Candidate Native location                                                                    0.018515        \n",
       "Have you obtained the necessary permission to s...                                           0.568101        \n",
       "Hope there will be no unscheduled meetings                                                   0.646569        \n",
       "Can I Call you three hours before the interview...                                           0.574108        \n",
       "Can I have an alternative number/ desk number. ...                                           0.540054        \n",
       "Have you taken a printout of your updated resum...                                           0.574691        \n",
       "Are you clear with the venue details and the la...                                           1.000000        \n",
       "Has the call letter been shared                                                              0.669645        \n",
       "Expected Attendance                                                                          0.564553        \n",
       "Observed Attendance                                                                          0.219590        \n",
       "Marital Status                                                                               0.052405        \n",
       "\n",
       "                                                    Has the call letter been shared  \\\n",
       "Client name                                                                0.057279   \n",
       "Industry                                                                  -0.198931   \n",
       "Location                                                                  -0.036226   \n",
       "Position to be closed                                                      0.096563   \n",
       "Nature of Skillset                                                        -0.179256   \n",
       "Interview Type                                                             0.040023   \n",
       "Name(Cand ID)                                                             -0.180479   \n",
       "Gender                                                                     0.079490   \n",
       "Candidate Current Location                                                -0.036226   \n",
       "Candidate Job Location                                                    -0.060594   \n",
       "Interview Venue                                                           -0.037401   \n",
       "Candidate Native location                                                  0.001289   \n",
       "Have you obtained the necessary permission to s...                         0.638819   \n",
       "Hope there will be no unscheduled meetings                                 0.594004   \n",
       "Can I Call you three hours before the interview...                         0.506828   \n",
       "Can I have an alternative number/ desk number. ...                         0.512223   \n",
       "Have you taken a printout of your updated resum...                         0.592044   \n",
       "Are you clear with the venue details and the la...                         0.669645   \n",
       "Has the call letter been shared                                            1.000000   \n",
       "Expected Attendance                                                        0.691694   \n",
       "Observed Attendance                                                        0.264065   \n",
       "Marital Status                                                             0.004605   \n",
       "\n",
       "                                                    Expected Attendance  \\\n",
       "Client name                                                    0.060860   \n",
       "Industry                                                      -0.245851   \n",
       "Location                                                      -0.080030   \n",
       "Position to be closed                                          0.160751   \n",
       "Nature of Skillset                                            -0.246146   \n",
       "Interview Type                                                -0.020292   \n",
       "Name(Cand ID)                                                 -0.162510   \n",
       "Gender                                                         0.044108   \n",
       "Candidate Current Location                                    -0.080030   \n",
       "Candidate Job Location                                        -0.078367   \n",
       "Interview Venue                                               -0.101443   \n",
       "Candidate Native location                                     -0.100226   \n",
       "Have you obtained the necessary permission to s...             0.754297   \n",
       "Hope there will be no unscheduled meetings                     0.539161   \n",
       "Can I Call you three hours before the interview...             0.520930   \n",
       "Can I have an alternative number/ desk number. ...             0.669543   \n",
       "Have you taken a printout of your updated resum...             0.631239   \n",
       "Are you clear with the venue details and the la...             0.564553   \n",
       "Has the call letter been shared                                0.691694   \n",
       "Expected Attendance                                            1.000000   \n",
       "Observed Attendance                                            0.336756   \n",
       "Marital Status                                                 0.009323   \n",
       "\n",
       "                                                    Observed Attendance  \\\n",
       "Client name                                                   -0.065908   \n",
       "Industry                                                      -0.076402   \n",
       "Location                                                       0.037683   \n",
       "Position to be closed                                         -0.074595   \n",
       "Nature of Skillset                                            -0.052959   \n",
       "Interview Type                                                 0.090544   \n",
       "Name(Cand ID)                                                 -0.058298   \n",
       "Gender                                                         0.016947   \n",
       "Candidate Current Location                                     0.037683   \n",
       "Candidate Job Location                                         0.039596   \n",
       "Interview Venue                                                0.031677   \n",
       "Candidate Native location                                      0.033190   \n",
       "Have you obtained the necessary permission to s...             0.317181   \n",
       "Hope there will be no unscheduled meetings                     0.230492   \n",
       "Can I Call you three hours before the interview...             0.168207   \n",
       "Can I have an alternative number/ desk number. ...             0.230053   \n",
       "Have you taken a printout of your updated resum...             0.248813   \n",
       "Are you clear with the venue details and the la...             0.219590   \n",
       "Has the call letter been shared                                0.264065   \n",
       "Expected Attendance                                            0.336756   \n",
       "Observed Attendance                                            1.000000   \n",
       "Marital Status                                                -0.015252   \n",
       "\n",
       "                                                    Marital Status  \n",
       "Client name                                               0.047244  \n",
       "Industry                                                 -0.163351  \n",
       "Location                                                  0.014878  \n",
       "Position to be closed                                     0.051161  \n",
       "Nature of Skillset                                       -0.026499  \n",
       "Interview Type                                           -0.035297  \n",
       "Name(Cand ID)                                            -0.123461  \n",
       "Gender                                                    0.213444  \n",
       "Candidate Current Location                                0.014878  \n",
       "Candidate Job Location                                    0.004318  \n",
       "Interview Venue                                          -0.016806  \n",
       "Candidate Native location                                -0.026960  \n",
       "Have you obtained the necessary permission to s...        0.005723  \n",
       "Hope there will be no unscheduled meetings                0.030392  \n",
       "Can I Call you three hours before the interview...        0.053096  \n",
       "Can I have an alternative number/ desk number. ...        0.005842  \n",
       "Have you taken a printout of your updated resum...       -0.005813  \n",
       "Are you clear with the venue details and the la...        0.052405  \n",
       "Has the call letter been shared                           0.004605  \n",
       "Expected Attendance                                       0.009323  \n",
       "Observed Attendance                                      -0.015252  \n",
       "Marital Status                                            1.000000  \n",
       "\n",
       "[22 rows x 22 columns]"
      ]
     },
     "execution_count": 128,
     "metadata": {},
     "output_type": "execute_result"
    }
   ],
   "source": [
    "Finaldata.corr()"
   ]
  },
  {
   "cell_type": "code",
   "execution_count": 129,
   "metadata": {},
   "outputs": [
    {
     "data": {
      "text/plain": [
       "<matplotlib.axes._subplots.AxesSubplot at 0xc7ac128>"
      ]
     },
     "execution_count": 129,
     "metadata": {},
     "output_type": "execute_result"
    },
    {
     "data": {
      "image/png": "[encoded data removed]",
      "text/plain": [
       "<Figure size 1080x864 with 2 Axes>"
      ]
     },
     "metadata": {
      "needs_background": "light"
     },
     "output_type": "display_data"
    }
   ],
   "source": [
    "plt.figure(figsize=(15,12))\n",
    "cor = round(Finaldata.corr(),2)\n",
    "sns.heatmap(cor, cmap = sns.color_palette('BuGn'), annot = True)"
   ]
  },
  {
   "cell_type": "code",
   "execution_count": 130,
   "metadata": {},
   "outputs": [],
   "source": [
    "Y = Finaldata['Observed Attendance']\n",
    "Finaldata.drop(['Observed Attendance'], axis = 1, inplace = True)"
   ]
  },
  {
   "cell_type": "code",
   "execution_count": 187,
   "metadata": {},
   "outputs": [],
   "source": [
    "# Spltting Data in Training and Testing Data\n",
    "from sklearn.cross_validation import train_test_split\n",
    "X_train,X_test,Y_train,Y_test = train_test_split(Finaldata,Y,test_size=0.20, random_state = 42)"
   ]
  },
  {
   "cell_type": "code",
   "execution_count": 172,
   "metadata": {},
   "outputs": [],
   "source": [
    "#Algorithm Selection - Logistic Regression"
   ]
  },
  {
   "cell_type": "code",
   "execution_count": 189,
   "metadata": {},
   "outputs": [],
   "source": [
    "from sklearn.linear_model import LogisticRegression\n",
    "from sklearn.metrics import confusion_matrix, classification_report, roc_auc_score, accuracy_score, precision_score,recall_score\n",
    "\n",
    "#Create a Logistic Regression classifier\n",
    "lm = linear_model.LinearRegression()\n",
    "\n",
    "\n",
    "# Train the model using the training sets \n",
    "model = lm.fit(X_train, Y_train)\n",
    "log=LogisticRegression()\n",
    "result  = log.fit(X_train,Y_train)\n",
    "#model.fit(X_train, Y_train)\n",
    "\n",
    "#Predict Output \n",
    "\n",
    "lm_predicted= result.predict(X_train)\n",
    "lm_predict_test = result.predict(X_test)\n",
    "#predict_test = model.predict(X_test)"
   ]
  },
  {
   "cell_type": "code",
   "execution_count": 190,
   "metadata": {},
   "outputs": [
    {
     "name": "stdout",
     "output_type": "stream",
     "text": [
      "             precision    recall  f1-score   support\n",
      "\n",
      "          0       0.68      0.27      0.39        63\n",
      "          1       0.73      0.94      0.82       133\n",
      "\n",
      "avg / total       0.71      0.72      0.68       196\n",
      "\n"
     ]
    }
   ],
   "source": [
    "#Let's see how our model performed on Test data\n",
    "print(classification_report(Y_test, lm_predict_test))"
   ]
  },
  {
   "cell_type": "code",
   "execution_count": 191,
   "metadata": {},
   "outputs": [
    {
     "name": "stdout",
     "output_type": "stream",
     "text": [
      "[[ 17  46]\n",
      " [  8 125]]\n"
     ]
    }
   ],
   "source": [
    "#Confusion matrix\n",
    "print(confusion_matrix(Y_test, lm_predict_test))"
   ]
  },
  {
   "cell_type": "code",
   "execution_count": 192,
   "metadata": {},
   "outputs": [
    {
     "data": {
      "text/plain": [
       "Text(0.5,257.44,'Predicted label')"
      ]
     },
     "execution_count": 192,
     "metadata": {},
     "output_type": "execute_result"
    },
    {
     "data": {
      "image/png": "[encoded data removed]",
      "text/plain": [
       "<Figure size 432x288 with 2 Axes>"
      ]
     },
     "metadata": {
      "needs_background": "light"
     },
     "output_type": "display_data"
    }
   ],
   "source": [
    "class_names=[0,1] # name  of classes\n",
    "fig, ax = plt.subplots()\n",
    "tick_marks = np.arange(len(class_names))\n",
    "plt.xticks(tick_marks, class_names)\n",
    "plt.yticks(tick_marks, class_names)\n",
    "# create heatmap\n",
    "sns.heatmap(confusion_matrix(Y_test, lm_predict_test), annot=True, cmap=\"YlGnBu\" ,fmt='g')\n",
    "ax.xaxis.set_label_position(\"top\")\n",
    "plt.tight_layout()\n",
    "plt.title('Confusion matrix', y=1.1)\n",
    "plt.ylabel('Actual label')\n",
    "plt.xlabel('Predicted label')"
   ]
  },
  {
   "cell_type": "code",
   "execution_count": 193,
   "metadata": {},
   "outputs": [
    {
     "name": "stdout",
     "output_type": "stream",
     "text": [
      "Train Accuracy Score: 0.7448979591836735\n",
      "Test Accuracy Score: 0.7244897959183674\n"
     ]
    }
   ],
   "source": [
    "#Train and Test Accuracy\n",
    "print(\"Train Accuracy Score:\", accuracy_score(Y_train, lm_predicted))\n",
    "print(\"Test Accuracy Score:\", accuracy_score(Y_test, lm_predict_test))"
   ]
  },
  {
   "cell_type": "code",
   "execution_count": 194,
   "metadata": {},
   "outputs": [
    {
     "name": "stdout",
     "output_type": "stream",
     "text": [
      "Accuracy: 0.7244897959183674\n",
      "Precision: 0.7309941520467836\n",
      "Recall: 0.9398496240601504\n"
     ]
    }
   ],
   "source": [
    "#Confusion Matrix Evaluation Metrics\n",
    "#test Score\n",
    "print(\"Accuracy:\",accuracy_score(Y_test, lm_predict_test))\n",
    "print(\"Precision:\",precision_score(Y_test, lm_predict_test))\n",
    "print(\"Recall:\",recall_score(Y_test, lm_predict_test))"
   ]
  },
  {
   "cell_type": "code",
   "execution_count": 195,
   "metadata": {},
   "outputs": [
    {
     "name": "stdout",
     "output_type": "stream",
     "text": [
      "Accuracy: 0.7448979591836735\n",
      "Precision: 0.7391304347826086\n",
      "Recall: 0.9741219963031423\n"
     ]
    }
   ],
   "source": [
    "#train score\n",
    "print(\"Accuracy:\",accuracy_score(Y_train, lm_predicted))\n",
    "print(\"Precision:\",precision_score(Y_train, lm_predicted))\n",
    "print(\"Recall:\",recall_score(Y_train, lm_predicted))"
   ]
  },
  {
   "cell_type": "code",
   "execution_count": null,
   "metadata": {},
   "outputs": [],
   "source": []
  }
 ],
 "metadata": {
  "kernelspec": {
   "display_name": "Python 3",
   "language": "python",
   "name": "python3"
  },
  "language_info": {
   "codemirror_mode": {
    "name": "ipython",
    "version": 3
   },
   "file_extension": ".py",
   "mimetype": "text/x-python",
   "name": "python",
   "nbconvert_exporter": "python",
   "pygments_lexer": "ipython3",
   "version": "3.7.0"
  }
 },
 "nbformat": 4,
 "nbformat_minor": 2
}
